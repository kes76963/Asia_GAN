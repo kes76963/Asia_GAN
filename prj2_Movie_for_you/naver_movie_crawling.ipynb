{
 "cells": [
  {
   "cell_type": "code",
   "execution_count": 1,
   "metadata": {},
   "outputs": [],
   "source": [
    "from bs4 import BeautifulSoup\n",
    "import pandas as pd\n",
    "import requests\n",
    "import re\n",
    "import time"
   ]
  },
  {
   "cell_type": "code",
   "execution_count": 2,
   "metadata": {},
   "outputs": [
    {
     "data": {
      "text/plain": [
       "'\\nㅇ영화 고유 번호 :\\nㅇ리뷰 유무 : https://movie.naver.com/movie/bi/mi/review.nhn?code=140265&page=1 #151587\\nㅇ리뷰 개수 : 파악 for문 돌릴 때 필요\\nㅇ리뷰 링크 : https://movie.naver.com/movie/bi/mi/reviewread.nhn?nid=4225025&code=140265&order=#tab\\n\\n'"
      ]
     },
     "execution_count": 2,
     "metadata": {},
     "output_type": "execute_result"
    }
   ],
   "source": [
    "year = ['2016','2017','2018','2019','2020']\n",
    "'''\n",
    "ㅇ영화 고유 번호 :\n",
    "ㅇ리뷰 유무 : https://movie.naver.com/movie/bi/mi/review.nhn?code=140265&page=1 #151587\n",
    "ㅇ리뷰 개수 : 파악 for문 돌릴 때 필요\n",
    "ㅇ리뷰 링크 : https://movie.naver.com/movie/bi/mi/reviewread.nhn?nid=4225025&code=140265&order=#tab\n",
    "\n",
    "'''"
   ]
  },
  {
   "cell_type": "code",
   "execution_count": 3,
   "metadata": {},
   "outputs": [],
   "source": [
    "year = [i for i in range(2010,2022)]\n",
    "year_num = [568,811,878,1219,1518,1410,1172,1051,999,850,731,510]"
   ]
  },
  {
   "cell_type": "code",
   "execution_count": null,
   "metadata": {},
   "outputs": [],
   "source": [
    "for i in range(len(year)):\n",
    "    a = int(year_num[i] / 20) +2\n"
   ]
  },
  {
   "cell_type": "code",
   "execution_count": 42,
   "metadata": {
    "scrolled": false
   },
   "outputs": [
    {
     "name": "stdout",
     "output_type": "stream",
     "text": [
      "10 페이지 완료 /20 페이지 완료 /30 페이지 완료 /40 페이지 완료 /50 페이지 완료 /60 페이지 완료 /\n",
      "2013 년도 영화 제목, href 파악\n"
     ]
    }
   ],
   "source": [
    "# 영화 고유 번호 크롤링 / 제목\n",
    "title_list = []\n",
    "url_list = []\n",
    "for i in range(1, int(year_num[1] / 20) +2):\n",
    "    url = f\"https://movie.naver.com/movie/sdb/browsing/bmovie.nhn?open={2013}&page={i}\"\n",
    "    req = requests.get(url)\n",
    "    soup = BeautifulSoup(req.text, \"html.parser\")\n",
    "    title = soup.select('ul.directory_list > li > a')\n",
    "\n",
    "    for k in title:\n",
    "        keyword = k.text\n",
    "        title_list.append(keyword) \n",
    "\n",
    "    for href in soup.find(\"ul\", class_=\"directory_list\").find_all(\"li\"):\n",
    "        list = href.find(\"a\")[\"href\"]\n",
    "        if 'code' in list :\n",
    "            url_list.append(list)\n",
    "    if i % 10 == 0 :\n",
    "         print(i,'페이지 완료 /', end='')\n",
    "#print(url_list)\n",
    "print('')\n",
    "print(year[3], '년도 영화 제목, href 파악')"
   ]
  },
  {
   "cell_type": "code",
   "execution_count": 25,
   "metadata": {
    "collapsed": true
   },
   "outputs": [
    {
     "name": "stdout",
     "output_type": "stream",
     "text": [
      "['/movie/bi/mi/basic.nhn?code=151587', '/movie/bi/mi/basic.nhn?code=140265', '/movie/bi/mi/basic.nhn?code=155172', '/movie/bi/mi/basic.nhn?code=154120', '/movie/bi/mi/basic.nhn?code=149721', '/movie/bi/mi/basic.nhn?code=150546', '/movie/bi/mi/basic.nhn?code=153476', '/movie/bi/mi/basic.nhn?code=151101', '/movie/bi/mi/basic.nhn?code=151100', '/movie/bi/mi/basic.nhn?code=147365', '/movie/bi/mi/basic.nhn?code=113352', '/movie/bi/mi/basic.nhn?code=19374', '/movie/bi/mi/basic.nhn?code=135694', '/movie/bi/mi/basic.nhn?code=132946', '/movie/bi/mi/basic.nhn?code=137308', '/movie/bi/mi/basic.nhn?code=156457', '/movie/bi/mi/basic.nhn?code=121365', '/movie/bi/mi/basic.nhn?code=155516', '/movie/bi/mi/basic.nhn?code=148438', '/movie/bi/mi/basic.nhn?code=155094', '/movie/bi/mi/basic.nhn?code=145285', '/movie/bi/mi/basic.nhn?code=150722', '/movie/bi/mi/basic.nhn?code=152709', '/movie/bi/mi/basic.nhn?code=148331', '/movie/bi/mi/basic.nhn?code=151699', '/movie/bi/mi/basic.nhn?code=149147', '/movie/bi/mi/basic.nhn?code=109097', '/movie/bi/mi/basic.nhn?code=141259', '/movie/bi/mi/basic.nhn?code=146961', '/movie/bi/mi/basic.nhn?code=154331', '/movie/bi/mi/basic.nhn?code=145741', '/movie/bi/mi/basic.nhn?code=147382', '/movie/bi/mi/basic.nhn?code=154125', '/movie/bi/mi/basic.nhn?code=106839', '/movie/bi/mi/basic.nhn?code=144355', '/movie/bi/mi/basic.nhn?code=150552', '/movie/bi/mi/basic.nhn?code=118967', '/movie/bi/mi/basic.nhn?code=119627', '/movie/bi/mi/basic.nhn?code=118711', '/movie/bi/mi/basic.nhn?code=145381', '/movie/bi/mi/basic.nhn?code=115620', '/movie/bi/mi/basic.nhn?code=99583', '/movie/bi/mi/basic.nhn?code=118953', '/movie/bi/mi/basic.nhn?code=110613', '/movie/bi/mi/basic.nhn?code=145804', '/movie/bi/mi/basic.nhn?code=145662', '/movie/bi/mi/basic.nhn?code=153417', '/movie/bi/mi/basic.nhn?code=130903', '/movie/bi/mi/basic.nhn?code=122566', '/movie/bi/mi/basic.nhn?code=143335', '/movie/bi/mi/basic.nhn?code=143337', '/movie/bi/mi/basic.nhn?code=143336', '/movie/bi/mi/basic.nhn?code=155414', '/movie/bi/mi/basic.nhn?code=145281', '/movie/bi/mi/basic.nhn?code=159041', '/movie/bi/mi/basic.nhn?code=61385', '/movie/bi/mi/basic.nhn?code=149532', '/movie/bi/mi/basic.nhn?code=155508', '/movie/bi/mi/basic.nhn?code=145350', '/movie/bi/mi/basic.nhn?code=146894', '/movie/bi/mi/basic.nhn?code=130358', '/movie/bi/mi/basic.nhn?code=95516', '/movie/bi/mi/basic.nhn?code=147342', '/movie/bi/mi/basic.nhn?code=132998', '/movie/bi/mi/basic.nhn?code=138572', '/movie/bi/mi/basic.nhn?code=133129', '/movie/bi/mi/basic.nhn?code=143213', '/movie/bi/mi/basic.nhn?code=134873', '/movie/bi/mi/basic.nhn?code=142291', '/movie/bi/mi/basic.nhn?code=147352', '/movie/bi/mi/basic.nhn?code=154609', '/movie/bi/mi/basic.nhn?code=121051', '/movie/bi/mi/basic.nhn?code=137689', '/movie/bi/mi/basic.nhn?code=151546', '/movie/bi/mi/basic.nhn?code=155749', '/movie/bi/mi/basic.nhn?code=155538', '/movie/bi/mi/basic.nhn?code=147334', '/movie/bi/mi/basic.nhn?code=84359', '/movie/bi/mi/basic.nhn?code=147319', '/movie/bi/mi/basic.nhn?code=153524', '/movie/bi/mi/basic.nhn?code=154186', '/movie/bi/mi/basic.nhn?code=148380', '/movie/bi/mi/basic.nhn?code=154612', '/movie/bi/mi/basic.nhn?code=127866', '/movie/bi/mi/basic.nhn?code=141824', '/movie/bi/mi/basic.nhn?code=109910', '/movie/bi/mi/basic.nhn?code=145775', '/movie/bi/mi/basic.nhn?code=143112', '/movie/bi/mi/basic.nhn?code=98739', '/movie/bi/mi/basic.nhn?code=139700', '/movie/bi/mi/basic.nhn?code=150611', '/movie/bi/mi/basic.nhn?code=153790', '/movie/bi/mi/basic.nhn?code=135843', '/movie/bi/mi/basic.nhn?code=62285', '/movie/bi/mi/basic.nhn?code=145379', '/movie/bi/mi/basic.nhn?code=158458', '/movie/bi/mi/basic.nhn?code=158900', '/movie/bi/mi/basic.nhn?code=144385', '/movie/bi/mi/basic.nhn?code=125209', '/movie/bi/mi/basic.nhn?code=99746', '/movie/bi/mi/basic.nhn?code=138084', '/movie/bi/mi/basic.nhn?code=158401', '/movie/bi/mi/basic.nhn?code=121772', '/movie/bi/mi/basic.nhn?code=149174', '/movie/bi/mi/basic.nhn?code=144109', '/movie/bi/mi/basic.nhn?code=145336', '/movie/bi/mi/basic.nhn?code=141675', '/movie/bi/mi/basic.nhn?code=134135', '/movie/bi/mi/basic.nhn?code=149645', '/movie/bi/mi/basic.nhn?code=137884', '/movie/bi/mi/basic.nhn?code=153781', '/movie/bi/mi/basic.nhn?code=71974', '/movie/bi/mi/basic.nhn?code=150117', '/movie/bi/mi/basic.nhn?code=146944', '/movie/bi/mi/basic.nhn?code=144338', '/movie/bi/mi/basic.nhn?code=148656', '/movie/bi/mi/basic.nhn?code=122511', '/movie/bi/mi/basic.nhn?code=154313', '/movie/bi/mi/basic.nhn?code=121061', '/movie/bi/mi/basic.nhn?code=52995', '/movie/bi/mi/basic.nhn?code=153406', '/movie/bi/mi/basic.nhn?code=145316', '/movie/bi/mi/basic.nhn?code=156613', '/movie/bi/mi/basic.nhn?code=151646', '/movie/bi/mi/basic.nhn?code=144347', '/movie/bi/mi/basic.nhn?code=152101', '/movie/bi/mi/basic.nhn?code=99351', '/movie/bi/mi/basic.nhn?code=146912', '/movie/bi/mi/basic.nhn?code=142211', '/movie/bi/mi/basic.nhn?code=140868', '/movie/bi/mi/basic.nhn?code=138243', '/movie/bi/mi/basic.nhn?code=144253', '/movie/bi/mi/basic.nhn?code=84851', '/movie/bi/mi/basic.nhn?code=151682', '/movie/bi/mi/basic.nhn?code=145667', '/movie/bi/mi/basic.nhn?code=146946', '/movie/bi/mi/basic.nhn?code=149596', '/movie/bi/mi/basic.nhn?code=150721', '/movie/bi/mi/basic.nhn?code=149149', '/movie/bi/mi/basic.nhn?code=150591', '/movie/bi/mi/basic.nhn?code=145280', '/movie/bi/mi/basic.nhn?code=150376', '/movie/bi/mi/basic.nhn?code=147301', '/movie/bi/mi/basic.nhn?code=138255', '/movie/bi/mi/basic.nhn?code=146081', '/movie/bi/mi/basic.nhn?code=107374', '/movie/bi/mi/basic.nhn?code=144772', '/movie/bi/mi/basic.nhn?code=134877', '/movie/bi/mi/basic.nhn?code=113344', '/movie/bi/mi/basic.nhn?code=137987', '/movie/bi/mi/basic.nhn?code=139857', '/movie/bi/mi/basic.nhn?code=146311', '/movie/bi/mi/basic.nhn?code=155541', '/movie/bi/mi/basic.nhn?code=142691', '/movie/bi/mi/basic.nhn?code=154055', '/movie/bi/mi/basic.nhn?code=127376', '/movie/bi/mi/basic.nhn?code=126058', '/movie/bi/mi/basic.nhn?code=149197', '/movie/bi/mi/basic.nhn?code=157076', '/movie/bi/mi/basic.nhn?code=137951', '/movie/bi/mi/basic.nhn?code=140718', '/movie/bi/mi/basic.nhn?code=122133', '/movie/bi/mi/basic.nhn?code=149590', '/movie/bi/mi/basic.nhn?code=154592', '/movie/bi/mi/basic.nhn?code=140741', '/movie/bi/mi/basic.nhn?code=152755', '/movie/bi/mi/basic.nhn?code=144675', '/movie/bi/mi/basic.nhn?code=42240', '/movie/bi/mi/basic.nhn?code=155625', '/movie/bi/mi/basic.nhn?code=148631', '/movie/bi/mi/basic.nhn?code=149634', '/movie/bi/mi/basic.nhn?code=152610', '/movie/bi/mi/basic.nhn?code=156645', '/movie/bi/mi/basic.nhn?code=153405', '/movie/bi/mi/basic.nhn?code=126112', '/movie/bi/mi/basic.nhn?code=153887', '/movie/bi/mi/basic.nhn?code=140811', '/movie/bi/mi/basic.nhn?code=150548', '/movie/bi/mi/basic.nhn?code=124031', '/movie/bi/mi/basic.nhn?code=156090', '/movie/bi/mi/basic.nhn?code=125461', '/movie/bi/mi/basic.nhn?code=154607', '/movie/bi/mi/basic.nhn?code=154185', '/movie/bi/mi/basic.nhn?code=152078', '/movie/bi/mi/basic.nhn?code=143952', '/movie/bi/mi/basic.nhn?code=144773', '/movie/bi/mi/basic.nhn?code=142372', '/movie/bi/mi/basic.nhn?code=141457', '/movie/bi/mi/basic.nhn?code=156629', '/movie/bi/mi/basic.nhn?code=137908', '/movie/bi/mi/basic.nhn?code=147945', '/movie/bi/mi/basic.nhn?code=149176', '/movie/bi/mi/basic.nhn?code=154623', '/movie/bi/mi/basic.nhn?code=139866', '/movie/bi/mi/basic.nhn?code=142241', '/movie/bi/mi/basic.nhn?code=148620', '/movie/bi/mi/basic.nhn?code=148608', '/movie/bi/mi/basic.nhn?code=119453', '/movie/bi/mi/basic.nhn?code=155503', '/movie/bi/mi/basic.nhn?code=145418', '/movie/bi/mi/basic.nhn?code=97791', '/movie/bi/mi/basic.nhn?code=125459', '/movie/bi/mi/basic.nhn?code=145777', '/movie/bi/mi/basic.nhn?code=152169', '/movie/bi/mi/basic.nhn?code=128774', '/movie/bi/mi/basic.nhn?code=144676', '/movie/bi/mi/basic.nhn?code=145292', '/movie/bi/mi/basic.nhn?code=150162', '/movie/bi/mi/basic.nhn?code=143543', '/movie/bi/mi/basic.nhn?code=151154', '/movie/bi/mi/basic.nhn?code=145151', '/movie/bi/mi/basic.nhn?code=51787', '/movie/bi/mi/basic.nhn?code=146945', '/movie/bi/mi/basic.nhn?code=136824', '/movie/bi/mi/basic.nhn?code=40232', '/movie/bi/mi/basic.nhn?code=149138', '/movie/bi/mi/basic.nhn?code=89375', '/movie/bi/mi/basic.nhn?code=146898', '/movie/bi/mi/basic.nhn?code=128327', '/movie/bi/mi/basic.nhn?code=146924', '/movie/bi/mi/basic.nhn?code=158223', '/movie/bi/mi/basic.nhn?code=129058', '/movie/bi/mi/basic.nhn?code=149556', '/movie/bi/mi/basic.nhn?code=143376', '/movie/bi/mi/basic.nhn?code=156627', '/movie/bi/mi/basic.nhn?code=137341', '/movie/bi/mi/basic.nhn?code=141177', '/movie/bi/mi/basic.nhn?code=146240', '/movie/bi/mi/basic.nhn?code=134570', '/movie/bi/mi/basic.nhn?code=138615', '/movie/bi/mi/basic.nhn?code=142333', '/movie/bi/mi/basic.nhn?code=52760', '/movie/bi/mi/basic.nhn?code=126056', '/movie/bi/mi/basic.nhn?code=94767', '/movie/bi/mi/basic.nhn?code=153534', '/movie/bi/mi/basic.nhn?code=75426', '/movie/bi/mi/basic.nhn?code=146507', '/movie/bi/mi/basic.nhn?code=133424', '/movie/bi/mi/basic.nhn?code=150091', '/movie/bi/mi/basic.nhn?code=97629', '/movie/bi/mi/basic.nhn?code=146233', '/movie/bi/mi/basic.nhn?code=145791', '/movie/bi/mi/basic.nhn?code=136876', '/movie/bi/mi/basic.nhn?code=154124', '/movie/bi/mi/basic.nhn?code=144685', '/movie/bi/mi/basic.nhn?code=148666', '/movie/bi/mi/basic.nhn?code=148338', '/movie/bi/mi/basic.nhn?code=145778', '/movie/bi/mi/basic.nhn?code=149128', '/movie/bi/mi/basic.nhn?code=143018', '/movie/bi/mi/basic.nhn?code=134899', '/movie/bi/mi/basic.nhn?code=147397', '/movie/bi/mi/basic.nhn?code=150562', '/movie/bi/mi/basic.nhn?code=134835', '/movie/bi/mi/basic.nhn?code=154366', '/movie/bi/mi/basic.nhn?code=134977', '/movie/bi/mi/basic.nhn?code=155092', '/movie/bi/mi/basic.nhn?code=155533', '/movie/bi/mi/basic.nhn?code=154109', '/movie/bi/mi/basic.nhn?code=148389', '/movie/bi/mi/basic.nhn?code=152748', '/movie/bi/mi/basic.nhn?code=150146', '/movie/bi/mi/basic.nhn?code=150147', '/movie/bi/mi/basic.nhn?code=150153', '/movie/bi/mi/basic.nhn?code=150151', '/movie/bi/mi/basic.nhn?code=153854', '/movie/bi/mi/basic.nhn?code=150144', '/movie/bi/mi/basic.nhn?code=150148', '/movie/bi/mi/basic.nhn?code=150143', '/movie/bi/mi/basic.nhn?code=150145', '/movie/bi/mi/basic.nhn?code=154655', '/movie/bi/mi/basic.nhn?code=153173', '/movie/bi/mi/basic.nhn?code=100959', '/movie/bi/mi/basic.nhn?code=122995', '/movie/bi/mi/basic.nhn?code=133071', '/movie/bi/mi/basic.nhn?code=114237', '/movie/bi/mi/basic.nhn?code=134846', '/movie/bi/mi/basic.nhn?code=133447', '/movie/bi/mi/basic.nhn?code=147368', '/movie/bi/mi/basic.nhn?code=119404', '/movie/bi/mi/basic.nhn?code=128659', '/movie/bi/mi/basic.nhn?code=120581', '/movie/bi/mi/basic.nhn?code=144373', '/movie/bi/mi/basic.nhn?code=128598', '/movie/bi/mi/basic.nhn?code=138595', '/movie/bi/mi/basic.nhn?code=148375', '/movie/bi/mi/basic.nhn?code=146979', '/movie/bi/mi/basic.nhn?code=147364', '/movie/bi/mi/basic.nhn?code=149620', '/movie/bi/mi/basic.nhn?code=147306', '/movie/bi/mi/basic.nhn?code=134963', '/movie/bi/mi/basic.nhn?code=147308', '/movie/bi/mi/basic.nhn?code=154035', '/movie/bi/mi/basic.nhn?code=118309', '/movie/bi/mi/basic.nhn?code=153518', '/movie/bi/mi/basic.nhn?code=113356', '/movie/bi/mi/basic.nhn?code=144918', '/movie/bi/mi/basic.nhn?code=146309', '/movie/bi/mi/basic.nhn?code=139440', '/movie/bi/mi/basic.nhn?code=146905', '/movie/bi/mi/basic.nhn?code=138404', '/movie/bi/mi/basic.nhn?code=158217', '/movie/bi/mi/basic.nhn?code=153415', '/movie/bi/mi/basic.nhn?code=140695', '/movie/bi/mi/basic.nhn?code=127865', '/movie/bi/mi/basic.nhn?code=123268', '/movie/bi/mi/basic.nhn?code=158215', '/movie/bi/mi/basic.nhn?code=158214', '/movie/bi/mi/basic.nhn?code=145375', '/movie/bi/mi/basic.nhn?code=150556', '/movie/bi/mi/basic.nhn?code=124212', '/movie/bi/mi/basic.nhn?code=134874', '/movie/bi/mi/basic.nhn?code=133460', '/movie/bi/mi/basic.nhn?code=153507', '/movie/bi/mi/basic.nhn?code=120791', '/movie/bi/mi/basic.nhn?code=73462', '/movie/bi/mi/basic.nhn?code=144799', '/movie/bi/mi/basic.nhn?code=102872', '/movie/bi/mi/basic.nhn?code=155091', '/movie/bi/mi/basic.nhn?code=136868', '/movie/bi/mi/basic.nhn?code=146505', '/movie/bi/mi/basic.nhn?code=81628', '/movie/bi/mi/basic.nhn?code=87182', '/movie/bi/mi/basic.nhn?code=136821', '/movie/bi/mi/basic.nhn?code=147834', '/movie/bi/mi/basic.nhn?code=104374', '/movie/bi/mi/basic.nhn?code=145349', '/movie/bi/mi/basic.nhn?code=137971', '/movie/bi/mi/basic.nhn?code=151252', '/movie/bi/mi/basic.nhn?code=155085', '/movie/bi/mi/basic.nhn?code=153951', '/movie/bi/mi/basic.nhn?code=130989', '/movie/bi/mi/basic.nhn?code=152090', '/movie/bi/mi/basic.nhn?code=155501', '/movie/bi/mi/basic.nhn?code=152254', '/movie/bi/mi/basic.nhn?code=158899', '/movie/bi/mi/basic.nhn?code=138895', '/movie/bi/mi/basic.nhn?code=100759', '/movie/bi/mi/basic.nhn?code=118928', '/movie/bi/mi/basic.nhn?code=112026', '/movie/bi/mi/basic.nhn?code=121971', '/movie/bi/mi/basic.nhn?code=96740', '/movie/bi/mi/basic.nhn?code=150545', '/movie/bi/mi/basic.nhn?code=149516', '/movie/bi/mi/basic.nhn?code=148697', '/movie/bi/mi/basic.nhn?code=153533', '/movie/bi/mi/basic.nhn?code=150551', '/movie/bi/mi/basic.nhn?code=143539', '/movie/bi/mi/basic.nhn?code=148319', '/movie/bi/mi/basic.nhn?code=148629', '/movie/bi/mi/basic.nhn?code=144342', '/movie/bi/mi/basic.nhn?code=158225', '/movie/bi/mi/basic.nhn?code=150082', '/movie/bi/mi/basic.nhn?code=158228', '/movie/bi/mi/basic.nhn?code=143711', '/movie/bi/mi/basic.nhn?code=127828', '/movie/bi/mi/basic.nhn?code=138463', '/movie/bi/mi/basic.nhn?code=136921', '/movie/bi/mi/basic.nhn?code=152608', '/movie/bi/mi/basic.nhn?code=145162', '/movie/bi/mi/basic.nhn?code=146990', '/movie/bi/mi/basic.nhn?code=144695', '/movie/bi/mi/basic.nhn?code=145592', '/movie/bi/mi/basic.nhn?code=142292', '/movie/bi/mi/basic.nhn?code=146900', '/movie/bi/mi/basic.nhn?code=137340', '/movie/bi/mi/basic.nhn?code=158216', '/movie/bi/mi/basic.nhn?code=140712', '/movie/bi/mi/basic.nhn?code=134980', '/movie/bi/mi/basic.nhn?code=121547', '/movie/bi/mi/basic.nhn?code=114296', '/movie/bi/mi/basic.nhn?code=155398', '/movie/bi/mi/basic.nhn?code=157447', '/movie/bi/mi/basic.nhn?code=149445', '/movie/bi/mi/basic.nhn?code=145780', '/movie/bi/mi/basic.nhn?code=134828', '/movie/bi/mi/basic.nhn?code=137935', '/movie/bi/mi/basic.nhn?code=150727', '/movie/bi/mi/basic.nhn?code=149573', '/movie/bi/mi/basic.nhn?code=149583', '/movie/bi/mi/basic.nhn?code=148695', '/movie/bi/mi/basic.nhn?code=147398', '/movie/bi/mi/basic.nhn?code=136835', '/movie/bi/mi/basic.nhn?code=149601', '/movie/bi/mi/basic.nhn?code=139450', '/movie/bi/mi/basic.nhn?code=148655', '/movie/bi/mi/basic.nhn?code=162258', '/movie/bi/mi/basic.nhn?code=142369', '/movie/bi/mi/basic.nhn?code=144944', '/movie/bi/mi/basic.nhn?code=100208', '/movie/bi/mi/basic.nhn?code=147341', '/movie/bi/mi/basic.nhn?code=119868', '/movie/bi/mi/basic.nhn?code=130987', '/movie/bi/mi/basic.nhn?code=132605', '/movie/bi/mi/basic.nhn?code=149049', '/movie/bi/mi/basic.nhn?code=149599', '/movie/bi/mi/basic.nhn?code=154691', '/movie/bi/mi/basic.nhn?code=144743', '/movie/bi/mi/basic.nhn?code=142263', '/movie/bi/mi/basic.nhn?code=146926', '/movie/bi/mi/basic.nhn?code=139436', '/movie/bi/mi/basic.nhn?code=142635', '/movie/bi/mi/basic.nhn?code=134825', '/movie/bi/mi/basic.nhn?code=153526', '/movie/bi/mi/basic.nhn?code=158775', '/movie/bi/mi/basic.nhn?code=143106', '/movie/bi/mi/basic.nhn?code=144310', '/movie/bi/mi/basic.nhn?code=137944', '/movie/bi/mi/basic.nhn?code=140692', '/movie/bi/mi/basic.nhn?code=134842', '/movie/bi/mi/basic.nhn?code=152183', '/movie/bi/mi/basic.nhn?code=137841', '/movie/bi/mi/basic.nhn?code=154328', '/movie/bi/mi/basic.nhn?code=137915', '/movie/bi/mi/basic.nhn?code=137872', '/movie/bi/mi/basic.nhn?code=132664', '/movie/bi/mi/basic.nhn?code=149126', '/movie/bi/mi/basic.nhn?code=139386', '/movie/bi/mi/basic.nhn?code=139832', '/movie/bi/mi/basic.nhn?code=140787', '/movie/bi/mi/basic.nhn?code=149619', '/movie/bi/mi/basic.nhn?code=146861', '/movie/bi/mi/basic.nhn?code=112419', '/movie/bi/mi/basic.nhn?code=155123', '/movie/bi/mi/basic.nhn?code=129383', '/movie/bi/mi/basic.nhn?code=137709', '/movie/bi/mi/basic.nhn?code=142306', '/movie/bi/mi/basic.nhn?code=121001', '/movie/bi/mi/basic.nhn?code=137972', '/movie/bi/mi/basic.nhn?code=145044', '/movie/bi/mi/basic.nhn?code=124271', '/movie/bi/mi/basic.nhn?code=145794', '/movie/bi/mi/basic.nhn?code=142625', '/movie/bi/mi/basic.nhn?code=151594', '/movie/bi/mi/basic.nhn?code=148689', '/movie/bi/mi/basic.nhn?code=143980', '/movie/bi/mi/basic.nhn?code=130950', '/movie/bi/mi/basic.nhn?code=147320', '/movie/bi/mi/basic.nhn?code=137952', '/movie/bi/mi/basic.nhn?code=149505', '/movie/bi/mi/basic.nhn?code=147355', '/movie/bi/mi/basic.nhn?code=149576', '/movie/bi/mi/basic.nhn?code=129911', '/movie/bi/mi/basic.nhn?code=141180', '/movie/bi/mi/basic.nhn?code=149564', '/movie/bi/mi/basic.nhn?code=145312', '/movie/bi/mi/basic.nhn?code=137921', '/movie/bi/mi/basic.nhn?code=127370', '/movie/bi/mi/basic.nhn?code=104605', '/movie/bi/mi/basic.nhn?code=127458', '/movie/bi/mi/basic.nhn?code=149546', '/movie/bi/mi/basic.nhn?code=129230', '/movie/bi/mi/basic.nhn?code=155562', '/movie/bi/mi/basic.nhn?code=155627', '/movie/bi/mi/basic.nhn?code=147399', '/movie/bi/mi/basic.nhn?code=141537', '/movie/bi/mi/basic.nhn?code=76833', '/movie/bi/mi/basic.nhn?code=146940', '/movie/bi/mi/basic.nhn?code=141880', '/movie/bi/mi/basic.nhn?code=109960', '/movie/bi/mi/basic.nhn?code=149118', '/movie/bi/mi/basic.nhn?code=154133', '/movie/bi/mi/basic.nhn?code=131637', '/movie/bi/mi/basic.nhn?code=129044', '/movie/bi/mi/basic.nhn?code=150127', '/movie/bi/mi/basic.nhn?code=143121', '/movie/bi/mi/basic.nhn?code=147578', '/movie/bi/mi/basic.nhn?code=131579', '/movie/bi/mi/basic.nhn?code=132454', '/movie/bi/mi/basic.nhn?code=139699', '/movie/bi/mi/basic.nhn?code=139701', '/movie/bi/mi/basic.nhn?code=91998', '/movie/bi/mi/basic.nhn?code=104423', '/movie/bi/mi/basic.nhn?code=148357', '/movie/bi/mi/basic.nhn?code=121780', '/movie/bi/mi/basic.nhn?code=137743', '/movie/bi/mi/basic.nhn?code=125468', '/movie/bi/mi/basic.nhn?code=37949', '/movie/bi/mi/basic.nhn?code=149198', '/movie/bi/mi/basic.nhn?code=152943', '/movie/bi/mi/basic.nhn?code=151300', '/movie/bi/mi/basic.nhn?code=114432', '/movie/bi/mi/basic.nhn?code=149110', '/movie/bi/mi/basic.nhn?code=126078', '/movie/bi/mi/basic.nhn?code=156440', '/movie/bi/mi/basic.nhn?code=142337', '/movie/bi/mi/basic.nhn?code=146316', '/movie/bi/mi/basic.nhn?code=134895', '/movie/bi/mi/basic.nhn?code=154158', '/movie/bi/mi/basic.nhn?code=156323', '/movie/bi/mi/basic.nhn?code=127334', '/movie/bi/mi/basic.nhn?code=153517', '/movie/bi/mi/basic.nhn?code=130966', '/movie/bi/mi/basic.nhn?code=133496', '/movie/bi/mi/basic.nhn?code=140719', '/movie/bi/mi/basic.nhn?code=155105', '/movie/bi/mi/basic.nhn?code=153801', '/movie/bi/mi/basic.nhn?code=145294', '/movie/bi/mi/basic.nhn?code=122996', '/movie/bi/mi/basic.nhn?code=138877', '/movie/bi/mi/basic.nhn?code=94200', '/movie/bi/mi/basic.nhn?code=155816', '/movie/bi/mi/basic.nhn?code=153496', '/movie/bi/mi/basic.nhn?code=153862', '/movie/bi/mi/basic.nhn?code=151657', '/movie/bi/mi/basic.nhn?code=10293', '/movie/bi/mi/basic.nhn?code=148663', '/movie/bi/mi/basic.nhn?code=153501', '/movie/bi/mi/basic.nhn?code=144001', '/movie/bi/mi/basic.nhn?code=143331', '/movie/bi/mi/basic.nhn?code=129394', '/movie/bi/mi/basic.nhn?code=114263', '/movie/bi/mi/basic.nhn?code=149152', '/movie/bi/mi/basic.nhn?code=103657', '/movie/bi/mi/basic.nhn?code=118310', '/movie/bi/mi/basic.nhn?code=143456', '/movie/bi/mi/basic.nhn?code=115259', '/movie/bi/mi/basic.nhn?code=119650', '/movie/bi/mi/basic.nhn?code=145669', '/movie/bi/mi/basic.nhn?code=136035', '/movie/bi/mi/basic.nhn?code=114288', '/movie/bi/mi/basic.nhn?code=143484', '/movie/bi/mi/basic.nhn?code=144937', '/movie/bi/mi/basic.nhn?code=130782', '/movie/bi/mi/basic.nhn?code=152617', '/movie/bi/mi/basic.nhn?code=129045', '/movie/bi/mi/basic.nhn?code=125802', '/movie/bi/mi/basic.nhn?code=144290', '/movie/bi/mi/basic.nhn?code=155310', '/movie/bi/mi/basic.nhn?code=158895', '/movie/bi/mi/basic.nhn?code=101931', '/movie/bi/mi/basic.nhn?code=152266', '/movie/bi/mi/basic.nhn?code=10979', '/movie/bi/mi/basic.nhn?code=133479', '/movie/bi/mi/basic.nhn?code=149511', '/movie/bi/mi/basic.nhn?code=136842', '/movie/bi/mi/basic.nhn?code=143083', '/movie/bi/mi/basic.nhn?code=154171', '/movie/bi/mi/basic.nhn?code=136899', '/movie/bi/mi/basic.nhn?code=83223', '/movie/bi/mi/basic.nhn?code=143358', '/movie/bi/mi/basic.nhn?code=117776', '/movie/bi/mi/basic.nhn?code=133491', '/movie/bi/mi/basic.nhn?code=104435', '/movie/bi/mi/basic.nhn?code=108530', '/movie/bi/mi/basic.nhn?code=154633', '/movie/bi/mi/basic.nhn?code=152486', '/movie/bi/mi/basic.nhn?code=140806', '/movie/bi/mi/basic.nhn?code=151569', '/movie/bi/mi/basic.nhn?code=140666', '/movie/bi/mi/basic.nhn?code=108053', '/movie/bi/mi/basic.nhn?code=139358', '/movie/bi/mi/basic.nhn?code=146071', '/movie/bi/mi/basic.nhn?code=139437', '/movie/bi/mi/basic.nhn?code=126281', '/movie/bi/mi/basic.nhn?code=154332', '/movie/bi/mi/basic.nhn?code=93676', '/movie/bi/mi/basic.nhn?code=143357', '/movie/bi/mi/basic.nhn?code=138501', '/movie/bi/mi/basic.nhn?code=156430', '/movie/bi/mi/basic.nhn?code=147381', '/movie/bi/mi/basic.nhn?code=130582', '/movie/bi/mi/basic.nhn?code=158226', '/movie/bi/mi/basic.nhn?code=138592', '/movie/bi/mi/basic.nhn?code=151599', '/movie/bi/mi/basic.nhn?code=154593', '/movie/bi/mi/basic.nhn?code=153851', '/movie/bi/mi/basic.nhn?code=154305', '/movie/bi/mi/basic.nhn?code=153803', '/movie/bi/mi/basic.nhn?code=154309', '/movie/bi/mi/basic.nhn?code=153411', '/movie/bi/mi/basic.nhn?code=154312', '/movie/bi/mi/basic.nhn?code=153409', '/movie/bi/mi/basic.nhn?code=153414', '/movie/bi/mi/basic.nhn?code=102461', '/movie/bi/mi/basic.nhn?code=127339', '/movie/bi/mi/basic.nhn?code=45680', '/movie/bi/mi/basic.nhn?code=149117', '/movie/bi/mi/basic.nhn?code=134848', '/movie/bi/mi/basic.nhn?code=140286', '/movie/bi/mi/basic.nhn?code=122195', '/movie/bi/mi/basic.nhn?code=157412', '/movie/bi/mi/basic.nhn?code=122131', '/movie/bi/mi/basic.nhn?code=149791', '/movie/bi/mi/basic.nhn?code=130117', '/movie/bi/mi/basic.nhn?code=143495', '/movie/bi/mi/basic.nhn?code=138593', '/movie/bi/mi/basic.nhn?code=120188', '/movie/bi/mi/basic.nhn?code=141397', '/movie/bi/mi/basic.nhn?code=102806', '/movie/bi/mi/basic.nhn?code=150632', '/movie/bi/mi/basic.nhn?code=137309', '/movie/bi/mi/basic.nhn?code=155537', '/movie/bi/mi/basic.nhn?code=128262', '/movie/bi/mi/basic.nhn?code=155558', '/movie/bi/mi/basic.nhn?code=155413', '/movie/bi/mi/basic.nhn?code=113299', '/movie/bi/mi/basic.nhn?code=152612', '/movie/bi/mi/basic.nhn?code=136983', '/movie/bi/mi/basic.nhn?code=123276', '/movie/bi/mi/basic.nhn?code=151678', '/movie/bi/mi/basic.nhn?code=143245', '/movie/bi/mi/basic.nhn?code=77555', '/movie/bi/mi/basic.nhn?code=138809', '/movie/bi/mi/basic.nhn?code=154086', '/movie/bi/mi/basic.nhn?code=137190', '/movie/bi/mi/basic.nhn?code=143241', '/movie/bi/mi/basic.nhn?code=134578', '/movie/bi/mi/basic.nhn?code=128906', '/movie/bi/mi/basic.nhn?code=148694', '/movie/bi/mi/basic.nhn?code=148675', '/movie/bi/mi/basic.nhn?code=148681', '/movie/bi/mi/basic.nhn?code=153502', '/movie/bi/mi/basic.nhn?code=154680', '/movie/bi/mi/basic.nhn?code=129427', '/movie/bi/mi/basic.nhn?code=145144', '/movie/bi/mi/basic.nhn?code=151688', '/movie/bi/mi/basic.nhn?code=143248', '/movie/bi/mi/basic.nhn?code=149161', '/movie/bi/mi/basic.nhn?code=143362', '/movie/bi/mi/basic.nhn?code=126032', '/movie/bi/mi/basic.nhn?code=157628', '/movie/bi/mi/basic.nhn?code=152129', '/movie/bi/mi/basic.nhn?code=20329', '/movie/bi/mi/basic.nhn?code=139674', '/movie/bi/mi/basic.nhn?code=154347', '/movie/bi/mi/basic.nhn?code=144073', '/movie/bi/mi/basic.nhn?code=131576', '/movie/bi/mi/basic.nhn?code=151106', '/movie/bi/mi/basic.nhn?code=146198', '/movie/bi/mi/basic.nhn?code=152703', '/movie/bi/mi/basic.nhn?code=155119', '/movie/bi/mi/basic.nhn?code=147383', '/movie/bi/mi/basic.nhn?code=155096', '/movie/bi/mi/basic.nhn?code=126084', '/movie/bi/mi/basic.nhn?code=138165', '/movie/bi/mi/basic.nhn?code=159404', '/movie/bi/mi/basic.nhn?code=109902', '/movie/bi/mi/basic.nhn?code=150093', '/movie/bi/mi/basic.nhn?code=125414', '/movie/bi/mi/basic.nhn?code=137857', '/movie/bi/mi/basic.nhn?code=130757', '/movie/bi/mi/basic.nhn?code=143924', '/movie/bi/mi/basic.nhn?code=148679', '/movie/bi/mi/basic.nhn?code=146138', '/movie/bi/mi/basic.nhn?code=153448', '/movie/bi/mi/basic.nhn?code=154199', '/movie/bi/mi/basic.nhn?code=150547', '/movie/bi/mi/basic.nhn?code=152080', '/movie/bi/mi/basic.nhn?code=129072', '/movie/bi/mi/basic.nhn?code=127400', '/movie/bi/mi/basic.nhn?code=146512', '/movie/bi/mi/basic.nhn?code=153025', '/movie/bi/mi/basic.nhn?code=124025', '/movie/bi/mi/basic.nhn?code=141774', '/movie/bi/mi/basic.nhn?code=140721', '/movie/bi/mi/basic.nhn?code=146531', '/movie/bi/mi/basic.nhn?code=154349', '/movie/bi/mi/basic.nhn?code=100150', '/movie/bi/mi/basic.nhn?code=107645', '/movie/bi/mi/basic.nhn?code=134885', '/movie/bi/mi/basic.nhn?code=157581', '/movie/bi/mi/basic.nhn?code=158222', '/movie/bi/mi/basic.nhn?code=146938', '/movie/bi/mi/basic.nhn?code=155819', '/movie/bi/mi/basic.nhn?code=115642', '/movie/bi/mi/basic.nhn?code=148368', '/movie/bi/mi/basic.nhn?code=147054', '/movie/bi/mi/basic.nhn?code=133437', '/movie/bi/mi/basic.nhn?code=152724', '/movie/bi/mi/basic.nhn?code=157854', '/movie/bi/mi/basic.nhn?code=148378', '/movie/bi/mi/basic.nhn?code=146560', '/movie/bi/mi/basic.nhn?code=150073', '/movie/bi/mi/basic.nhn?code=155116', '/movie/bi/mi/basic.nhn?code=147333', '/movie/bi/mi/basic.nhn?code=136878', '/movie/bi/mi/basic.nhn?code=142869', '/movie/bi/mi/basic.nhn?code=113496', '/movie/bi/mi/basic.nhn?code=153868', '/movie/bi/mi/basic.nhn?code=144938', '/movie/bi/mi/basic.nhn?code=139953', '/movie/bi/mi/basic.nhn?code=123519', '/movie/bi/mi/basic.nhn?code=144945', '/movie/bi/mi/basic.nhn?code=149506', '/movie/bi/mi/basic.nhn?code=148624', '/movie/bi/mi/basic.nhn?code=143541', '/movie/bi/mi/basic.nhn?code=155167', '/movie/bi/mi/basic.nhn?code=149578', '/movie/bi/mi/basic.nhn?code=119181', '/movie/bi/mi/basic.nhn?code=152747', '/movie/bi/mi/basic.nhn?code=150183', '/movie/bi/mi/basic.nhn?code=139433', '/movie/bi/mi/basic.nhn?code=122917', '/movie/bi/mi/basic.nhn?code=137947', '/movie/bi/mi/basic.nhn?code=153515', '/movie/bi/mi/basic.nhn?code=155808', '/movie/bi/mi/basic.nhn?code=44913', '/movie/bi/mi/basic.nhn?code=134839', '/movie/bi/mi/basic.nhn?code=126966', '/movie/bi/mi/basic.nhn?code=131538', '/movie/bi/mi/basic.nhn?code=140693', '/movie/bi/mi/basic.nhn?code=125419', '/movie/bi/mi/basic.nhn?code=143171', '/movie/bi/mi/basic.nhn?code=153874', '/movie/bi/mi/basic.nhn?code=134728', '/movie/bi/mi/basic.nhn?code=127378', '/movie/bi/mi/basic.nhn?code=155535', '/movie/bi/mi/basic.nhn?code=145318', '/movie/bi/mi/basic.nhn?code=156402', '/movie/bi/mi/basic.nhn?code=155524', '/movie/bi/mi/basic.nhn?code=133053', '/movie/bi/mi/basic.nhn?code=152113', '/movie/bi/mi/basic.nhn?code=154212', '/movie/bi/mi/basic.nhn?code=151788', '/movie/bi/mi/basic.nhn?code=104306', '/movie/bi/mi/basic.nhn?code=156449', '/movie/bi/mi/basic.nhn?code=151256', '/movie/bi/mi/basic.nhn?code=120106', '/movie/bi/mi/basic.nhn?code=146973', '/movie/bi/mi/basic.nhn?code=149600', '/movie/bi/mi/basic.nhn?code=127336', '/movie/bi/mi/basic.nhn?code=115244', '/movie/bi/mi/basic.nhn?code=145320', '/movie/bi/mi/basic.nhn?code=96914', '/movie/bi/mi/basic.nhn?code=154085', '/movie/bi/mi/basic.nhn?code=113301', '/movie/bi/mi/basic.nhn?code=92061', '/movie/bi/mi/basic.nhn?code=142070', '/movie/bi/mi/basic.nhn?code=133457', '/movie/bi/mi/basic.nhn?code=143623', '/movie/bi/mi/basic.nhn?code=143090', '/movie/bi/mi/basic.nhn?code=155526', '/movie/bi/mi/basic.nhn?code=151114', '/movie/bi/mi/basic.nhn?code=147363', '/movie/bi/mi/basic.nhn?code=147302', '/movie/bi/mi/basic.nhn?code=143443', '/movie/bi/mi/basic.nhn?code=150194', '/movie/bi/mi/basic.nhn?code=151673', '/movie/bi/mi/basic.nhn?code=115964', '/movie/bi/mi/basic.nhn?code=155110', '/movie/bi/mi/basic.nhn?code=151115', '/movie/bi/mi/basic.nhn?code=130985', '/movie/bi/mi/basic.nhn?code=150071', '/movie/bi/mi/basic.nhn?code=134859', '/movie/bi/mi/basic.nhn?code=152125', '/movie/bi/mi/basic.nhn?code=149106', '/movie/bi/mi/basic.nhn?code=144943', '/movie/bi/mi/basic.nhn?code=137887', '/movie/bi/mi/basic.nhn?code=136978', '/movie/bi/mi/basic.nhn?code=154617', '/movie/bi/mi/basic.nhn?code=155504', '/movie/bi/mi/basic.nhn?code=143263', '/movie/bi/mi/basic.nhn?code=154317', '/movie/bi/mi/basic.nhn?code=95449', '/movie/bi/mi/basic.nhn?code=150576', '/movie/bi/mi/basic.nhn?code=153497', '/movie/bi/mi/basic.nhn?code=146386', '/movie/bi/mi/basic.nhn?code=121128', '/movie/bi/mi/basic.nhn?code=154307', '/movie/bi/mi/basic.nhn?code=159401', '/movie/bi/mi/basic.nhn?code=158220', '/movie/bi/mi/basic.nhn?code=158219', '/movie/bi/mi/basic.nhn?code=158218', '/movie/bi/mi/basic.nhn?code=130972', '/movie/bi/mi/basic.nhn?code=145147', '/movie/bi/mi/basic.nhn?code=140768', '/movie/bi/mi/basic.nhn?code=127424', '/movie/bi/mi/basic.nhn?code=152128', '/movie/bi/mi/basic.nhn?code=154316', '/movie/bi/mi/basic.nhn?code=152588', '/movie/bi/mi/basic.nhn?code=119430', '/movie/bi/mi/basic.nhn?code=155506', '/movie/bi/mi/basic.nhn?code=148468', '/movie/bi/mi/basic.nhn?code=94765', '/movie/bi/mi/basic.nhn?code=89756', '/movie/bi/mi/basic.nhn?code=155095', '/movie/bi/mi/basic.nhn?code=146515', '/movie/bi/mi/basic.nhn?code=155515', '/movie/bi/mi/basic.nhn?code=147346', '/movie/bi/mi/basic.nhn?code=135740', '/movie/bi/mi/basic.nhn?code=155770', '/movie/bi/mi/basic.nhn?code=128968', '/movie/bi/mi/basic.nhn?code=145306', '/movie/bi/mi/basic.nhn?code=150152', '/movie/bi/mi/basic.nhn?code=143825', '/movie/bi/mi/basic.nhn?code=143824', '/movie/bi/mi/basic.nhn?code=153516', '/movie/bi/mi/basic.nhn?code=151698', '/movie/bi/mi/basic.nhn?code=151626', '/movie/bi/mi/basic.nhn?code=149481', '/movie/bi/mi/basic.nhn?code=157739', '/movie/bi/mi/basic.nhn?code=125483', '/movie/bi/mi/basic.nhn?code=146193', '/movie/bi/mi/basic.nhn?code=128273', '/movie/bi/mi/basic.nhn?code=112082', '/movie/bi/mi/basic.nhn?code=156506', '/movie/bi/mi/basic.nhn?code=146516', '/movie/bi/mi/basic.nhn?code=146913', '/movie/bi/mi/basic.nhn?code=155409', '/movie/bi/mi/basic.nhn?code=150338', '/movie/bi/mi/basic.nhn?code=129331', '/movie/bi/mi/basic.nhn?code=154632', '/movie/bi/mi/basic.nhn?code=154311', '/movie/bi/mi/basic.nhn?code=111169', '/movie/bi/mi/basic.nhn?code=87585', '/movie/bi/mi/basic.nhn?code=139613', '/movie/bi/mi/basic.nhn?code=136686', '/movie/bi/mi/basic.nhn?code=61366', '/movie/bi/mi/basic.nhn?code=148669', '/movie/bi/mi/basic.nhn?code=144650', '/movie/bi/mi/basic.nhn?code=140730', '/movie/bi/mi/basic.nhn?code=155502', '/movie/bi/mi/basic.nhn?code=139266', '/movie/bi/mi/basic.nhn?code=54304', '/movie/bi/mi/basic.nhn?code=143212', '/movie/bi/mi/basic.nhn?code=143624', '/movie/bi/mi/basic.nhn?code=154102', '/movie/bi/mi/basic.nhn?code=145693', '/movie/bi/mi/basic.nhn?code=99675', '/movie/bi/mi/basic.nhn?code=145141', '/movie/bi/mi/basic.nhn?code=20363', '/movie/bi/mi/basic.nhn?code=151670', '/movie/bi/mi/basic.nhn?code=149955', '/movie/bi/mi/basic.nhn?code=134987', '/movie/bi/mi/basic.nhn?code=149582', '/movie/bi/mi/basic.nhn?code=151650', '/movie/bi/mi/basic.nhn?code=146504', '/movie/bi/mi/basic.nhn?code=127079', '/movie/bi/mi/basic.nhn?code=150723', '/movie/bi/mi/basic.nhn?code=153408', '/movie/bi/mi/basic.nhn?code=142641', '/movie/bi/mi/basic.nhn?code=112022', '/movie/bi/mi/basic.nhn?code=73442', '/movie/bi/mi/basic.nhn?code=146914', '/movie/bi/mi/basic.nhn?code=149125', '/movie/bi/mi/basic.nhn?code=138575', '/movie/bi/mi/basic.nhn?code=91891', '/movie/bi/mi/basic.nhn?code=154345', '/movie/bi/mi/basic.nhn?code=127136', '/movie/bi/mi/basic.nhn?code=145319', '/movie/bi/mi/basic.nhn?code=148507', '/movie/bi/mi/basic.nhn?code=75006', '/movie/bi/mi/basic.nhn?code=146980', '/movie/bi/mi/basic.nhn?code=126059', '/movie/bi/mi/basic.nhn?code=146501', '/movie/bi/mi/basic.nhn?code=141060', '/movie/bi/mi/basic.nhn?code=146514', '/movie/bi/mi/basic.nhn?code=150126', '/movie/bi/mi/basic.nhn?code=146214', '/movie/bi/mi/basic.nhn?code=150100', '/movie/bi/mi/basic.nhn?code=84807', '/movie/bi/mi/basic.nhn?code=117803', '/movie/bi/mi/basic.nhn?code=150603', '/movie/bi/mi/basic.nhn?code=145395', '/movie/bi/mi/basic.nhn?code=136687', '/movie/bi/mi/basic.nhn?code=127333', '/movie/bi/mi/basic.nhn?code=140647', '/movie/bi/mi/basic.nhn?code=147936', '/movie/bi/mi/basic.nhn?code=127390', '/movie/bi/mi/basic.nhn?code=149625', '/movie/bi/mi/basic.nhn?code=145404', '/movie/bi/mi/basic.nhn?code=147349', '/movie/bi/mi/basic.nhn?code=139438', '/movie/bi/mi/basic.nhn?code=136201', '/movie/bi/mi/basic.nhn?code=158269', '/movie/bi/mi/basic.nhn?code=154622', '/movie/bi/mi/basic.nhn?code=153525', '/movie/bi/mi/basic.nhn?code=137349', '/movie/bi/mi/basic.nhn?code=125434', '/movie/bi/mi/basic.nhn?code=151685', '/movie/bi/mi/basic.nhn?code=150072', '/movie/bi/mi/basic.nhn?code=139452', '/movie/bi/mi/basic.nhn?code=78384', '/movie/bi/mi/basic.nhn?code=99829', '/movie/bi/mi/basic.nhn?code=115717', '/movie/bi/mi/basic.nhn?code=127361', '/movie/bi/mi/basic.nhn?code=131294', '/movie/bi/mi/basic.nhn?code=136325', '/movie/bi/mi/basic.nhn?code=55009', '/movie/bi/mi/basic.nhn?code=144963', '/movie/bi/mi/basic.nhn?code=142530', '/movie/bi/mi/basic.nhn?code=150581', '/movie/bi/mi/basic.nhn?code=74866', '/movie/bi/mi/basic.nhn?code=75224', '/movie/bi/mi/basic.nhn?code=130430', '/movie/bi/mi/basic.nhn?code=155550', '/movie/bi/mi/basic.nhn?code=142822', '/movie/bi/mi/basic.nhn?code=153449', '/movie/bi/mi/basic.nhn?code=129461', '/movie/bi/mi/basic.nhn?code=136826', '/movie/bi/mi/basic.nhn?code=153404', '/movie/bi/mi/basic.nhn?code=145289', '/movie/bi/mi/basic.nhn?code=119434', '/movie/bi/mi/basic.nhn?code=154108', '/movie/bi/mi/basic.nhn?code=136969', '/movie/bi/mi/basic.nhn?code=147047', '/movie/bi/mi/basic.nhn?code=148627', '/movie/bi/mi/basic.nhn?code=149150', '/movie/bi/mi/basic.nhn?code=155636', '/movie/bi/mi/basic.nhn?code=72279', '/movie/bi/mi/basic.nhn?code=153870', '/movie/bi/mi/basic.nhn?code=149646', '/movie/bi/mi/basic.nhn?code=107352', '/movie/bi/mi/basic.nhn?code=146534', '/movie/bi/mi/basic.nhn?code=147362', '/movie/bi/mi/basic.nhn?code=119510', '/movie/bi/mi/basic.nhn?code=144780', '/movie/bi/mi/basic.nhn?code=148678', '/movie/bi/mi/basic.nhn?code=149542', '/movie/bi/mi/basic.nhn?code=140011', '/movie/bi/mi/basic.nhn?code=93929', '/movie/bi/mi/basic.nhn?code=141813', '/movie/bi/mi/basic.nhn?code=119412', '/movie/bi/mi/basic.nhn?code=136886', '/movie/bi/mi/basic.nhn?code=155120', '/movie/bi/mi/basic.nhn?code=116895', '/movie/bi/mi/basic.nhn?code=145325', '/movie/bi/mi/basic.nhn?code=146547', '/movie/bi/mi/basic.nhn?code=152077', '/movie/bi/mi/basic.nhn?code=146546', '/movie/bi/mi/basic.nhn?code=154329', '/movie/bi/mi/basic.nhn?code=149567', '/movie/bi/mi/basic.nhn?code=152095', '/movie/bi/mi/basic.nhn?code=154137', '/movie/bi/mi/basic.nhn?code=122489', '/movie/bi/mi/basic.nhn?code=148355', '/movie/bi/mi/basic.nhn?code=151686', '/movie/bi/mi/basic.nhn?code=152758', '/movie/bi/mi/basic.nhn?code=145799', '/movie/bi/mi/basic.nhn?code=150102', '/movie/bi/mi/basic.nhn?code=149650', '/movie/bi/mi/basic.nhn?code=126504', '/movie/bi/mi/basic.nhn?code=125444', '/movie/bi/mi/basic.nhn?code=119000', '/movie/bi/mi/basic.nhn?code=138030', '/movie/bi/mi/basic.nhn?code=122627', '/movie/bi/mi/basic.nhn?code=144968', '/movie/bi/mi/basic.nhn?code=154814', '/movie/bi/mi/basic.nhn?code=125458', '/movie/bi/mi/basic.nhn?code=148601', '/movie/bi/mi/basic.nhn?code=149175', '/movie/bi/mi/basic.nhn?code=136893', '/movie/bi/mi/basic.nhn?code=149155', '/movie/bi/mi/basic.nhn?code=143457', '/movie/bi/mi/basic.nhn?code=130850', '/movie/bi/mi/basic.nhn?code=146508', '/movie/bi/mi/basic.nhn?code=143339', '/movie/bi/mi/basic.nhn?code=155638', '/movie/bi/mi/basic.nhn?code=156626', '/movie/bi/mi/basic.nhn?code=147351', '/movie/bi/mi/basic.nhn?code=147039', '/movie/bi/mi/basic.nhn?code=154191', '/movie/bi/mi/basic.nhn?code=103735', '/movie/bi/mi/basic.nhn?code=89757', '/movie/bi/mi/basic.nhn?code=155507', '/movie/bi/mi/basic.nhn?code=138028', '/movie/bi/mi/basic.nhn?code=146991', '/movie/bi/mi/basic.nhn?code=137035', '/movie/bi/mi/basic.nhn?code=149142', '/movie/bi/mi/basic.nhn?code=137281', '/movie/bi/mi/basic.nhn?code=130343', '/movie/bi/mi/basic.nhn?code=149555', '/movie/bi/mi/basic.nhn?code=154123', '/movie/bi/mi/basic.nhn?code=156672', '/movie/bi/mi/basic.nhn?code=141789', '/movie/bi/mi/basic.nhn?code=145739', '/movie/bi/mi/basic.nhn?code=129710', '/movie/bi/mi/basic.nhn?code=148312', '/movie/bi/mi/basic.nhn?code=151617', '/movie/bi/mi/basic.nhn?code=147316', '/movie/bi/mi/basic.nhn?code=158896', '/movie/bi/mi/basic.nhn?code=154197', '/movie/bi/mi/basic.nhn?code=143428', '/movie/bi/mi/basic.nhn?code=145376', '/movie/bi/mi/basic.nhn?code=137880', '/movie/bi/mi/basic.nhn?code=142689', '/movie/bi/mi/basic.nhn?code=102805', '/movie/bi/mi/basic.nhn?code=146520', '/movie/bi/mi/basic.nhn?code=145330', '/movie/bi/mi/basic.nhn?code=132307', '/movie/bi/mi/basic.nhn?code=145283', '/movie/bi/mi/basic.nhn?code=148630', '/movie/bi/mi/basic.nhn?code=147337', '/movie/bi/mi/basic.nhn?code=145369', '/movie/bi/mi/basic.nhn?code=154310', '/movie/bi/mi/basic.nhn?code=63113', '/movie/bi/mi/basic.nhn?code=154135', '/movie/bi/mi/basic.nhn?code=147367', '/movie/bi/mi/basic.nhn?code=148696', '/movie/bi/mi/basic.nhn?code=156691', '/movie/bi/mi/basic.nhn?code=149628', '/movie/bi/mi/basic.nhn?code=155630', '/movie/bi/mi/basic.nhn?code=155044', '/movie/bi/mi/basic.nhn?code=136870', '/movie/bi/mi/basic.nhn?code=143214', '/movie/bi/mi/basic.nhn?code=144271', '/movie/bi/mi/basic.nhn?code=101962', '/movie/bi/mi/basic.nhn?code=148321', '/movie/bi/mi/basic.nhn?code=148609', '/movie/bi/mi/basic.nhn?code=140271', '/movie/bi/mi/basic.nhn?code=102772', '/movie/bi/mi/basic.nhn?code=122527', '/movie/bi/mi/basic.nhn?code=127396', '/movie/bi/mi/basic.nhn?code=141490', '/movie/bi/mi/basic.nhn?code=144352', '/movie/bi/mi/basic.nhn?code=114282', '/movie/bi/mi/basic.nhn?code=155536', '/movie/bi/mi/basic.nhn?code=149796', '/movie/bi/mi/basic.nhn?code=144241', '/movie/bi/mi/basic.nhn?code=155410', '/movie/bi/mi/basic.nhn?code=155103', '/movie/bi/mi/basic.nhn?code=138094', '/movie/bi/mi/basic.nhn?code=119631', '/movie/bi/mi/basic.nhn?code=133492', '/movie/bi/mi/basic.nhn?code=107090', '/movie/bi/mi/basic.nhn?code=97692', '/movie/bi/mi/basic.nhn?code=99092', '/movie/bi/mi/basic.nhn?code=130997', '/movie/bi/mi/basic.nhn?code=153784', '/movie/bi/mi/basic.nhn?code=139528', '/movie/bi/mi/basic.nhn?code=153786', '/movie/bi/mi/basic.nhn?code=127395', '/movie/bi/mi/basic.nhn?code=154196', '/movie/bi/mi/basic.nhn?code=148267', '/movie/bi/mi/basic.nhn?code=143545', '/movie/bi/mi/basic.nhn?code=134856', '/movie/bi/mi/basic.nhn?code=146513', '/movie/bi/mi/basic.nhn?code=148693', '/movie/bi/mi/basic.nhn?code=146897', '/movie/bi/mi/basic.nhn?code=153653', '/movie/bi/mi/basic.nhn?code=145816', '/movie/bi/mi/basic.nhn?code=157072', '/movie/bi/mi/basic.nhn?code=152160', '/movie/bi/mi/basic.nhn?code=149797', '/movie/bi/mi/basic.nhn?code=36358', '/movie/bi/mi/basic.nhn?code=149643', '/movie/bi/mi/basic.nhn?code=149647', '/movie/bi/mi/basic.nhn?code=115504', '/movie/bi/mi/basic.nhn?code=148614', '/movie/bi/mi/basic.nhn?code=146488', '/movie/bi/mi/basic.nhn?code=91056', '/movie/bi/mi/basic.nhn?code=121790', '/movie/bi/mi/basic.nhn?code=91010', '/movie/bi/mi/basic.nhn?code=132982', '/movie/bi/mi/basic.nhn?code=146548', '/movie/bi/mi/basic.nhn?code=154308', '/movie/bi/mi/basic.nhn?code=141104', '/movie/bi/mi/basic.nhn?code=152119', '/movie/bi/mi/basic.nhn?code=118960', '/movie/bi/mi/basic.nhn?code=139435', '/movie/bi/mi/basic.nhn?code=149843', '/movie/bi/mi/basic.nhn?code=154107', '/movie/bi/mi/basic.nhn?code=147366', '/movie/bi/mi/basic.nhn?code=150176', '/movie/bi/mi/basic.nhn?code=146876', '/movie/bi/mi/basic.nhn?code=155525', '/movie/bi/mi/basic.nhn?code=130983', '/movie/bi/mi/basic.nhn?code=145383', '/movie/bi/mi/basic.nhn?code=127359', '/movie/bi/mi/basic.nhn?code=125423', '/movie/bi/mi/basic.nhn?code=145414', '/movie/bi/mi/basic.nhn?code=154160', '/movie/bi/mi/basic.nhn?code=137358', '/movie/bi/mi/basic.nhn?code=130720', '/movie/bi/mi/basic.nhn?code=155509', '/movie/bi/mi/basic.nhn?code=137771', '/movie/bi/mi/basic.nhn?code=141440', '/movie/bi/mi/basic.nhn?code=111954', '/movie/bi/mi/basic.nhn?code=145146', '/movie/bi/mi/basic.nhn?code=143925', '/movie/bi/mi/basic.nhn?code=152173', '/movie/bi/mi/basic.nhn?code=157033', '/movie/bi/mi/basic.nhn?code=132933', '/movie/bi/mi/basic.nhn?code=152719', '/movie/bi/mi/basic.nhn?code=154161', '/movie/bi/mi/basic.nhn?code=150076', '/movie/bi/mi/basic.nhn?code=144350', '/movie/bi/mi/basic.nhn?code=119506', '/movie/bi/mi/basic.nhn?code=125416', '/movie/bi/mi/basic.nhn?code=145648', '/movie/bi/mi/basic.nhn?code=104607', '/movie/bi/mi/basic.nhn?code=102803', '/movie/bi/mi/basic.nhn?code=154237', '/movie/bi/mi/basic.nhn?code=125436', '/movie/bi/mi/basic.nhn?code=149231', '/movie/bi/mi/basic.nhn?code=122473', '/movie/bi/mi/basic.nhn?code=152265', '/movie/bi/mi/basic.nhn?code=154136', '/movie/bi/mi/basic.nhn?code=131043', '/movie/bi/mi/basic.nhn?code=151619', '/movie/bi/mi/basic.nhn?code=145768', '/movie/bi/mi/basic.nhn?code=142640', '/movie/bi/mi/basic.nhn?code=127369', '/movie/bi/mi/basic.nhn?code=141878', '/movie/bi/mi/basic.nhn?code=147077', '/movie/bi/mi/basic.nhn?code=147385', '/movie/bi/mi/basic.nhn?code=154042', '/movie/bi/mi/basic.nhn?code=158221', '/movie/bi/mi/basic.nhn?code=150280', '/movie/bi/mi/basic.nhn?code=138079', '/movie/bi/mi/basic.nhn?code=144798', '/movie/bi/mi/basic.nhn?code=146988', '/movie/bi/mi/basic.nhn?code=136845', '/movie/bi/mi/basic.nhn?code=137690', '/movie/bi/mi/basic.nhn?code=150550', '/movie/bi/mi/basic.nhn?code=148063', '/movie/bi/mi/basic.nhn?code=148653', '/movie/bi/mi/basic.nhn?code=144389', '/movie/bi/mi/basic.nhn?code=141181', '/movie/bi/mi/basic.nhn?code=129802', '/movie/bi/mi/basic.nhn?code=134847', '/movie/bi/mi/basic.nhn?code=16986', '/movie/bi/mi/basic.nhn?code=144840', '/movie/bi/mi/basic.nhn?code=136843', '/movie/bi/mi/basic.nhn?code=158492', '/movie/bi/mi/basic.nhn?code=145380', '/movie/bi/mi/basic.nhn?code=153498', '/movie/bi/mi/basic.nhn?code=135982', '/movie/bi/mi/basic.nhn?code=127125', '/movie/bi/mi/basic.nhn?code=108518', '/movie/bi/mi/basic.nhn?code=145736', '/movie/bi/mi/basic.nhn?code=125475', '/movie/bi/mi/basic.nhn?code=140803', '/movie/bi/mi/basic.nhn?code=155963', '/movie/bi/mi/basic.nhn?code=120557', '/movie/bi/mi/basic.nhn?code=122160', '/movie/bi/mi/basic.nhn?code=153535', '/movie/bi/mi/basic.nhn?code=144690', '/movie/bi/mi/basic.nhn?code=144584', '/movie/bi/mi/basic.nhn?code=143007', '/movie/bi/mi/basic.nhn?code=134567', '/movie/bi/mi/basic.nhn?code=120165', '/movie/bi/mi/basic.nhn?code=154164', '/movie/bi/mi/basic.nhn?code=83260', '/movie/bi/mi/basic.nhn?code=155412', '/movie/bi/mi/basic.nhn?code=129823', '/movie/bi/mi/basic.nhn?code=154648', '/movie/bi/mi/basic.nhn?code=94195', '/movie/bi/mi/basic.nhn?code=141898', '/movie/bi/mi/basic.nhn?code=149577', '/movie/bi/mi/basic.nhn?code=49065', '/movie/bi/mi/basic.nhn?code=122476', '/movie/bi/mi/basic.nhn?code=152789', '/movie/bi/mi/basic.nhn?code=124238', '/movie/bi/mi/basic.nhn?code=125457', '/movie/bi/mi/basic.nhn?code=149648', '/movie/bi/mi/basic.nhn?code=155637', '/movie/bi/mi/basic.nhn?code=109103', '/movie/bi/mi/basic.nhn?code=127873', '/movie/bi/mi/basic.nhn?code=144671', '/movie/bi/mi/basic.nhn?code=142803', '/movie/bi/mi/basic.nhn?code=157519', '/movie/bi/mi/basic.nhn?code=146519', '/movie/bi/mi/basic.nhn?code=147886', '/movie/bi/mi/basic.nhn?code=150101', '/movie/bi/mi/basic.nhn?code=145335', '/movie/bi/mi/basic.nhn?code=143174', '/movie/bi/mi/basic.nhn?code=139558', '/movie/bi/mi/basic.nhn?code=146863', '/movie/bi/mi/basic.nhn?code=143862', '/movie/bi/mi/basic.nhn?code=31368', '/movie/bi/mi/basic.nhn?code=106454', '/movie/bi/mi/basic.nhn?code=154618', '/movie/bi/mi/basic.nhn?code=157012', '/movie/bi/mi/basic.nhn?code=97545', '/movie/bi/mi/basic.nhn?code=119383', '/movie/bi/mi/basic.nhn?code=143185', '/movie/bi/mi/basic.nhn?code=120196', '/movie/bi/mi/basic.nhn?code=129096', '/movie/bi/mi/basic.nhn?code=142382', '/movie/bi/mi/basic.nhn?code=143564']\n"
     ]
    }
   ],
   "source": [
    "print(url_list)"
   ]
  },
  {
   "cell_type": "code",
   "execution_count": 43,
   "metadata": {},
   "outputs": [
    {
     "name": "stdout",
     "output_type": "stream",
     "text": [
      "1219\n"
     ]
    }
   ],
   "source": [
    "# 영화 고유 번호 추출\n",
    "code_list = []\n",
    "for url in url_list:  #(len(url_list)):\n",
    "    m_num = re.findall('\\d+',url)\n",
    "    code_list.append(m_num[0])\n",
    "    \n",
    "print(len(code_list))"
   ]
  },
  {
   "cell_type": "code",
   "execution_count": 44,
   "metadata": {
    "scrolled": true
   },
   "outputs": [
    {
     "name": "stdout",
     "output_type": "stream",
     "text": [
      ".........................................................................................................................완료\n"
     ]
    }
   ],
   "source": [
    "# 영화 리뷰 개수 크롤링\n",
    "review_cnt_list = []\n",
    "cnt = 1\n",
    "for i in code_list:\n",
    "    url = f\"https://movie.naver.com/movie/bi/mi/review.nhn?code={i}\"\n",
    "    req = requests.get(url)\n",
    "    soup = BeautifulSoup(req.text, \"html.parser\")\n",
    "    try : \n",
    "        r_num = soup.select_one('span.cnt > em').text\n",
    "    except :\n",
    "        r_num = 0\n",
    "    if cnt % 10 == 0 :\n",
    "        print('.', end='')\n",
    "    review_cnt_list.append(r_num)\n",
    "    \n",
    "    cnt += 1\n",
    "print('완료') \n",
    "#print(review_cnt_list)"
   ]
  },
  {
   "cell_type": "code",
   "execution_count": 45,
   "metadata": {},
   "outputs": [],
   "source": [
    "import winsound as sd\n",
    "def beepsound():\n",
    "    fr = 2000    # range : 37 ~ 32767\n",
    "    du = 1000     # 1000 ms ==1second\n",
    "    sd.Beep(fr, du) # winsound.Beep(frequency, duration)\n",
    "beepsound()"
   ]
  },
  {
   "cell_type": "code",
   "execution_count": 31,
   "metadata": {
    "scrolled": true
   },
   "outputs": [
    {
     "data": {
      "text/plain": [
       "878"
      ]
     },
     "execution_count": 31,
     "metadata": {},
     "output_type": "execute_result"
    }
   ],
   "source": [
    "len(review_cnt_list)"
   ]
  },
  {
   "cell_type": "code",
   "execution_count": 46,
   "metadata": {},
   "outputs": [
    {
     "name": "stdout",
     "output_type": "stream",
     "text": [
      "['38', '3', '66', '79', '0', '0', '0', '0', '0', '0', '0', '3', '0', '17', '9', '86', '11', '70', '1', '4101', '0', '0', '0', '0', '0', '0', '0', '0', '0', '281', '0', '0', '1', '0', '0', '0', '49', '16', '93', '0', '9', '0', '1412', '2200', '2', '0', '194', '35', '100', '1', '2', '0', '0', '0', '20', '0', '0', '751', '16', '0', '878', '0', '17', '16', '7', '17', '29', '16', '876', '213', '3272', '0', '2', '24', '10', '0', '0', '69', '0', '8', '66', '0', '8', '0', '57', '4', '141', '20', '59', '0', '0', '63', '0', '25', '3036', '1115', '95', '0', '27', '66', '57', '14', '26', '104', '34', '17', '8', '11', '21', '39', '18', '0', '95', '0', '9', '41', '0', '0', '0', '1', '0', '0', '5', '0', '10', '70', '0', '33', '115', '595', '0', '45', '21', '120', '0', '1', '18', '129', '1', '0', '0', '0', '21', '106', '1786', '32', '14', '18', '4', '11', '2', '6', '679', '700', '17', '0', '0', '1', '0', '2', '0', '20', '4', '0', '28', '0', '16', '26', '4', '0', '20', '40', '0', '43', '54', '0', '103', '63', '0', '315', '474', '15', '1', '7', '0', '8', '0', '314', '131', '158', '3', '2', '5', '106', '170', '663', '0', '16', '14', '7', '232', '0', '0', '80', '1', '0', '0', '0', '6', '0', '0', '0', '0', '6', '0', '0', '16', '0', '3', '0', '0', '786', '26', '728', '0', '4', '681', '99', '5', '410', '5', '2671', '733', '0', '22', '326', '5', '0', '535', '6', '18', '15', '63', '29', '7', '6', '81', '0', '0', '2', '4', '0', '16', '63', '555', '0', '1', '52', '23', '102', '1', '1', '0', '1', '1', '1', '1', '0', '1', '0', '1', '0', '2', '0', '2', '1', '0', '1', '0', '0', '0', '0', '0', '1', '0', '1', '0', '1', '0', '1', '0', '8', '117', '228', '35', '58', '25', '22', '315', '97', '38', '44', '2', '0', '0', '213', '1', '26', '16', '249', '279', '47', '19', '2172', '84', '3', '0', '7', '200', '10', '6', '8', '0', '258', '432', '98', '10', '678', '18', '1169', '1', '11', '8', '2', '0', '1', '30', '0', '0', '68', '251', '572', '1', '176', '79', '11', '0', '0', '434', '427', '0', '5', '1', '2', '0', '7', '233', '0', '0', '7', '31', '355', '0', '1', '3', '28', '240', '88', '0', '284', '17', '0', '0', '0', '88', '462', '5', '326', '0', '0', '210', '0', '0', '0', '0', '2', '52', '0', '1', '56', '0', '3', '0', '5', '1827', '209', '0', '49', '0', '0', '7', '84', '0', '204', '113', '110', '0', '20', '88', '0', '78', '0', '662', '357', '4', '0', '964', '341', '51', '10', '15', '310', '0', '0', '2', '1', '413', '20', '16', '498', '0', '8', '26', '3', '80', '50', '52', '3', '0', '862', '410', '20', '0', '14', '0', '2', '0', '345', '101', '434', '23', '11', '1282', '2', '388', '21', '0', '36', '2', '292', '0', '2', '0', '1', '333', '7', '124', '22', '0', '9', '10', '336', '37', '0', '18', '3060', '3', '5', '108', '5', '12', '4', '0', '112', '4926', '10', '4', '11', '115', '0', '172', '3', '410', '859', '2', '1', '0', '17', '0', '1', '108', '6', '24', '0', '11', '5', '208', '3', '0', '32', '1', '0', '0', '0', '0', '0', '23', '45', '62', '0', '0', '0', '33', '136', '6', '0', '4', '37', '664', '129', '21', '13', '64', '0', '4', '33', '5', '12', '0', '97', '4', '1', '0', '759', '108', '29', '0', '130', '182', '37', '87', '1', '0', '79', '148', '1', '27', '14', '0', '73', '0', '15', '19', '176', '136', '57', '1', '0', '3', '1', '193', '344', '595', '0', '0', '40', '0', '0', '0', '0', '1', '0', '8', '0', '3', '13', '245', '11', '0', '48', '491', '0', '18', '0', '5004', '1', '25', '0', '0', '0', '0', '1', '2', '0', '0', '22', '0', '4', '226', '0', '91', '94', '220', '3', '3', '15', '2', '3', '0', '74', '338', '155', '2', '31', '66', '1265', '44', '0', '424', '1', '106', '0', '5', '27', '0', '0', '1', '4', '1', '1', '1', '1', '4', '2024', '0', '130', '0', '0', '458', '0', '19', '0', '12', '29', '29', '30', '0', '85', '5', '1', '4', '68', '1', '10', '3', '0', '0', '0', '0', '0', '0', '1304', '5', '0', '0', '900', '58', '0', '28', '10', '6', '1023', '45', '0', '9', '35', '9', '0', '2', '66', '50', '83', '24', '22', '0', '0', '0', '7', '0', '17', '2', '2755', '0', '0', '1035', '0', '0', '5', '134', '0', '11', '49', '4', '4', '204', '15', '66', '3', '21', '18', '12', '0', '0', '9', '0', '53', '3070', '0', '0', '123', '0', '150', '1', '420', '73', '7', '69', '0', '164', '0', '0', '55', '517', '9', '132', '108', '99', '4', '4', '2', '8', '55', '115', '40', '17', '1', '55', '36', '4218', '1', '35', '1', '4', '936', '0', '0', '0', '62', '96', '6', '287', '56', '23', '3', '5', '33', '393', '746', '9', '6', '985', '8', '0', '0', '20', '6', '139', '0', '0', '0', '82', '1667', '0', '0', '695', '100', '152', '5', '0', '0', '7', '4', '17', '7', '1154', '214', '440', '7', '13', '17', '2', '134', '3', '70', '1', '61', '86', '38', '2', '8', '7', '28', '0', '0', '8', '0', '0', '0', '1701', '0', '406', '21', '0', '0', '2', '18', '71', '0', '0', '18', '227', '0', '5', '12', '0', '161', '13', '2335', '2250', '579', '1', '1198', '0', '3', '0', '1865', '17', '0', '14', '6', '0', '0', '0', '0', '3165', '0', '0', '9', '315', '0', '3', '5', '19', '258', '403', '0', '0', '3', '0', '13', '0', '0', '130', '2', '338', '16', '1', '442', '0', '2', '2', '0', '2', '27', '387', '272', '57', '2', '0', '12', '0', '12', '1', '1', '49', '537', '5', '811', '0', '11', '643', '565', '10', '71', '105', '0', '135', '31', '659', '2', '0', '1072', '15', '11', '28', '50', '1', '0', '0', '0', '1', '0', '0', '0', '425', '1', '14', '27', '0', '6', '33', '0', '50', '1', '19', '927', '35', '4', '500', '9', '11', '121', '58', '0', '0', '1193', '81', '7', '141', '79', '336', '4', '476', '0', '416', '22', '43', '0', '17', '40', '5', '7', '2', '41', '0', '0', '0', '105', '1', '0', '0', '21', '8', '0', '0', '0', '0', '0', '1', '36', '126', '0', '0', '1133', '1', '5', '20', '26', '26', '0', '3', '3', '359', '29', '21', '2', '426', '533', '116', '1245', '1', '0', '35', '127', '52', '24', '39', '79', '167', '0', '0', '45', '68', '73', '36', '28', '88', '50', '34', '0', '0', '3', '530', '1', '0', '0', '1131', '0', '4', '1', '9', '5', '6', '248', '11', '76', '91', '86', '0', '0', '0', '130', '0', '0', '0', '15', '12', '372', '140', '7', '20', '129', '173', '86', '55', '20', '70', '1488', '25', '2', '0', '23', '8', '327', '271', '2', '68', '5', '5', '10', '1', '0', '135', '14', '90', '1', '39', '0', '93', '19', '1112', '0', '71', '0', '0', '2', '34', '355', '1865', '16', '78', '0', '39', '25', '47', '65', '46', '34', '58', '1', '3', '32', '2', '10', '4', '0', '1', '1', '93', '26', '20', '16', '1', '1', '2', '0', '34', '10', '32', '173', '3', '4', '0', '108', '0', '0', '60', '443', '9', '3', '255', '22', '50', '5', '202', '55', '17', '332', '20', '19', '78', '265', '67', '7', '0', '5', '1', '12', '0', '37', '0', '0', '3', '0', '10', '94', '106', '16', '1', '0', '0', '21', '18', '0', '0', '1037', '40', '428', '24', '96', '0', '0', '0', '0', '18', '66', '27', '1350', '14', '217', '173', '30', '245', '40', '5', '8', '1742', '31', '23', '470', '0', '0', '72', '0', '0', '0', '42', '6', '0', '0', '0', '124', '0', '13', '7', '0', '186', '74', '60']\n"
     ]
    }
   ],
   "source": [
    "#숫자에 , 제거\n",
    "for i in range(len(review_cnt_list)) :\n",
    "    review_cnt_list[i] = re.sub(',','',str(review_cnt_list[i]))\n",
    "print(review_cnt_list)"
   ]
  },
  {
   "cell_type": "code",
   "execution_count": 10,
   "metadata": {},
   "outputs": [
    {
     "name": "stdout",
     "output_type": "stream",
     "text": [
      "[]\n"
     ]
    }
   ],
   "source": [
    "# 각 영화 리뷰 고유 번호 크롤링 2번째 영화 예시\n",
    "\n",
    "review_num_list = []\n",
    "\n",
    "for j in range(1, ((int(review_cnt_list[1])-1) // 10)+2) :\n",
    "    print(j)\n",
    "    url = f'https://movie.naver.com/movie/bi/mi/review.nhn?code=140265&page={j}'\n",
    "    req = requests.get(url)\n",
    "    soup = BeautifulSoup(req.text, \"html.parser\")\n",
    "    \n",
    "    if j == 14 :\n",
    "        time.sleep(1)\n",
    "    for href in soup.find(\"ul\", class_=\"rvw_list_area\").find_all(\"li\"):\n",
    "        #list = href.find(\"a\").split('showReviewDetail')\n",
    "        list = href.find(\"a\")\n",
    "        list = re.findall('\\(([^)]+)',str(list))[1]\n",
    "        review_num_list.append(list)\n",
    "    print(len(review_num_list))\n",
    "    print('='*30)\n",
    "    \n",
    "\n",
    "print(review_num_list)\n"
   ]
  },
  {
   "cell_type": "code",
   "execution_count": 55,
   "metadata": {
    "scrolled": true
   },
   "outputs": [
    {
     "data": {
      "text/plain": [
       "181"
      ]
     },
     "execution_count": 55,
     "metadata": {},
     "output_type": "execute_result"
    }
   ],
   "source": [
    "len(review_num_list)"
   ]
  },
  {
   "cell_type": "code",
   "execution_count": 85,
   "metadata": {
    "collapsed": true
   },
   "outputs": [
    {
     "name": "stdout",
     "output_type": "stream",
     "text": [
      "[\n",
      "﻿토요일에 내리던 비가 그치고 황사가 휘몰아치는 일요일 오전 난생 처음으로 CGV 홍대를 찾아 우리의 파괴지왕,\n",
      "마이클 베이 형님의 영화 [13시간]을 보고 왔습니다. 집에서 걸어서 10분 거리에 메가박스와 CGV가 모두 있는 축복 받은​\n",
      "영화 관람 환경에 살고 있지만 어째 두 극장 모두 이 영화는 밤 10시가 넘어야만 상영을 한다는..\n",
      "​\n",
      "뭐 별 수 있나요. 영화를 보고픈 넘이 극장을 찾아가야죠..ㅜ.ㅜ \n",
      "암튼 국내 멀티플렉스들은 잘 되는 영화들에만 멀티를 제공하지 안 되는 영화에겐 ​\n",
      "미네랄도 없는 앞마당을 던져주는 것 같은 느낌이라는..\n",
      "그래서 그나마 집 가까운 곳에서 볼 만한 시간에 상영해 주는 곳을 찾아보니 \n",
      "CGV 홍대점이 따악~흠 그래 이 참에 새로운 곳을 방문해 보는 곳도 괜찮겠지..싶어서 \n",
      "버스타고 20분 만에 호로록 극장에 도착. 했습니다. 홍대역 1번 출구에서 바로 이어지는\n",
      "건물에 입점해 있어 그런지 접근성은 죽여주더만요.​\n",
      "​\n",
      "난생 첨 가보는 극장이라 이래저래 둘러보고 사진도 좀 찍어 봤습니다.\n",
      "\n",
      "​\n",
      "4층에 올라가니 요렇게 깔끔하게 나 오픈한지 얼마 안된 곳이야~라는 느낌을 뿜어내 주더군요.\n",
      "요즘 새로 오픈하는 CGV는 다 이런 식으로 개관하나 봐요.\n",
      "​\n",
      "\n",
      "​\n",
      "매표소도 깔끔하네요. 일요일 오전이라 그런지 매표소 앞도 무쟈게 조용하더라구요.\n",
      "​\n",
      "매표소 옆엔 매표소의 2배는 족히 됨직한 넓은 매점이 있습니다. \n",
      "우리나라 극장들은 티켓 보단 팝콘 팔기에 더욱 열중하는 모습을 거침없이 보여주죠.\n",
      "근데 사람이 한명도 없다는게 함정..저 역시 평소에 매점을 이용하지 않습니다만 \n",
      "이날은 마침 손님도 없고, 생일콤보무료 쿠폰이 있어서 과감하게 매진으로 돌진했습니다.\n",
      "​\n",
      "\n",
      "​\n",
      "전 CGV 생일 콤보 첨 받아봤는데 요렇게 반반에 에이드로까지 가능하네요. 오오 몰랐어요.\n",
      "기왕 먹어보는거 다양스레 먹어보자 해서 달콤 / 어니언 팝콘에, 블루베리 / 자몽 에이드를 시켰습니다.\n",
      "영화 상영 시간상 점심 대용입니다.​\n",
      "​\n",
      "​\n",
      "13시간을 관람한 4관입니다. 보통의 CGV와 달리 여의도점처럼 한관씩 따로 입장하는 방식이네요.\n",
      "상영관 내부 사진은 못 찍었는데 CGV 홍대는 스크린이 정사각형 사이즈더군요. 그래서인지 보통의 1.85:1 비율의\n",
      "영화도 위아래 블랙바가 남는데 어제 본 13시간 같은 경우 시네마스코프 비율의 영화라 그런지 2배로 블랙바가 남아서\n",
      "스크린의 반밖에 사용하지 못하더라구요. 왜 이따위로 만든건지 나 원..\n",
      "\n",
      "뭐 그래도 새로 오픈한 곳이라 그런지 앞뒤 좌석 간격이나 그런 것은 괜찮았고 사운드는 짱짱하더만요. ​\n",
      "저의 CGV 홍대점의 전반적인 인상은 나쁘지는 않지만 자주 올 일은 없겠다. 였습니다.\n",
      "무엇보다 여긴 특별관도 없고 주차장이 없어요. ㅜ.ㅜ 뭐 홍대앞에서 자주 노시는 분들이나 데이트하시는\n",
      "분들이라면 분위기도 나쁘지 않고 신식이니 ​잘 이용하시면 괜찮을 거 같긴 합니다.\n",
      "​\n",
      "자 극장에 대한 썰은 이 정도 하고 이제 본격적으로 영화에 대한 썰을 풀어보자면\n",
      "이 영화를 누가 만들었는지 모르고 보러 오신 분들이 제법 되시더라구요.\n",
      "영화 다 끝나고 엔딩 크레딧 올라가며 감독이 '마이클 베이' 라고 나오자 제 뒤에 관객분이\n",
      "\"어, 마이클 베이면 그거 만든 그 감독 아냐?\" 라고 하더군요.\n",
      "​\n",
      "네 맞습니다. 이 영화 국내에서 홍보가 많이 안 되어 그렇지 이 영화를 만드신 분이 바로\n",
      "희대의 파괴지왕, 파괴의 신 마이클 베이 감독 되시겠습니다.\n",
      "\n",
      "&lt;캬..마베 형님도 이제 나이드신 티가 완연하다는..&gt;\n",
      "​\n",
      "이 영화 줄거리는 우선 이렇게 소개되어 있습니다만\n",
      "​\n",
      "2012년 9월 11일 리비아에서 끔찍한 테러 사건이 발생한다. 벵가지 소재 미국 영사관에 총기와 수류탄을 든 수십 명의 무장 괴한들이 침입하는 충격적인 사건이 벌어진 것. 벵가지에서 비밀리에 작전을 수행하고 있던 CIA를 보호하기 위해 파견된 6명의 민간 용병들은 남아있는 36명의 목숨을 구하기 위해 일촉즉발의 구출작전에 나서게 되는데… \n",
      "​\n",
      "뭐 이런거 모르셔도 됩니다. 왜냐 마베형 영화에서 어차피 줄거리가 크게 중요하진 않다는 것을 \n",
      "우리는 이미 본능적으로 알고 있습니다. 게다가 영화 시작하면 친절하게 자막으로 다 설명해 줍니다. \n",
      "그리고 이 영화는 실화라는 것을 강조하며 영화는 시작합니다.\n",
      "​\n",
      "근데 참 묘합니다. 분명 실화인데 실화같은 느낌이 안 듭니다. \n",
      "\n",
      "이런 비슷한 소재의 영화가 예전에 있었습니다. \n",
      "바로 리들리 스콧옹께서 만든 [블랙호크 다운] 이라는 영화죠. \n",
      "기억하시는 분들 많으실 겁니다. 참고로 13시간 영화 내에서 블랙호크 다운이 언급되기도 합니다.\n",
      "블랙 호크 다운은 소말리아 모가디슈의 시가전과 블랙호크 기의 추락, 전쟁의 참상 등이\n",
      "정말 리얼하게 다가왔다면 이 영화 [13시간]은 분명 실화인데도 실화가 주는 처절함이라던지,\n",
      "긴장감이 느껴지지 않습니다. 왜냐구요? 그건 감독이 마베형님이기 때문이죠.\n",
      "​\n",
      "우리는 이미 마이클 베이의 액션 영화가 어떻게 진행될지 잘 알고 있습니다.\n",
      "실화를 바탕으로 마이클 베이가 만들었던 [진주만] 기억 나시나요?\n",
      "아무리 미국이 불리한 상황에 처하더라도 우리의 미국인 주인공들은 거리낌없이 적을 물리치고,\n",
      "용맹무쌍하며 , 결국은 승리를 이끌어 내는것 아니겠습니까? 보너스로 모든 총알도 다 피해가죠.\n",
      "​\n",
      "13시간에 등장하는 모든 미국인들은 영화 내내 엄청난 위기라며 ​울부짖고, 화내고,\n",
      "우왕좌왕 하지만 전혀 위기감은 느껴지지 않습니다. 왜냐구요? 6명의 용병 정도면 충분하죠.\n",
      "그들은 자랑스런 '어메리컨' 이니까요. 혹시나 했는데 역시나 였습니다.\n",
      "​\n",
      "저는 이 영화를 보면서 '도대체 쟤들이 뭐가 위기라는거야?' 싶었습니다.\n",
      "왜냐구요? 이건 블랙호크 다운과 완전 다른 전투였거든요.\n",
      "블랙호크 다운은 시가전을 서로 벌이느라 미군의 손실도 컷지만\n",
      "[상대적으로 컷다는 거지 그때도 소말리아인들의 피해가 훨씬 많았죠].\n",
      "이 영화에서의 주요 전투는 미군이 높은 건물에 요새를 구축해 놓고 지키는 방어전의 형태입니다.​\n",
      "​\n",
      "이게 압도적으로 미군이 유리한게 비록 소수라고 하더라도 높은 지대에 위치해있고,\n",
      "리비아인들에겐 없는 나이트 비전에, 우수한 전투 경험 및 무기를 보유하고 있기 때문에\n",
      "리비아인들만 픽픽 죽어 나갑니다. 이건 거의 학살인데? 싶습니다.\n",
      "​\n",
      "\n",
      "​\n",
      "요 장면이 영화에서 유일하게 용병들이 피해입는 장면입니다. 이 한방을 날리기 위해 리비아인들은 수백명의 목숨을\n",
      "파리처럼 날렸다죠 아마. 그러나 우리의 무적 용병들은 이런 미사일이 터져도 절대 몰살되거나 하지 않습니다.\n",
      "반면 리비아인들은 미군이 대충 쏴도 다 맞아 죽어요. ㅜ.ㅜ \n",
      "​\n",
      "저는 영화를 보며 불편했던게 미국은 정의의 편, 미국의 반대편은 무조건 나쁜 편. 이런 주제가 너무 뚜렷하게\n",
      "보였다는 것입니다. 영화 홍보 포스터에도 정의를 위해 싸운 6명의 영웅이 있었다. 라고 되어 있는데\n",
      "과연 그들의 싸움에 정의가 있었는지, 그들이 영웅인지 와닫지 않았습니다. \n",
      " \n",
      "물론 리비아인들의 미국 공관 습격이 결코 잘했다는 것도 아니고, 그 와중에 희생된 미국 대사 같은 경우\n",
      "가슴아픈 일이지만, 저는 그것보다 용병들의 총에 맞아 죽은 리비아인들, 그들 가족들의 절규가 잠깐 나오는\n",
      "그 순간이 더 마음이 아팠습니다. ​\n",
      "​\n",
      "아무튼 마이클 베이의 영화답게 영화 내내 총질은 부지런히 하고, 열심히 터뜨립니다.\n",
      "근데 그게 너무 계속되니 지루해지기도 합니다. 심지어 같이 본 제 친구는 그리도 시끄럽고 터뜨리는데\n",
      "한 20분은 졸더군요. 저는 졸지는 않았습니다만 역시 마베 영화로구나~라는 느낌으로 충만하게 봤네요.\n",
      "마베형 이 정도의 애국심이면 다음 대선에 트럼프의 뒤를 이어 공화당 후보로 나오는거 아닌지 모르겠습니다.​\n",
      "​\n",
      "\n",
      "​\n",
      "13시간 한줄평 - 마베형 영화의 미국군인들은 다들 슈퍼솔져 혈청이라도 맞았나 보다​ ★★☆\n",
      "]\n"
     ]
    }
   ],
   "source": [
    "#리뷰 텍스트 가져오기 - 예시\n",
    "url = 'https://movie.naver.com/movie/bi/mi/reviewread.nhn?nid=4225907&code=140265&order=#tab'\n",
    "req = requests.get(url)\n",
    "soup = BeautifulSoup(req.text, \"html.parser\")\n",
    "review = soup.select('div.user_tx_area')\n",
    "review = re.sub('(<([^>]+)>)', '', str(review))\n",
    "print(review)"
   ]
  },
  {
   "cell_type": "code",
   "execution_count": 1,
   "metadata": {
    "scrolled": true
   },
   "outputs": [
    {
     "ename": "NameError",
     "evalue": "name 'code_list' is not defined",
     "output_type": "error",
     "traceback": [
      "\u001b[1;31m---------------------------------------------------------------------------\u001b[0m",
      "\u001b[1;31mNameError\u001b[0m                                 Traceback (most recent call last)",
      "\u001b[1;32m<ipython-input-1-d5e00afad073>\u001b[0m in \u001b[0;36m<module>\u001b[1;34m\u001b[0m\n\u001b[1;32m----> 1\u001b[1;33m \u001b[0mcode_list\u001b[0m\u001b[1;33m.\u001b[0m\u001b[0mindex\u001b[0m\u001b[1;33m(\u001b[0m\u001b[1;34m'83697'\u001b[0m\u001b[1;33m)\u001b[0m\u001b[1;33m\u001b[0m\u001b[1;33m\u001b[0m\u001b[0m\n\u001b[0m",
      "\u001b[1;31mNameError\u001b[0m: name 'code_list' is not defined"
     ]
    }
   ],
   "source": [
    "code_list.index('83697')"
   ]
  },
  {
   "cell_type": "code",
   "execution_count": 50,
   "metadata": {},
   "outputs": [
    {
     "data": {
      "text/plain": [
       "'87163'"
      ]
     },
     "execution_count": 50,
     "metadata": {},
     "output_type": "execute_result"
    }
   ],
   "source": [
    "code_list[620]"
   ]
  },
  {
   "cell_type": "code",
   "execution_count": 54,
   "metadata": {
    "scrolled": true
   },
   "outputs": [
    {
     "name": "stdout",
     "output_type": "stream",
     "text": [
      "117251  :  1940: 나치 공습 작전 (Angel of the Skies)  완료/ "
     ]
    },
    {
     "ename": "KeyboardInterrupt",
     "evalue": "",
     "output_type": "error",
     "traceback": [
      "\u001b[1;31m---------------------------------------------------------------------------\u001b[0m",
      "\u001b[1;31mKeyboardInterrupt\u001b[0m                         Traceback (most recent call last)",
      "\u001b[1;32m<ipython-input-54-6eeeda124c16>\u001b[0m in \u001b[0;36m<module>\u001b[1;34m\u001b[0m\n\u001b[0;32m     41\u001b[0m     \u001b[1;32mfor\u001b[0m \u001b[0mr\u001b[0m \u001b[1;32min\u001b[0m \u001b[0mreview_num_list\u001b[0m \u001b[1;33m:\u001b[0m\u001b[1;33m\u001b[0m\u001b[1;33m\u001b[0m\u001b[0m\n\u001b[0;32m     42\u001b[0m         \u001b[0murl\u001b[0m \u001b[1;33m=\u001b[0m \u001b[1;34mf'https://movie.naver.com/movie/bi/mi/reviewread.nhn?nid={r}&code={num_id}&order=#tab'\u001b[0m\u001b[1;33m\u001b[0m\u001b[1;33m\u001b[0m\u001b[0m\n\u001b[1;32m---> 43\u001b[1;33m         \u001b[0mreq\u001b[0m \u001b[1;33m=\u001b[0m \u001b[0mrequests\u001b[0m\u001b[1;33m.\u001b[0m\u001b[0mget\u001b[0m\u001b[1;33m(\u001b[0m\u001b[0murl\u001b[0m\u001b[1;33m)\u001b[0m\u001b[1;33m\u001b[0m\u001b[1;33m\u001b[0m\u001b[0m\n\u001b[0m\u001b[0;32m     44\u001b[0m         \u001b[0msoup\u001b[0m \u001b[1;33m=\u001b[0m \u001b[0mBeautifulSoup\u001b[0m\u001b[1;33m(\u001b[0m\u001b[0mreq\u001b[0m\u001b[1;33m.\u001b[0m\u001b[0mtext\u001b[0m\u001b[1;33m,\u001b[0m \u001b[1;34m\"html.parser\"\u001b[0m\u001b[1;33m)\u001b[0m\u001b[1;33m\u001b[0m\u001b[1;33m\u001b[0m\u001b[0m\n\u001b[0;32m     45\u001b[0m         \u001b[0mreview\u001b[0m \u001b[1;33m=\u001b[0m \u001b[0msoup\u001b[0m\u001b[1;33m.\u001b[0m\u001b[0mselect\u001b[0m\u001b[1;33m(\u001b[0m\u001b[1;34m'div.user_tx_area'\u001b[0m\u001b[1;33m)\u001b[0m\u001b[1;33m\u001b[0m\u001b[1;33m\u001b[0m\u001b[0m\n",
      "\u001b[1;32mC:\\ProgramData\\Anaconda3\\lib\\site-packages\\requests\\api.py\u001b[0m in \u001b[0;36mget\u001b[1;34m(url, params, **kwargs)\u001b[0m\n\u001b[0;32m     74\u001b[0m \u001b[1;33m\u001b[0m\u001b[0m\n\u001b[0;32m     75\u001b[0m     \u001b[0mkwargs\u001b[0m\u001b[1;33m.\u001b[0m\u001b[0msetdefault\u001b[0m\u001b[1;33m(\u001b[0m\u001b[1;34m'allow_redirects'\u001b[0m\u001b[1;33m,\u001b[0m \u001b[1;32mTrue\u001b[0m\u001b[1;33m)\u001b[0m\u001b[1;33m\u001b[0m\u001b[1;33m\u001b[0m\u001b[0m\n\u001b[1;32m---> 76\u001b[1;33m     \u001b[1;32mreturn\u001b[0m \u001b[0mrequest\u001b[0m\u001b[1;33m(\u001b[0m\u001b[1;34m'get'\u001b[0m\u001b[1;33m,\u001b[0m \u001b[0murl\u001b[0m\u001b[1;33m,\u001b[0m \u001b[0mparams\u001b[0m\u001b[1;33m=\u001b[0m\u001b[0mparams\u001b[0m\u001b[1;33m,\u001b[0m \u001b[1;33m**\u001b[0m\u001b[0mkwargs\u001b[0m\u001b[1;33m)\u001b[0m\u001b[1;33m\u001b[0m\u001b[1;33m\u001b[0m\u001b[0m\n\u001b[0m\u001b[0;32m     77\u001b[0m \u001b[1;33m\u001b[0m\u001b[0m\n\u001b[0;32m     78\u001b[0m \u001b[1;33m\u001b[0m\u001b[0m\n",
      "\u001b[1;32mC:\\ProgramData\\Anaconda3\\lib\\site-packages\\requests\\api.py\u001b[0m in \u001b[0;36mrequest\u001b[1;34m(method, url, **kwargs)\u001b[0m\n\u001b[0;32m     59\u001b[0m     \u001b[1;31m# cases, and look like a memory leak in others.\u001b[0m\u001b[1;33m\u001b[0m\u001b[1;33m\u001b[0m\u001b[1;33m\u001b[0m\u001b[0m\n\u001b[0;32m     60\u001b[0m     \u001b[1;32mwith\u001b[0m \u001b[0msessions\u001b[0m\u001b[1;33m.\u001b[0m\u001b[0mSession\u001b[0m\u001b[1;33m(\u001b[0m\u001b[1;33m)\u001b[0m \u001b[1;32mas\u001b[0m \u001b[0msession\u001b[0m\u001b[1;33m:\u001b[0m\u001b[1;33m\u001b[0m\u001b[1;33m\u001b[0m\u001b[0m\n\u001b[1;32m---> 61\u001b[1;33m         \u001b[1;32mreturn\u001b[0m \u001b[0msession\u001b[0m\u001b[1;33m.\u001b[0m\u001b[0mrequest\u001b[0m\u001b[1;33m(\u001b[0m\u001b[0mmethod\u001b[0m\u001b[1;33m=\u001b[0m\u001b[0mmethod\u001b[0m\u001b[1;33m,\u001b[0m \u001b[0murl\u001b[0m\u001b[1;33m=\u001b[0m\u001b[0murl\u001b[0m\u001b[1;33m,\u001b[0m \u001b[1;33m**\u001b[0m\u001b[0mkwargs\u001b[0m\u001b[1;33m)\u001b[0m\u001b[1;33m\u001b[0m\u001b[1;33m\u001b[0m\u001b[0m\n\u001b[0m\u001b[0;32m     62\u001b[0m \u001b[1;33m\u001b[0m\u001b[0m\n\u001b[0;32m     63\u001b[0m \u001b[1;33m\u001b[0m\u001b[0m\n",
      "\u001b[1;32mC:\\ProgramData\\Anaconda3\\lib\\site-packages\\requests\\sessions.py\u001b[0m in \u001b[0;36mrequest\u001b[1;34m(self, method, url, params, data, headers, cookies, files, auth, timeout, allow_redirects, proxies, hooks, stream, verify, cert, json)\u001b[0m\n\u001b[0;32m    528\u001b[0m         }\n\u001b[0;32m    529\u001b[0m         \u001b[0msend_kwargs\u001b[0m\u001b[1;33m.\u001b[0m\u001b[0mupdate\u001b[0m\u001b[1;33m(\u001b[0m\u001b[0msettings\u001b[0m\u001b[1;33m)\u001b[0m\u001b[1;33m\u001b[0m\u001b[1;33m\u001b[0m\u001b[0m\n\u001b[1;32m--> 530\u001b[1;33m         \u001b[0mresp\u001b[0m \u001b[1;33m=\u001b[0m \u001b[0mself\u001b[0m\u001b[1;33m.\u001b[0m\u001b[0msend\u001b[0m\u001b[1;33m(\u001b[0m\u001b[0mprep\u001b[0m\u001b[1;33m,\u001b[0m \u001b[1;33m**\u001b[0m\u001b[0msend_kwargs\u001b[0m\u001b[1;33m)\u001b[0m\u001b[1;33m\u001b[0m\u001b[1;33m\u001b[0m\u001b[0m\n\u001b[0m\u001b[0;32m    531\u001b[0m \u001b[1;33m\u001b[0m\u001b[0m\n\u001b[0;32m    532\u001b[0m         \u001b[1;32mreturn\u001b[0m \u001b[0mresp\u001b[0m\u001b[1;33m\u001b[0m\u001b[1;33m\u001b[0m\u001b[0m\n",
      "\u001b[1;32mC:\\ProgramData\\Anaconda3\\lib\\site-packages\\requests\\sessions.py\u001b[0m in \u001b[0;36msend\u001b[1;34m(self, request, **kwargs)\u001b[0m\n\u001b[0;32m    641\u001b[0m \u001b[1;33m\u001b[0m\u001b[0m\n\u001b[0;32m    642\u001b[0m         \u001b[1;31m# Send the request\u001b[0m\u001b[1;33m\u001b[0m\u001b[1;33m\u001b[0m\u001b[1;33m\u001b[0m\u001b[0m\n\u001b[1;32m--> 643\u001b[1;33m         \u001b[0mr\u001b[0m \u001b[1;33m=\u001b[0m \u001b[0madapter\u001b[0m\u001b[1;33m.\u001b[0m\u001b[0msend\u001b[0m\u001b[1;33m(\u001b[0m\u001b[0mrequest\u001b[0m\u001b[1;33m,\u001b[0m \u001b[1;33m**\u001b[0m\u001b[0mkwargs\u001b[0m\u001b[1;33m)\u001b[0m\u001b[1;33m\u001b[0m\u001b[1;33m\u001b[0m\u001b[0m\n\u001b[0m\u001b[0;32m    644\u001b[0m \u001b[1;33m\u001b[0m\u001b[0m\n\u001b[0;32m    645\u001b[0m         \u001b[1;31m# Total elapsed time of the request (approximately)\u001b[0m\u001b[1;33m\u001b[0m\u001b[1;33m\u001b[0m\u001b[1;33m\u001b[0m\u001b[0m\n",
      "\u001b[1;32mC:\\ProgramData\\Anaconda3\\lib\\site-packages\\requests\\adapters.py\u001b[0m in \u001b[0;36msend\u001b[1;34m(self, request, stream, timeout, verify, cert, proxies)\u001b[0m\n\u001b[0;32m    437\u001b[0m         \u001b[1;32mtry\u001b[0m\u001b[1;33m:\u001b[0m\u001b[1;33m\u001b[0m\u001b[1;33m\u001b[0m\u001b[0m\n\u001b[0;32m    438\u001b[0m             \u001b[1;32mif\u001b[0m \u001b[1;32mnot\u001b[0m \u001b[0mchunked\u001b[0m\u001b[1;33m:\u001b[0m\u001b[1;33m\u001b[0m\u001b[1;33m\u001b[0m\u001b[0m\n\u001b[1;32m--> 439\u001b[1;33m                 resp = conn.urlopen(\n\u001b[0m\u001b[0;32m    440\u001b[0m                     \u001b[0mmethod\u001b[0m\u001b[1;33m=\u001b[0m\u001b[0mrequest\u001b[0m\u001b[1;33m.\u001b[0m\u001b[0mmethod\u001b[0m\u001b[1;33m,\u001b[0m\u001b[1;33m\u001b[0m\u001b[1;33m\u001b[0m\u001b[0m\n\u001b[0;32m    441\u001b[0m                     \u001b[0murl\u001b[0m\u001b[1;33m=\u001b[0m\u001b[0murl\u001b[0m\u001b[1;33m,\u001b[0m\u001b[1;33m\u001b[0m\u001b[1;33m\u001b[0m\u001b[0m\n",
      "\u001b[1;32mC:\\ProgramData\\Anaconda3\\lib\\site-packages\\urllib3\\connectionpool.py\u001b[0m in \u001b[0;36murlopen\u001b[1;34m(self, method, url, body, headers, retries, redirect, assert_same_host, timeout, pool_timeout, release_conn, chunked, body_pos, **response_kw)\u001b[0m\n\u001b[0;32m    668\u001b[0m \u001b[1;33m\u001b[0m\u001b[0m\n\u001b[0;32m    669\u001b[0m             \u001b[1;31m# Make the request on the httplib connection object.\u001b[0m\u001b[1;33m\u001b[0m\u001b[1;33m\u001b[0m\u001b[1;33m\u001b[0m\u001b[0m\n\u001b[1;32m--> 670\u001b[1;33m             httplib_response = self._make_request(\n\u001b[0m\u001b[0;32m    671\u001b[0m                 \u001b[0mconn\u001b[0m\u001b[1;33m,\u001b[0m\u001b[1;33m\u001b[0m\u001b[1;33m\u001b[0m\u001b[0m\n\u001b[0;32m    672\u001b[0m                 \u001b[0mmethod\u001b[0m\u001b[1;33m,\u001b[0m\u001b[1;33m\u001b[0m\u001b[1;33m\u001b[0m\u001b[0m\n",
      "\u001b[1;32mC:\\ProgramData\\Anaconda3\\lib\\site-packages\\urllib3\\connectionpool.py\u001b[0m in \u001b[0;36m_make_request\u001b[1;34m(self, conn, method, url, timeout, chunked, **httplib_request_kw)\u001b[0m\n\u001b[0;32m    424\u001b[0m                     \u001b[1;31m# Python 3 (including for exceptions like SystemExit).\u001b[0m\u001b[1;33m\u001b[0m\u001b[1;33m\u001b[0m\u001b[1;33m\u001b[0m\u001b[0m\n\u001b[0;32m    425\u001b[0m                     \u001b[1;31m# Otherwise it looks like a bug in the code.\u001b[0m\u001b[1;33m\u001b[0m\u001b[1;33m\u001b[0m\u001b[1;33m\u001b[0m\u001b[0m\n\u001b[1;32m--> 426\u001b[1;33m                     \u001b[0msix\u001b[0m\u001b[1;33m.\u001b[0m\u001b[0mraise_from\u001b[0m\u001b[1;33m(\u001b[0m\u001b[0me\u001b[0m\u001b[1;33m,\u001b[0m \u001b[1;32mNone\u001b[0m\u001b[1;33m)\u001b[0m\u001b[1;33m\u001b[0m\u001b[1;33m\u001b[0m\u001b[0m\n\u001b[0m\u001b[0;32m    427\u001b[0m         \u001b[1;32mexcept\u001b[0m \u001b[1;33m(\u001b[0m\u001b[0mSocketTimeout\u001b[0m\u001b[1;33m,\u001b[0m \u001b[0mBaseSSLError\u001b[0m\u001b[1;33m,\u001b[0m \u001b[0mSocketError\u001b[0m\u001b[1;33m)\u001b[0m \u001b[1;32mas\u001b[0m \u001b[0me\u001b[0m\u001b[1;33m:\u001b[0m\u001b[1;33m\u001b[0m\u001b[1;33m\u001b[0m\u001b[0m\n\u001b[0;32m    428\u001b[0m             \u001b[0mself\u001b[0m\u001b[1;33m.\u001b[0m\u001b[0m_raise_timeout\u001b[0m\u001b[1;33m(\u001b[0m\u001b[0merr\u001b[0m\u001b[1;33m=\u001b[0m\u001b[0me\u001b[0m\u001b[1;33m,\u001b[0m \u001b[0murl\u001b[0m\u001b[1;33m=\u001b[0m\u001b[0murl\u001b[0m\u001b[1;33m,\u001b[0m \u001b[0mtimeout_value\u001b[0m\u001b[1;33m=\u001b[0m\u001b[0mread_timeout\u001b[0m\u001b[1;33m)\u001b[0m\u001b[1;33m\u001b[0m\u001b[1;33m\u001b[0m\u001b[0m\n",
      "\u001b[1;32mC:\\ProgramData\\Anaconda3\\lib\\site-packages\\urllib3\\packages\\six.py\u001b[0m in \u001b[0;36mraise_from\u001b[1;34m(value, from_value)\u001b[0m\n",
      "\u001b[1;32mC:\\ProgramData\\Anaconda3\\lib\\site-packages\\urllib3\\connectionpool.py\u001b[0m in \u001b[0;36m_make_request\u001b[1;34m(self, conn, method, url, timeout, chunked, **httplib_request_kw)\u001b[0m\n\u001b[0;32m    419\u001b[0m                 \u001b[1;31m# Python 3\u001b[0m\u001b[1;33m\u001b[0m\u001b[1;33m\u001b[0m\u001b[1;33m\u001b[0m\u001b[0m\n\u001b[0;32m    420\u001b[0m                 \u001b[1;32mtry\u001b[0m\u001b[1;33m:\u001b[0m\u001b[1;33m\u001b[0m\u001b[1;33m\u001b[0m\u001b[0m\n\u001b[1;32m--> 421\u001b[1;33m                     \u001b[0mhttplib_response\u001b[0m \u001b[1;33m=\u001b[0m \u001b[0mconn\u001b[0m\u001b[1;33m.\u001b[0m\u001b[0mgetresponse\u001b[0m\u001b[1;33m(\u001b[0m\u001b[1;33m)\u001b[0m\u001b[1;33m\u001b[0m\u001b[1;33m\u001b[0m\u001b[0m\n\u001b[0m\u001b[0;32m    422\u001b[0m                 \u001b[1;32mexcept\u001b[0m \u001b[0mBaseException\u001b[0m \u001b[1;32mas\u001b[0m \u001b[0me\u001b[0m\u001b[1;33m:\u001b[0m\u001b[1;33m\u001b[0m\u001b[1;33m\u001b[0m\u001b[0m\n\u001b[0;32m    423\u001b[0m                     \u001b[1;31m# Remove the TypeError from the exception chain in\u001b[0m\u001b[1;33m\u001b[0m\u001b[1;33m\u001b[0m\u001b[1;33m\u001b[0m\u001b[0m\n",
      "\u001b[1;32mC:\\ProgramData\\Anaconda3\\lib\\http\\client.py\u001b[0m in \u001b[0;36mgetresponse\u001b[1;34m(self)\u001b[0m\n\u001b[0;32m   1345\u001b[0m         \u001b[1;32mtry\u001b[0m\u001b[1;33m:\u001b[0m\u001b[1;33m\u001b[0m\u001b[1;33m\u001b[0m\u001b[0m\n\u001b[0;32m   1346\u001b[0m             \u001b[1;32mtry\u001b[0m\u001b[1;33m:\u001b[0m\u001b[1;33m\u001b[0m\u001b[1;33m\u001b[0m\u001b[0m\n\u001b[1;32m-> 1347\u001b[1;33m                 \u001b[0mresponse\u001b[0m\u001b[1;33m.\u001b[0m\u001b[0mbegin\u001b[0m\u001b[1;33m(\u001b[0m\u001b[1;33m)\u001b[0m\u001b[1;33m\u001b[0m\u001b[1;33m\u001b[0m\u001b[0m\n\u001b[0m\u001b[0;32m   1348\u001b[0m             \u001b[1;32mexcept\u001b[0m \u001b[0mConnectionError\u001b[0m\u001b[1;33m:\u001b[0m\u001b[1;33m\u001b[0m\u001b[1;33m\u001b[0m\u001b[0m\n\u001b[0;32m   1349\u001b[0m                 \u001b[0mself\u001b[0m\u001b[1;33m.\u001b[0m\u001b[0mclose\u001b[0m\u001b[1;33m(\u001b[0m\u001b[1;33m)\u001b[0m\u001b[1;33m\u001b[0m\u001b[1;33m\u001b[0m\u001b[0m\n",
      "\u001b[1;32mC:\\ProgramData\\Anaconda3\\lib\\http\\client.py\u001b[0m in \u001b[0;36mbegin\u001b[1;34m(self)\u001b[0m\n\u001b[0;32m    305\u001b[0m         \u001b[1;31m# read until we get a non-100 response\u001b[0m\u001b[1;33m\u001b[0m\u001b[1;33m\u001b[0m\u001b[1;33m\u001b[0m\u001b[0m\n\u001b[0;32m    306\u001b[0m         \u001b[1;32mwhile\u001b[0m \u001b[1;32mTrue\u001b[0m\u001b[1;33m:\u001b[0m\u001b[1;33m\u001b[0m\u001b[1;33m\u001b[0m\u001b[0m\n\u001b[1;32m--> 307\u001b[1;33m             \u001b[0mversion\u001b[0m\u001b[1;33m,\u001b[0m \u001b[0mstatus\u001b[0m\u001b[1;33m,\u001b[0m \u001b[0mreason\u001b[0m \u001b[1;33m=\u001b[0m \u001b[0mself\u001b[0m\u001b[1;33m.\u001b[0m\u001b[0m_read_status\u001b[0m\u001b[1;33m(\u001b[0m\u001b[1;33m)\u001b[0m\u001b[1;33m\u001b[0m\u001b[1;33m\u001b[0m\u001b[0m\n\u001b[0m\u001b[0;32m    308\u001b[0m             \u001b[1;32mif\u001b[0m \u001b[0mstatus\u001b[0m \u001b[1;33m!=\u001b[0m \u001b[0mCONTINUE\u001b[0m\u001b[1;33m:\u001b[0m\u001b[1;33m\u001b[0m\u001b[1;33m\u001b[0m\u001b[0m\n\u001b[0;32m    309\u001b[0m                 \u001b[1;32mbreak\u001b[0m\u001b[1;33m\u001b[0m\u001b[1;33m\u001b[0m\u001b[0m\n",
      "\u001b[1;32mC:\\ProgramData\\Anaconda3\\lib\\http\\client.py\u001b[0m in \u001b[0;36m_read_status\u001b[1;34m(self)\u001b[0m\n\u001b[0;32m    266\u001b[0m \u001b[1;33m\u001b[0m\u001b[0m\n\u001b[0;32m    267\u001b[0m     \u001b[1;32mdef\u001b[0m \u001b[0m_read_status\u001b[0m\u001b[1;33m(\u001b[0m\u001b[0mself\u001b[0m\u001b[1;33m)\u001b[0m\u001b[1;33m:\u001b[0m\u001b[1;33m\u001b[0m\u001b[1;33m\u001b[0m\u001b[0m\n\u001b[1;32m--> 268\u001b[1;33m         \u001b[0mline\u001b[0m \u001b[1;33m=\u001b[0m \u001b[0mstr\u001b[0m\u001b[1;33m(\u001b[0m\u001b[0mself\u001b[0m\u001b[1;33m.\u001b[0m\u001b[0mfp\u001b[0m\u001b[1;33m.\u001b[0m\u001b[0mreadline\u001b[0m\u001b[1;33m(\u001b[0m\u001b[0m_MAXLINE\u001b[0m \u001b[1;33m+\u001b[0m \u001b[1;36m1\u001b[0m\u001b[1;33m)\u001b[0m\u001b[1;33m,\u001b[0m \u001b[1;34m\"iso-8859-1\"\u001b[0m\u001b[1;33m)\u001b[0m\u001b[1;33m\u001b[0m\u001b[1;33m\u001b[0m\u001b[0m\n\u001b[0m\u001b[0;32m    269\u001b[0m         \u001b[1;32mif\u001b[0m \u001b[0mlen\u001b[0m\u001b[1;33m(\u001b[0m\u001b[0mline\u001b[0m\u001b[1;33m)\u001b[0m \u001b[1;33m>\u001b[0m \u001b[0m_MAXLINE\u001b[0m\u001b[1;33m:\u001b[0m\u001b[1;33m\u001b[0m\u001b[1;33m\u001b[0m\u001b[0m\n\u001b[0;32m    270\u001b[0m             \u001b[1;32mraise\u001b[0m \u001b[0mLineTooLong\u001b[0m\u001b[1;33m(\u001b[0m\u001b[1;34m\"status line\"\u001b[0m\u001b[1;33m)\u001b[0m\u001b[1;33m\u001b[0m\u001b[1;33m\u001b[0m\u001b[0m\n",
      "\u001b[1;32mC:\\ProgramData\\Anaconda3\\lib\\socket.py\u001b[0m in \u001b[0;36mreadinto\u001b[1;34m(self, b)\u001b[0m\n\u001b[0;32m    667\u001b[0m         \u001b[1;32mwhile\u001b[0m \u001b[1;32mTrue\u001b[0m\u001b[1;33m:\u001b[0m\u001b[1;33m\u001b[0m\u001b[1;33m\u001b[0m\u001b[0m\n\u001b[0;32m    668\u001b[0m             \u001b[1;32mtry\u001b[0m\u001b[1;33m:\u001b[0m\u001b[1;33m\u001b[0m\u001b[1;33m\u001b[0m\u001b[0m\n\u001b[1;32m--> 669\u001b[1;33m                 \u001b[1;32mreturn\u001b[0m \u001b[0mself\u001b[0m\u001b[1;33m.\u001b[0m\u001b[0m_sock\u001b[0m\u001b[1;33m.\u001b[0m\u001b[0mrecv_into\u001b[0m\u001b[1;33m(\u001b[0m\u001b[0mb\u001b[0m\u001b[1;33m)\u001b[0m\u001b[1;33m\u001b[0m\u001b[1;33m\u001b[0m\u001b[0m\n\u001b[0m\u001b[0;32m    670\u001b[0m             \u001b[1;32mexcept\u001b[0m \u001b[0mtimeout\u001b[0m\u001b[1;33m:\u001b[0m\u001b[1;33m\u001b[0m\u001b[1;33m\u001b[0m\u001b[0m\n\u001b[0;32m    671\u001b[0m                 \u001b[0mself\u001b[0m\u001b[1;33m.\u001b[0m\u001b[0m_timeout_occurred\u001b[0m \u001b[1;33m=\u001b[0m \u001b[1;32mTrue\u001b[0m\u001b[1;33m\u001b[0m\u001b[1;33m\u001b[0m\u001b[0m\n",
      "\u001b[1;32mC:\\ProgramData\\Anaconda3\\lib\\ssl.py\u001b[0m in \u001b[0;36mrecv_into\u001b[1;34m(self, buffer, nbytes, flags)\u001b[0m\n\u001b[0;32m   1239\u001b[0m                   \u001b[1;34m\"non-zero flags not allowed in calls to recv_into() on %s\"\u001b[0m \u001b[1;33m%\u001b[0m\u001b[1;33m\u001b[0m\u001b[1;33m\u001b[0m\u001b[0m\n\u001b[0;32m   1240\u001b[0m                   self.__class__)\n\u001b[1;32m-> 1241\u001b[1;33m             \u001b[1;32mreturn\u001b[0m \u001b[0mself\u001b[0m\u001b[1;33m.\u001b[0m\u001b[0mread\u001b[0m\u001b[1;33m(\u001b[0m\u001b[0mnbytes\u001b[0m\u001b[1;33m,\u001b[0m \u001b[0mbuffer\u001b[0m\u001b[1;33m)\u001b[0m\u001b[1;33m\u001b[0m\u001b[1;33m\u001b[0m\u001b[0m\n\u001b[0m\u001b[0;32m   1242\u001b[0m         \u001b[1;32melse\u001b[0m\u001b[1;33m:\u001b[0m\u001b[1;33m\u001b[0m\u001b[1;33m\u001b[0m\u001b[0m\n\u001b[0;32m   1243\u001b[0m             \u001b[1;32mreturn\u001b[0m \u001b[0msuper\u001b[0m\u001b[1;33m(\u001b[0m\u001b[1;33m)\u001b[0m\u001b[1;33m.\u001b[0m\u001b[0mrecv_into\u001b[0m\u001b[1;33m(\u001b[0m\u001b[0mbuffer\u001b[0m\u001b[1;33m,\u001b[0m \u001b[0mnbytes\u001b[0m\u001b[1;33m,\u001b[0m \u001b[0mflags\u001b[0m\u001b[1;33m)\u001b[0m\u001b[1;33m\u001b[0m\u001b[1;33m\u001b[0m\u001b[0m\n",
      "\u001b[1;32mC:\\ProgramData\\Anaconda3\\lib\\ssl.py\u001b[0m in \u001b[0;36mread\u001b[1;34m(self, len, buffer)\u001b[0m\n\u001b[0;32m   1097\u001b[0m         \u001b[1;32mtry\u001b[0m\u001b[1;33m:\u001b[0m\u001b[1;33m\u001b[0m\u001b[1;33m\u001b[0m\u001b[0m\n\u001b[0;32m   1098\u001b[0m             \u001b[1;32mif\u001b[0m \u001b[0mbuffer\u001b[0m \u001b[1;32mis\u001b[0m \u001b[1;32mnot\u001b[0m \u001b[1;32mNone\u001b[0m\u001b[1;33m:\u001b[0m\u001b[1;33m\u001b[0m\u001b[1;33m\u001b[0m\u001b[0m\n\u001b[1;32m-> 1099\u001b[1;33m                 \u001b[1;32mreturn\u001b[0m \u001b[0mself\u001b[0m\u001b[1;33m.\u001b[0m\u001b[0m_sslobj\u001b[0m\u001b[1;33m.\u001b[0m\u001b[0mread\u001b[0m\u001b[1;33m(\u001b[0m\u001b[0mlen\u001b[0m\u001b[1;33m,\u001b[0m \u001b[0mbuffer\u001b[0m\u001b[1;33m)\u001b[0m\u001b[1;33m\u001b[0m\u001b[1;33m\u001b[0m\u001b[0m\n\u001b[0m\u001b[0;32m   1100\u001b[0m             \u001b[1;32melse\u001b[0m\u001b[1;33m:\u001b[0m\u001b[1;33m\u001b[0m\u001b[1;33m\u001b[0m\u001b[0m\n\u001b[0;32m   1101\u001b[0m                 \u001b[1;32mreturn\u001b[0m \u001b[0mself\u001b[0m\u001b[1;33m.\u001b[0m\u001b[0m_sslobj\u001b[0m\u001b[1;33m.\u001b[0m\u001b[0mread\u001b[0m\u001b[1;33m(\u001b[0m\u001b[0mlen\u001b[0m\u001b[1;33m)\u001b[0m\u001b[1;33m\u001b[0m\u001b[1;33m\u001b[0m\u001b[0m\n",
      "\u001b[1;31mKeyboardInterrupt\u001b[0m: "
     ]
    }
   ],
   "source": [
    "#전체 코드 시작 2\n",
    "\n",
    "\"\"\"\n",
    "고유번호,제목   / code_list, title_list\n",
    "리뷰의 개수 / review_cnt_list\n",
    "고유번호-리뷰의 고유번호  /review_num_list (중간에 생성) url1\n",
    "글 가져오기 / review_list / url2\n",
    "\"\"\"\n",
    "\n",
    "review_list2 = []\n",
    "titles2 = [] # 칼럼 생성 위해서\n",
    "cnt = 0\n",
    "for i in range(1, len(code_list)) :\n",
    "    num_id = code_list[i]\n",
    "    title = title_list[i]\n",
    "    \n",
    "    #리뷰 고유 번호 파악\n",
    "    review_num_list = []\n",
    "    \n",
    "    #리뷰 개수는 50개만 \n",
    "    if int(review_cnt_list[i]) > 50:\n",
    "        review_cnt_list[i] = '50'\n",
    "    \n",
    "    for j in range(1, ((int(review_cnt_list[i])-1) // 10)+2) :\n",
    "        url = f'https://movie.naver.com/movie/bi/mi/review.nhn?code={num_id}&page={j}'\n",
    "        req = requests.get(url)\n",
    "        soup = BeautifulSoup(req.text, \"html.parser\")\n",
    "\n",
    "        for href in soup.find(\"ul\", class_=\"rvw_list_area\").find_all(\"li\"):\n",
    "            #list = href.find(\"a\").split('showReviewDetail')\n",
    "            list = href.find(\"a\")\n",
    "            try :\n",
    "                list = re.findall('\\(([^)]+)',str(list))[1]\n",
    "                review_num_list.append(list)\n",
    "            except : \n",
    "                pass\n",
    "\n",
    "            \n",
    "    #리뷰 긁어오기\n",
    "\n",
    "    for r in review_num_list :\n",
    "        url = f'https://movie.naver.com/movie/bi/mi/reviewread.nhn?nid={r}&code={num_id}&order=#tab'\n",
    "        req = requests.get(url)\n",
    "        soup = BeautifulSoup(req.text, \"html.parser\")\n",
    "        review = soup.select('div.user_tx_area')\n",
    "        review = re.sub('(<([^>]+)>)', '', str(review))\n",
    "        review_list2.append(review)\n",
    "        titles2.append(title)\n",
    "    print(num_id,\" : \",title,' 완료/ ', end='')    \n",
    "    cnt += 1\n",
    "    if cnt % 100 == 0 :\n",
    "        print('')\n",
    "        print(cnt,'번째 영화 완료')\n",
    "df= pd.DataFrame({'titles': titles2, 'reviews': review_list2})\n",
    "df.info()\n",
    "count=0\n",
    "sentences = []\n",
    "for sentence in df.reviews:\n",
    "    count += 1\n",
    "    if count % 100 == 0 :\n",
    "        print('.', end='')\n",
    "    if count % 1000 == 0 :\n",
    "        print('/',end='') #줄바꿈\n",
    "    sentence = re.sub('[^가-힣 ]','',sentence)\n",
    "    sentences.append(sentence)\n",
    "df= pd.DataFrame({'titles': titles2, 'reviews': sentences})\n",
    "df.to_csv('reviews_{2013}.csv')    \n",
    "print('완료')"
   ]
  },
  {
   "cell_type": "code",
   "execution_count": 18,
   "metadata": {
    "scrolled": true
   },
   "outputs": [],
   "source": [
    "titles3 = titles1 + titles2\n",
    "review_list3 = review_list1 + review_list2"
   ]
  },
  {
   "cell_type": "code",
   "execution_count": 19,
   "metadata": {
    "scrolled": true
   },
   "outputs": [
    {
     "name": "stdout",
     "output_type": "stream",
     "text": [
      "16383\n",
      "16383\n"
     ]
    }
   ],
   "source": [
    "print(len(titles3))\n",
    "print(len(review_list3))"
   ]
  },
  {
   "cell_type": "code",
   "execution_count": 20,
   "metadata": {
    "scrolled": false
   },
   "outputs": [
    {
     "name": "stdout",
     "output_type": "stream",
     "text": [
      "<class 'pandas.core.frame.DataFrame'>\n",
      "RangeIndex: 16383 entries, 0 to 16382\n",
      "Data columns (total 2 columns):\n",
      " #   Column   Non-Null Count  Dtype \n",
      "---  ------   --------------  ----- \n",
      " 0   titles   16383 non-null  object\n",
      " 1   reviews  16383 non-null  object\n",
      "dtypes: object(2)\n",
      "memory usage: 256.1+ KB\n",
      "........../........../........../........../........../........../........../........../........../........../........../........../........../........../........../........../..."
     ]
    }
   ],
   "source": [
    "df= pd.DataFrame({'titles': titles3, 'reviews': review_list3})\n",
    "df.info()\n",
    "count=0\n",
    "sentences = []\n",
    "for sentence in df.reviews:\n",
    "    count += 1\n",
    "    if count % 100 == 0 :\n",
    "        print('.', end='')\n",
    "    if count % 1000 == 0 :\n",
    "        print('/',end='') #줄바꿈\n",
    "    sentence = re.sub('[^가-힣 ]','',sentence)\n",
    "    sentences.append(sentence)\n",
    "\n",
    "len(sentences)\n",
    "\n",
    "df.to_csv('reviews_2010.csv')\n",
    "# print('완료')\n",
    "# #dfencode('UTF-8','ignore').decode('UTF-8')"
   ]
  },
  {
   "cell_type": "code",
   "execution_count": 198,
   "metadata": {},
   "outputs": [
    {
     "name": "stdout",
     "output_type": "stream",
     "text": [
      "<class 'pandas.core.frame.DataFrame'>\n",
      "RangeIndex: 21762 entries, 0 to 21761\n",
      "Data columns (total 2 columns):\n",
      " #   Column   Non-Null Count  Dtype \n",
      "---  ------   --------------  ----- \n",
      " 0   titles   21762 non-null  object\n",
      " 1   reviews  21762 non-null  object\n",
      "dtypes: object(2)\n",
      "memory usage: 340.2+ KB\n"
     ]
    }
   ],
   "source": [
    "df= pd.DataFrame({'titles': titles3, 'reviews': sentences})\n",
    "df.to_csv('reviews_2016_.csv')\n",
    "df.info()"
   ]
  },
  {
   "cell_type": "code",
   "execution_count": 141,
   "metadata": {
    "collapsed": true
   },
   "outputs": [
    {
     "name": "stdout",
     "output_type": "stream",
     "text": [
      "1 <a href=\"#\" onclick=\"clickcr(this, 'rli.title', '', '', event); showReviewDetail(4201037)\"><strong>&lt;드레스메이커 , 2016&gt; 시작은 창대하나 그 끝은 미약하리라</strong></a>\n",
      "1 <a href=\"#\" onclick=\"clickcr(this, 'rli.title', '', '', event); showReviewDetail(4255753)\"><strong>드레스메이커를 보고</strong></a>\n",
      "1 <a href=\"#\" onclick=\"clickcr(this, 'rli.title', '', '', event); showReviewDetail(4194331)\"><strong>[시사회] 영화 드레스메이커 후기</strong></a>\n",
      "1 <a href=\"#\" onclick=\"clickcr(this, 'rli.title', '', '', event); showReviewDetail(4186965)\"><strong>(2016.01.26) [영화|후기]「드레스메이커」- 살인자로 낙인찍었던 마을로 돌아온 그녀, 가혹한 그녀의 운명 그리고 선택! (+ 관객과의 대화 GV 모습 등)</strong></a>\n",
      "1 <a href=\"#\" onclick=\"clickcr(this, 'rli.title', '', '', event); showReviewDetail(4205376)\"><strong>스포有 ) 복수극에 로맨스가 웬말인가</strong></a>\n",
      "1 <a href=\"#\" onclick=\"clickcr(this, 'rli.title', '', '', event); showReviewDetail(4223160)\"><strong>드레스메이커 / 20160224</strong></a>\n",
      "1 <a href=\"#\" onclick=\"clickcr(this, 'rli.title', '', '', event); showReviewDetail(4182361)\"><strong>드레스메이커(2015) - 화려한 의상속에 담긴 우아한 복수</strong></a>\n",
      "1 <a href=\"#\" onclick=\"clickcr(this, 'rli.title', '', '', event); showReviewDetail(4196979)\"><strong>&lt;드레스메이커&gt; 리뷰 - B정서와 드라마가 조화를 이루는 여성복수극활극</strong></a>\n",
      "1 <a href=\"#\" onclick=\"clickcr(this, 'rli.title', '', '', event); showReviewDetail(4182689)\"><strong>[드레스메이커] 후기 - 진정한 복수란 이런 것</strong></a>\n",
      "1 <a href=\"#\" onclick=\"clickcr(this, 'rli.title', '', '', event); showReviewDetail(4228996)\"><strong>드레스메이커:흠....? 재미읍엉: 케이트윈슬렛,주디데이비스,리암햄스워스,휴고위빙</strong></a>\n",
      "2 <a href=\"#\" onclick=\"clickcr(this, 'rli.title', '', '', event); showReviewDetail(4323475)\"><strong>[영화] 드레스메이커, 단죄하는 또 다른 방법</strong></a>\n",
      "2 <a href=\"#\" onclick=\"clickcr(this, 'rli.title', '', '', event); showReviewDetail(4240500)\"><strong>참담하다</strong></a>\n",
      "2 <a href=\"#\" onclick=\"clickcr(this, 'rli.title', '', '', event); showReviewDetail(4202876)\"><strong>[드레스메이커] 욕망 그리고 허세의 사회학(하)</strong></a>\n",
      "2 <a href=\"#\" onclick=\"clickcr(this, 'rli.title', '', '', event); showReviewDetail(4208321)\"><strong>&lt;드레스메이커&gt; 케이트 윈슬렛 주연 영화!</strong></a>\n",
      "2 <a href=\"#\" onclick=\"clickcr(this, 'rli.title', '', '', event); showReviewDetail(4604505)\"><strong>죽음들은 과연 무엇을 의미하는가</strong></a>\n",
      "2 <a href=\"#\" onclick=\"clickcr(this, 'rli.title', '', '', event); showReviewDetail(4201918)\"><strong>[영화리뷰]드레스 메이커,  그래 바로 이 맛이야~ </strong></a>\n",
      "2 <a href=\"#\" onclick=\"clickcr(this, 'rli.title', '', '', event); showReviewDetail(4201821)\"><strong>드레스메이커 The Dressmaker</strong></a>\n",
      "2 <a href=\"#\" onclick=\"clickcr(this, 'rli.title', '', '', event); showReviewDetail(4222226)\"><strong>[드라마] 드레스 메이커</strong></a>\n",
      "2 <a href=\"#\" onclick=\"clickcr(this, 'rli.title', '', '', event); showReviewDetail(4188308)\"><strong>&lt;CGV신촌 아트레온 시사회 후기&gt; 드레스 메이커 : 패션은 우아하게 복수는 화려하게</strong></a>\n",
      "2 <a href=\"#\" onclick=\"clickcr(this, 'rli.title', '', '', event); showReviewDetail(4269896)\"><strong>강추!! 이런 발칙한 코메디를 봤나!! The Dressmaker, 2015 드레스메이커</strong></a>\n",
      "3 <a href=\"#\" onclick=\"clickcr(this, 'rli.title', '', '', event); showReviewDetail(4205971)\"><strong>재봉틀로 하는 우아한 복수,멋지다! &lt;드레스 메이커&gt;</strong></a>\n",
      "3 <a href=\"#\" onclick=\"clickcr(this, 'rli.title', '', '', event); showReviewDetail(4200265)\"><strong>역시, 믿고 보는 케이트윈슬렛.</strong></a>\n",
      "3 <a href=\"#\" onclick=\"clickcr(this, 'rli.title', '', '', event); showReviewDetail(4194769)\"><strong>코메디, 로맨스, 그리고 복수.</strong></a>\n",
      "3 <a href=\"#\" onclick=\"clickcr(this, 'rli.title', '', '', event); showReviewDetail(4251440)\"><strong>드레스메이커/TheDressMaker</strong></a>\n",
      "3 <a href=\"#\" onclick=\"clickcr(this, 'rli.title', '', '', event); showReviewDetail(4318307)\"><strong>20160716 : 영화 드레스메이커</strong></a>\n",
      "3 <a href=\"#\" onclick=\"clickcr(this, 'rli.title', '', '', event); showReviewDetail(4233122)\"><strong>영화&lt;드레스메이커&gt;</strong></a>\n",
      "3 <a href=\"#\" onclick=\"clickcr(this, 'rli.title', '', '', event); showReviewDetail(4248120)\"><strong>드레스메이커 (The Dressmaker, 2015)</strong></a>\n",
      "3 <a href=\"#\" onclick=\"clickcr(this, 'rli.title', '', '', event); showReviewDetail(4244893)\"><strong>드레스 메이커(2015)</strong></a>\n",
      "3 <a class=\"top_class\" href=\"/movie/bi/mi/basic.nhn?code=194205\">\n",
      "<em class=\"rank_01\"><span class=\"blind\">1위</span></em>\n",
      "<p class=\"rank_tx\">발신제한</p>\n",
      "</a>\n",
      "3 <a href=\"/movie/bi/mi/basic.nhn?code=189368\">\n",
      "<em class=\"rank_02\"><span class=\"blind\">2위</span></em>\n",
      "<p class=\"rank_tx\">콰이어트 플레이스 2</p>\n",
      "</a>\n",
      "3 <a href=\"/movie/bi/mi/basic.nhn?code=204624\">\n",
      "<em class=\"rank_03\"><span class=\"blind\">3위</span></em>\n",
      "<p class=\"rank_tx\">킬러의 보디가드 2</p>\n",
      "</a>\n",
      "3 <a href=\"/movie/bi/mi/basic.nhn?code=187322\">\n",
      "<em class=\"rank_04\"><span class=\"blind\">4위</span></em>\n",
      "<p class=\"rank_tx\">크루엘라</p>\n",
      "</a>\n",
      "3 <a href=\"/movie/bi/mi/basic.nhn?code=202903\">\n",
      "<em class=\"rank_05\"><span class=\"blind\">5위</span></em>\n",
      "<p class=\"rank_tx\">루카</p>\n",
      "</a>\n",
      "3 <a href=\"/movie/bi/mi/basic.nhn?code=184318\">\n",
      "<em class=\"rank_06\"><span class=\"blind\">6위</span></em>\n",
      "<p class=\"rank_tx\">블랙 위도우</p>\n",
      "</a>\n",
      "3 <a href=\"/movie/bi/mi/basic.nhn?code=191631\">\n",
      "<em class=\"rank_07\"><span class=\"blind\">7위</span></em>\n",
      "<p class=\"rank_tx\">인 더 하이츠</p>\n",
      "</a>\n",
      "3 <a href=\"/movie/bi/mi/basic.nhn?code=189120\">\n",
      "<em class=\"rank_08\"><span class=\"blind\">8위</span></em>\n",
      "<p class=\"rank_tx\">미드나이트</p>\n",
      "</a>\n",
      "3 <a href=\"/movie/bi/mi/basic.nhn?code=187849\">\n",
      "<em class=\"rank_09\"><span class=\"blind\">9위</span></em>\n",
      "<p class=\"rank_tx\">여고괴담 여섯번째 이야기 : 모교</p>\n",
      "</a>\n",
      "3 <a href=\"/movie/bi/mi/basic.nhn?code=190726\">\n",
      "<em class=\"rank_10\"><span class=\"blind\">10위</span></em>\n",
      "<p class=\"rank_tx\">컨저링 3: 악마가 시켰다</p>\n",
      "</a>\n",
      "3 <a class=\"top_class\" href=\"/movie/bi/pi/basic.nhn?code=135256\">\n",
      "<em class=\"rank_01\"><span class=\"blind\">1위</span></em>\n",
      "<p class=\"rank_tx\">엠마 스톤</p>\n",
      "</a>\n",
      "3 <a href=\"/movie/bi/pi/basic.nhn?code=53079\">\n",
      "<em class=\"rank_02\"><span class=\"blind\">2위</span></em>\n",
      "<p class=\"rank_tx\">에밀리 블런트</p>\n",
      "</a>\n",
      "3 <a href=\"/movie/bi/pi/basic.nhn?code=43284\">\n",
      "<em class=\"rank_03\"><span class=\"blind\">3위</span></em>\n",
      "<p class=\"rank_tx\">마동석</p>\n",
      "</a>\n",
      "3 <a href=\"/movie/bi/pi/basic.nhn?code=88133\">\n",
      "<em class=\"rank_04\"><span class=\"blind\">4위</span></em>\n",
      "<p class=\"rank_tx\">김창주</p>\n",
      "</a>\n",
      "3 <a href=\"/movie/bi/pi/basic.nhn?code=1898\">\n",
      "<em class=\"rank_05\"><span class=\"blind\">5위</span></em>\n",
      "<p class=\"rank_tx\">이병헌</p>\n",
      "</a>\n",
      "3 <a href=\"/movie/bi/pi/basic.nhn?code=404\">\n",
      "<em class=\"rank_06\"><span class=\"blind\">6위</span></em>\n",
      "<p class=\"rank_tx\">엠마 톰슨</p>\n",
      "</a>\n",
      "3 <a href=\"/movie/bi/pi/basic.nhn?code=89839\">\n",
      "<em class=\"rank_07\"><span class=\"blind\">7위</span></em>\n",
      "<p class=\"rank_tx\">존 크래신스키</p>\n",
      "</a>\n",
      "3 <a href=\"/movie/bi/pi/basic.nhn?code=11449\">\n",
      "<em class=\"rank_08\"><span class=\"blind\">8위</span></em>\n",
      "<p class=\"rank_tx\">킬리언 머피</p>\n",
      "</a>\n",
      "3 <a href=\"/movie/bi/pi/basic.nhn?code=62120\">\n",
      "<em class=\"rank_09\"><span class=\"blind\">9위</span></em>\n",
      "<p class=\"rank_tx\">반종 피산다나쿤</p>\n",
      "</a>\n",
      "3 <a href=\"/movie/bi/pi/basic.nhn?code=370454\">\n",
      "<em class=\"rank_10\"><span class=\"blind\">10위</span></em>\n",
      "<p class=\"rank_tx\">이재인</p>\n",
      "</a>\n",
      "3 <a class=\"top_class\" href=\"/movie/bi/mi/basic.nhn?code=191631\">\n",
      "<em class=\"rank_01\"><span class=\"blind\">1위</span></em>\n",
      "<p class=\"rank_tx\">인 더 하이츠</p>\n",
      "</a>\n",
      "3 <a href=\"/movie/bi/mi/basic.nhn?code=194205\">\n",
      "<em class=\"rank_02\"><span class=\"blind\">2위</span></em>\n",
      "<p class=\"rank_tx\">발신제한</p>\n",
      "</a>\n",
      "3 <a href=\"/movie/bi/mi/basic.nhn?code=187322\">\n",
      "<em class=\"rank_03\"><span class=\"blind\">3위</span></em>\n",
      "<p class=\"rank_tx\">크루엘라</p>\n",
      "</a>\n",
      "3 <a href=\"/movie/bi/mi/basic.nhn?code=204624\">\n",
      "<em class=\"rank_04\"><span class=\"blind\">4위</span></em>\n",
      "<p class=\"rank_tx\">킬러의 보디가드 2</p>\n",
      "</a>\n",
      "3 <a href=\"/movie/bi/mi/basic.nhn?code=202903\">\n",
      "<em class=\"rank_05\"><span class=\"blind\">5위</span></em>\n",
      "<p class=\"rank_tx\">루카</p>\n",
      "</a>\n",
      "3 <a href=\"/movie/bi/mi/basic.nhn?code=189120\">\n",
      "<em class=\"rank_06\"><span class=\"blind\">6위</span></em>\n",
      "<p class=\"rank_tx\">미드나이트</p>\n",
      "</a>\n",
      "3 <a href=\"/movie/bi/mi/basic.nhn?code=189368\">\n",
      "<em class=\"rank_07\"><span class=\"blind\">7위</span></em>\n",
      "<p class=\"rank_tx\">콰이어트 플레이스 2</p>\n",
      "</a>\n",
      "3 <a href=\"/movie/bi/mi/basic.nhn?code=193327\">\n",
      "<em class=\"rank_08\"><span class=\"blind\">8위</span></em>\n",
      "<p class=\"rank_tx\">빛나는 순간</p>\n",
      "</a>\n",
      "3 <a href=\"/movie/bi/mi/basic.nhn?code=204782\">\n",
      "<em class=\"rank_09\"><span class=\"blind\">9위</span></em>\n",
      "<p class=\"rank_tx\">체르노빌 1986</p>\n",
      "</a>\n",
      "3 <a href=\"/movie/bi/mi/basic.nhn?code=18878\">\n",
      "<em class=\"rank_10\"><span class=\"blind\">10위</span></em>\n",
      "<p class=\"rank_tx\">이보다 더 좋을 순 없다</p>\n",
      "</a>\n"
     ]
    },
    {
     "name": "stdout",
     "output_type": "stream",
     "text": [
      "4 <a href=\"#\" onclick=\"clickcr(this, 'rli.title', '', '', event); showReviewDetail(4201988)\"><strong>영화드레스메이커보고왔어요!</strong></a>\n",
      "4 <a href=\"#\" onclick=\"clickcr(this, 'rli.title', '', '', event); showReviewDetail(4185981)\"><strong>※약스포포함※ 흔하고 뻔한 복수극은 가라!!! &lt;드레스메이커&gt;</strong></a>\n",
      "4 <a href=\"#\" onclick=\"clickcr(this, 'rli.title', '', '', event); showReviewDetail(4585804)\"><strong>이슈메이커, 트러블메이커, 드레스메이커 틸리.</strong></a>\n",
      "4 <a href=\"#\" onclick=\"clickcr(this, 'rli.title', '', '', event); showReviewDetail(4219738)\"><strong>[드레스메이커] 환상동화 같은 이야기</strong></a>\n",
      "4 <a href=\"#\" onclick=\"clickcr(this, 'rli.title', '', '', event); showReviewDetail(4203465)\"><strong>영화 드레스 메이커 (스포 有) - 열정적이고 시원하면서 낭만적인 마지막 장면</strong></a>\n",
      "4 <a href=\"#\" onclick=\"clickcr(this, 'rli.title', '', '', event); showReviewDetail(4210545)\"><strong>[드레스메이커] 순박하지 않은 시골 사람들의 무서운 이야기</strong></a>\n",
      "4 <a href=\"#\" onclick=\"clickcr(this, 'rli.title', '', '', event); showReviewDetail(4202173)\"><strong>드레스메이커-화려함과 잔혹함의 조화</strong></a>\n",
      "4 <a href=\"#\" onclick=\"clickcr(this, 'rli.title', '', '', event); showReviewDetail(4204268)\"><strong>극적인 반전과 복수..그러나 왠지 시원하지 않다 (드레스메이커, 2016)</strong></a>\n",
      "4 <a href=\"#\" onclick=\"clickcr(this, 'rli.title', '', '', event); showReviewDetail(4211337)\"><strong>드레스메이커 (2015): 화끈한 언니가 왔다. </strong></a>\n",
      "4 <a href=\"#\" onclick=\"clickcr(this, 'rli.title', '', '', event); showReviewDetail(4233006)\"><strong>드레스 메이커 (The Dressmaker, 2015), 소소한 눈요기와 추리극의 매력...게다가 연기까지 훌륭하다...</strong></a>\n",
      "5 <a href=\"#\" onclick=\"clickcr(this, 'rli.title', '', '', event); showReviewDetail(4205581)\"><strong>The Dressmaker (2015)</strong></a>\n",
      "5 <a href=\"#\" onclick=\"clickcr(this, 'rli.title', '', '', event); showReviewDetail(4194394)\"><strong>드레스메이커(2016) _ 세상에서 가장 우아하고 화려한 복수극!</strong></a>\n",
      "5 <a href=\"#\" onclick=\"clickcr(this, 'rli.title', '', '', event); showReviewDetail(4199532)\"><strong>16.영화[드레스메이커]+시사회후기</strong></a>\n",
      "5 <a href=\"#\" onclick=\"clickcr(this, 'rli.title', '', '', event); showReviewDetail(4212012)\"><strong>드레스 메이커 (케이트 윈슬렛, 주디 데이비스) The Dressmaker</strong></a>\n",
      "5 <a href=\"#\" onclick=\"clickcr(this, 'rli.title', '', '', event); showReviewDetail(4192923)\"><strong>윈슬렛의 핏빛 눈물의 복수극</strong></a>\n",
      "5 <a href=\"#\" onclick=\"clickcr(this, 'rli.title', '', '', event); showReviewDetail(4209406)\"><strong>영화 후기) 드레스메이커</strong></a>\n",
      "5 <a href=\"#\" onclick=\"clickcr(this, 'rli.title', '', '', event); showReviewDetail(4193502)\"><strong>드레스 메이커</strong></a>\n",
      "5 <a href=\"#\" onclick=\"clickcr(this, 'rli.title', '', '', event); showReviewDetail(4270619)\"><strong>DRESS MAKER 2015</strong></a>\n",
      "5 <a href=\"#\" onclick=\"clickcr(this, 'rli.title', '', '', event); showReviewDetail(4747862)\"><strong>가장 화려하고 우아한 복수극, 드레스메이커, The Dressmaker,2015 </strong></a>\n",
      "5 <a href=\"#\" onclick=\"clickcr(this, 'rli.title', '', '', event); showReviewDetail(4201424)\"><strong>영화&gt;화려한 패션 속 통쾌한 복수극, '드레스메이커(The Dressmaker)'</strong></a>\n",
      "6 <a href=\"#\" onclick=\"clickcr(this, 'rli.title', '', '', event); showReviewDetail(4198186)\"><strong>[드레스메이커] 화려한 의상 뒤에 감춰진 한 여자의 복수를그린 블랙코미디!</strong></a>\n",
      "6 <a href=\"#\" onclick=\"clickcr(this, 'rli.title', '', '', event); showReviewDetail(4201355)\"><strong>[리뷰_드레스메이커] 그녀의 복수는 무좌~~ 원작과 비교하면 재미 업!!!</strong></a>\n",
      "6 <a href=\"#\" onclick=\"clickcr(this, 'rli.title', '', '', event); showReviewDetail(4614876)\"><strong>드레스메이커</strong></a>\n",
      "6 <a href=\"#\" onclick=\"clickcr(this, 'rli.title', '', '', event); showReviewDetail(4203487)\"><strong>오롯이 픽션으로써의 픽션이 주는 쾌감, &lt;드레스 메이커&gt;</strong></a>\n",
      "6 <a href=\"#\" onclick=\"clickcr(this, 'rli.title', '', '', event); showReviewDetail(4221074)\"><strong>드레스 메이커 (2015)</strong></a>\n",
      "6 <a href=\"#\" onclick=\"clickcr(this, 'rli.title', '', '', event); showReviewDetail(4205372)\"><strong>드레스메이커-케이트윈슬렛씨의 연기와 통쾌한 무언가가 괜찮았다</strong></a>\n",
      "6 <a href=\"#\" onclick=\"clickcr(this, 'rli.title', '', '', event); showReviewDetail(4205265)\"><strong>영화 &lt;드레스메이커&gt;</strong></a>\n",
      "6 <a href=\"#\" onclick=\"clickcr(this, 'rli.title', '', '', event); showReviewDetail(4203230)\"><strong>드레스메이커 : 뮤지컬로 만든다면?</strong></a>\n",
      "6 <a href=\"#\" onclick=\"clickcr(this, 'rli.title', '', '', event); showReviewDetail(4283389)\"><strong>화려한 복수~ 드레스 메이커</strong></a>\n",
      "6 <a href=\"#\" onclick=\"clickcr(this, 'rli.title', '', '', event); showReviewDetail(4296770)\"><strong>[원작이 있는 영화] 드레스메이커</strong></a>\n"
     ]
    }
   ],
   "source": [
    "# 왜 오류가 났을까?\n",
    "\n",
    "review_num_list = []\n",
    "for j in range(1, (50// 10)+2) :\n",
    "    url = f'https://movie.naver.com/movie/bi/mi/review.nhn?code={114237}&page={j}'\n",
    "    req = requests.get(url)\n",
    "    soup = BeautifulSoup(req.text, \"html.parser\")\n",
    "\n",
    "    for href in soup.find(\"ul\", class_=\"rvw_list_area\").find_all(\"li\"):\n",
    "        #list = href.find(\"a\").split('showReviewDetail')\n",
    "        list = href.find(\"a\")\n",
    "        print(j, list)\n",
    "        try :\n",
    "            list = re.findall('\\(([^)]+)',str(list))[1]\n",
    "            review_num_list.append(list)\n",
    "        except : \n",
    "            pass\n",
    "        "
   ]
  },
  {
   "cell_type": "code",
   "execution_count": 68,
   "metadata": {
    "scrolled": true
   },
   "outputs": [
    {
     "name": "stdout",
     "output_type": "stream",
     "text": [
      "The href links are :\n",
      "<a href=\"#\" onclick=\"clickcr(this, 'rli.title', '', '', event); showReviewDetail(4212132)\"><strong>&lt;13 시간&gt;</strong></a>\n",
      "<a href=\"#\" onclick=\"clickcr(this, 'rli.title', '', '', event); showReviewDetail(4223711)\"><strong>영화\"13시간\" 보는 내내 숨쉴 수가 없습니다.</strong></a>\n",
      "<a href=\"#\" onclick=\"clickcr(this, 'rli.title', '', '', event); showReviewDetail(4229769)\"><strong>영화 13시간 X 아, 짜증나 </strong></a>\n",
      "<a href=\"#\" onclick=\"clickcr(this, 'rli.title', '', '', event); showReviewDetail(4219558)\"><strong>마이클 베이 &lt;더록&gt; 시절 초심으로 돌아오는건가?</strong></a>\n",
      "<a href=\"#\" onclick=\"clickcr(this, 'rli.title', '', '', event); showReviewDetail(4187225)\"><strong>영화 &lt;13시간&gt; 예고편</strong></a>\n",
      "['4212132', '4223711', '4229769', '4219558', '4187225']\n"
     ]
    }
   ],
   "source": [
    "#리뷰 고유번호 구하기 / 오류 뜨는 이유??\n",
    "url = \"https://movie.naver.com/movie/bi/mi/review.nhn?code=140265&page=13\"\n",
    "req = requests.get(url)\n",
    "soup = BeautifulSoup(req.text, \"html.parser\")\n",
    "print(\"The href links are :\")\n",
    "\n",
    "list2 = []\n",
    "for href in soup.find(\"ul\", class_=\"rvw_list_area\").find_all(\"li\"):\n",
    "    #list = href.find(\"a\").split('showReviewDetail')\n",
    "    list = href.find(\"a\")\n",
    "    print(list)\n",
    "    list = re.findall('\\(([^)]+)',str(list))[1]\n",
    "    list2.append(list)\n",
    "print(list2)"
   ]
  },
  {
   "cell_type": "code",
   "execution_count": 53,
   "metadata": {},
   "outputs": [
    {
     "name": "stdout",
     "output_type": "stream",
     "text": [
      "1 페이지\n",
      "2990153\n",
      "2992055\n",
      "2774467\n",
      "2993777\n",
      "2551108\n",
      "4353345\n",
      "2626153\n",
      "2629025\n",
      "3578558\n",
      "3059776\n",
      "2 페이지\n",
      "3809512\n",
      "2626994\n",
      "3550350\n",
      "3829650\n",
      "2562529\n",
      "2626322\n",
      "2515636\n",
      "2597501\n",
      "3591449\n",
      "3450113\n",
      "3 페이지\n",
      "2997032\n",
      "2991777\n",
      "2993502\n",
      "2989424\n",
      "4260827\n",
      "2993780\n",
      "2990149\n",
      "2990957\n",
      "3028143\n",
      "2630178\n",
      "4 페이지\n",
      "2969773\n",
      "2988495\n",
      "3440376\n",
      "5 페이지\n",
      "2992436\n",
      "4341644\n",
      "3012113\n",
      "4176305\n",
      "4566260\n",
      "4581685\n",
      "4341178\n",
      "4158238\n",
      "4391727\n",
      "2711530\n",
      "6 페이지\n",
      "2994510\n",
      "2992403\n",
      "2811596\n",
      "2989877\n",
      "3117822\n",
      "3056301\n",
      "2813634\n",
      "2993341\n",
      "2999793\n",
      "3146993\n",
      "7 페이지\n",
      "3000826\n",
      "3264345\n",
      "3026091\n",
      "3097548\n",
      "3017327\n",
      "3044123\n",
      "4174607\n",
      "4426657\n",
      "4131752\n",
      "4651041\n",
      "8 페이지\n",
      "2659383\n",
      "2991976\n",
      "2710221\n",
      "2979690\n",
      "4587518\n",
      "2994971\n",
      "2992063\n",
      "2989384\n",
      "3025185\n",
      "2989796\n",
      "9 페이지\n",
      "3619812\n",
      "3114630\n",
      "2992060\n",
      "3007306\n",
      "3170889\n",
      "3002048\n",
      "3238035\n",
      "2986628\n",
      "3021337\n",
      "2997039\n",
      "10 페이지\n",
      "2998722\n",
      "3205257\n",
      "3002918\n",
      "3004476\n",
      "3051467\n",
      "3271629\n",
      "3491311\n",
      "3077623\n",
      "3800710\n",
      "3548921\n",
      "11 페이지\n",
      "4236900\n",
      "4160994\n",
      "4145715\n",
      "4277174\n",
      "4656751\n",
      "3007903\n",
      "2989737\n",
      "2994466\n",
      "3009730\n",
      "2992959\n",
      "12 페이지\n",
      "2991612\n",
      "3006487\n",
      "3247834\n",
      "3013027\n",
      "3201801\n",
      "2996565\n",
      "2994783\n",
      "3239208\n",
      "3192501\n",
      "3098793\n",
      "13 페이지\n",
      "2734996\n",
      "3039981\n",
      "3755096\n",
      "3525150\n",
      "4587648\n",
      "4301260\n",
      "4301680\n",
      "4755794\n",
      "2822914\n",
      "2992244\n",
      "14 페이지\n",
      "2981191\n",
      "3221194\n",
      "3010989\n",
      "3048214\n",
      "3034797\n",
      "3595225\n",
      "3777802\n",
      "4577533\n",
      "4121865\n",
      "3098163\n",
      "15 페이지\n",
      "4521595\n",
      "4751642\n",
      "3464413\n",
      "2626797\n",
      "2989485\n",
      "2990160\n",
      "3479285\n",
      "2670679\n",
      "2991098\n",
      "3467978\n",
      "16 페이지\n",
      "2961636\n",
      "2989861\n",
      "2816820\n",
      "2672785\n",
      "2794842\n",
      "2634209\n",
      "3330849\n",
      "3305204\n",
      "2626930\n",
      "3142240\n",
      "17 페이지\n",
      "2630035\n",
      "2990822\n",
      "3049896\n",
      "3073777\n",
      "2998284\n",
      "2804067\n",
      "2695955\n",
      "3007185\n",
      "2993727\n",
      "2690901\n",
      "18 페이지\n",
      "3288252\n",
      "2989559\n",
      "2956767\n",
      "3216040\n",
      "3248592\n",
      "2991066\n",
      "3556189\n",
      "3251615\n",
      "3036411\n",
      "3005773\n",
      "19 페이지\n",
      "3337249\n",
      "3244051\n",
      "3005409\n",
      "3242374\n",
      "2993320\n",
      "3384385\n",
      "3020337\n",
      "2982026\n",
      "3118523\n",
      "3001254\n",
      "20 페이지\n",
      "2993516\n",
      "2992962\n",
      "3080763\n",
      "3003950\n",
      "2972015\n",
      "2764345\n",
      "3627521\n",
      "3225603\n",
      "3075157\n",
      "2991904\n",
      "21 페이지\n",
      "2818444\n",
      "2708711\n",
      "3546124\n",
      "3027582\n",
      "3008633\n",
      "2965924\n",
      "3604859\n",
      "3306767\n",
      "3160005\n",
      "2971324\n"
     ]
    },
    {
     "ename": "KeyboardInterrupt",
     "evalue": "",
     "output_type": "error",
     "traceback": [
      "\u001b[1;31m---------------------------------------------------------------------------\u001b[0m",
      "\u001b[1;31mKeyboardInterrupt\u001b[0m                         Traceback (most recent call last)",
      "\u001b[1;32m<ipython-input-53-b0642277618a>\u001b[0m in \u001b[0;36m<module>\u001b[1;34m\u001b[0m\n\u001b[0;32m      6\u001b[0m \u001b[1;32mfor\u001b[0m \u001b[0mj\u001b[0m \u001b[1;32min\u001b[0m \u001b[0mrange\u001b[0m\u001b[1;33m(\u001b[0m\u001b[1;36m1\u001b[0m\u001b[1;33m,\u001b[0m \u001b[1;36m50\u001b[0m\u001b[1;33m)\u001b[0m \u001b[1;33m:\u001b[0m\u001b[1;33m\u001b[0m\u001b[1;33m\u001b[0m\u001b[0m\n\u001b[0;32m      7\u001b[0m     \u001b[0murl\u001b[0m \u001b[1;33m=\u001b[0m \u001b[1;34mf'https://movie.naver.com/movie/bi/mi/review.nhn?code={87163}&page={j}'\u001b[0m\u001b[1;33m\u001b[0m\u001b[1;33m\u001b[0m\u001b[0m\n\u001b[1;32m----> 8\u001b[1;33m     \u001b[0mreq\u001b[0m \u001b[1;33m=\u001b[0m \u001b[0mrequests\u001b[0m\u001b[1;33m.\u001b[0m\u001b[0mget\u001b[0m\u001b[1;33m(\u001b[0m\u001b[0murl\u001b[0m\u001b[1;33m)\u001b[0m\u001b[1;33m\u001b[0m\u001b[1;33m\u001b[0m\u001b[0m\n\u001b[0m\u001b[0;32m      9\u001b[0m     \u001b[0msoup\u001b[0m \u001b[1;33m=\u001b[0m \u001b[0mBeautifulSoup\u001b[0m\u001b[1;33m(\u001b[0m\u001b[0mreq\u001b[0m\u001b[1;33m.\u001b[0m\u001b[0mtext\u001b[0m\u001b[1;33m,\u001b[0m \u001b[1;34m\"html.parser\"\u001b[0m\u001b[1;33m)\u001b[0m\u001b[1;33m\u001b[0m\u001b[1;33m\u001b[0m\u001b[0m\n\u001b[0;32m     10\u001b[0m \u001b[1;33m\u001b[0m\u001b[0m\n",
      "\u001b[1;32mC:\\ProgramData\\Anaconda3\\lib\\site-packages\\requests\\api.py\u001b[0m in \u001b[0;36mget\u001b[1;34m(url, params, **kwargs)\u001b[0m\n\u001b[0;32m     74\u001b[0m \u001b[1;33m\u001b[0m\u001b[0m\n\u001b[0;32m     75\u001b[0m     \u001b[0mkwargs\u001b[0m\u001b[1;33m.\u001b[0m\u001b[0msetdefault\u001b[0m\u001b[1;33m(\u001b[0m\u001b[1;34m'allow_redirects'\u001b[0m\u001b[1;33m,\u001b[0m \u001b[1;32mTrue\u001b[0m\u001b[1;33m)\u001b[0m\u001b[1;33m\u001b[0m\u001b[1;33m\u001b[0m\u001b[0m\n\u001b[1;32m---> 76\u001b[1;33m     \u001b[1;32mreturn\u001b[0m \u001b[0mrequest\u001b[0m\u001b[1;33m(\u001b[0m\u001b[1;34m'get'\u001b[0m\u001b[1;33m,\u001b[0m \u001b[0murl\u001b[0m\u001b[1;33m,\u001b[0m \u001b[0mparams\u001b[0m\u001b[1;33m=\u001b[0m\u001b[0mparams\u001b[0m\u001b[1;33m,\u001b[0m \u001b[1;33m**\u001b[0m\u001b[0mkwargs\u001b[0m\u001b[1;33m)\u001b[0m\u001b[1;33m\u001b[0m\u001b[1;33m\u001b[0m\u001b[0m\n\u001b[0m\u001b[0;32m     77\u001b[0m \u001b[1;33m\u001b[0m\u001b[0m\n\u001b[0;32m     78\u001b[0m \u001b[1;33m\u001b[0m\u001b[0m\n",
      "\u001b[1;32mC:\\ProgramData\\Anaconda3\\lib\\site-packages\\requests\\api.py\u001b[0m in \u001b[0;36mrequest\u001b[1;34m(method, url, **kwargs)\u001b[0m\n\u001b[0;32m     59\u001b[0m     \u001b[1;31m# cases, and look like a memory leak in others.\u001b[0m\u001b[1;33m\u001b[0m\u001b[1;33m\u001b[0m\u001b[1;33m\u001b[0m\u001b[0m\n\u001b[0;32m     60\u001b[0m     \u001b[1;32mwith\u001b[0m \u001b[0msessions\u001b[0m\u001b[1;33m.\u001b[0m\u001b[0mSession\u001b[0m\u001b[1;33m(\u001b[0m\u001b[1;33m)\u001b[0m \u001b[1;32mas\u001b[0m \u001b[0msession\u001b[0m\u001b[1;33m:\u001b[0m\u001b[1;33m\u001b[0m\u001b[1;33m\u001b[0m\u001b[0m\n\u001b[1;32m---> 61\u001b[1;33m         \u001b[1;32mreturn\u001b[0m \u001b[0msession\u001b[0m\u001b[1;33m.\u001b[0m\u001b[0mrequest\u001b[0m\u001b[1;33m(\u001b[0m\u001b[0mmethod\u001b[0m\u001b[1;33m=\u001b[0m\u001b[0mmethod\u001b[0m\u001b[1;33m,\u001b[0m \u001b[0murl\u001b[0m\u001b[1;33m=\u001b[0m\u001b[0murl\u001b[0m\u001b[1;33m,\u001b[0m \u001b[1;33m**\u001b[0m\u001b[0mkwargs\u001b[0m\u001b[1;33m)\u001b[0m\u001b[1;33m\u001b[0m\u001b[1;33m\u001b[0m\u001b[0m\n\u001b[0m\u001b[0;32m     62\u001b[0m \u001b[1;33m\u001b[0m\u001b[0m\n\u001b[0;32m     63\u001b[0m \u001b[1;33m\u001b[0m\u001b[0m\n",
      "\u001b[1;32mC:\\ProgramData\\Anaconda3\\lib\\site-packages\\requests\\sessions.py\u001b[0m in \u001b[0;36mrequest\u001b[1;34m(self, method, url, params, data, headers, cookies, files, auth, timeout, allow_redirects, proxies, hooks, stream, verify, cert, json)\u001b[0m\n\u001b[0;32m    528\u001b[0m         }\n\u001b[0;32m    529\u001b[0m         \u001b[0msend_kwargs\u001b[0m\u001b[1;33m.\u001b[0m\u001b[0mupdate\u001b[0m\u001b[1;33m(\u001b[0m\u001b[0msettings\u001b[0m\u001b[1;33m)\u001b[0m\u001b[1;33m\u001b[0m\u001b[1;33m\u001b[0m\u001b[0m\n\u001b[1;32m--> 530\u001b[1;33m         \u001b[0mresp\u001b[0m \u001b[1;33m=\u001b[0m \u001b[0mself\u001b[0m\u001b[1;33m.\u001b[0m\u001b[0msend\u001b[0m\u001b[1;33m(\u001b[0m\u001b[0mprep\u001b[0m\u001b[1;33m,\u001b[0m \u001b[1;33m**\u001b[0m\u001b[0msend_kwargs\u001b[0m\u001b[1;33m)\u001b[0m\u001b[1;33m\u001b[0m\u001b[1;33m\u001b[0m\u001b[0m\n\u001b[0m\u001b[0;32m    531\u001b[0m \u001b[1;33m\u001b[0m\u001b[0m\n\u001b[0;32m    532\u001b[0m         \u001b[1;32mreturn\u001b[0m \u001b[0mresp\u001b[0m\u001b[1;33m\u001b[0m\u001b[1;33m\u001b[0m\u001b[0m\n",
      "\u001b[1;32mC:\\ProgramData\\Anaconda3\\lib\\site-packages\\requests\\sessions.py\u001b[0m in \u001b[0;36msend\u001b[1;34m(self, request, **kwargs)\u001b[0m\n\u001b[0;32m    641\u001b[0m \u001b[1;33m\u001b[0m\u001b[0m\n\u001b[0;32m    642\u001b[0m         \u001b[1;31m# Send the request\u001b[0m\u001b[1;33m\u001b[0m\u001b[1;33m\u001b[0m\u001b[1;33m\u001b[0m\u001b[0m\n\u001b[1;32m--> 643\u001b[1;33m         \u001b[0mr\u001b[0m \u001b[1;33m=\u001b[0m \u001b[0madapter\u001b[0m\u001b[1;33m.\u001b[0m\u001b[0msend\u001b[0m\u001b[1;33m(\u001b[0m\u001b[0mrequest\u001b[0m\u001b[1;33m,\u001b[0m \u001b[1;33m**\u001b[0m\u001b[0mkwargs\u001b[0m\u001b[1;33m)\u001b[0m\u001b[1;33m\u001b[0m\u001b[1;33m\u001b[0m\u001b[0m\n\u001b[0m\u001b[0;32m    644\u001b[0m \u001b[1;33m\u001b[0m\u001b[0m\n\u001b[0;32m    645\u001b[0m         \u001b[1;31m# Total elapsed time of the request (approximately)\u001b[0m\u001b[1;33m\u001b[0m\u001b[1;33m\u001b[0m\u001b[1;33m\u001b[0m\u001b[0m\n",
      "\u001b[1;32mC:\\ProgramData\\Anaconda3\\lib\\site-packages\\requests\\adapters.py\u001b[0m in \u001b[0;36msend\u001b[1;34m(self, request, stream, timeout, verify, cert, proxies)\u001b[0m\n\u001b[0;32m    437\u001b[0m         \u001b[1;32mtry\u001b[0m\u001b[1;33m:\u001b[0m\u001b[1;33m\u001b[0m\u001b[1;33m\u001b[0m\u001b[0m\n\u001b[0;32m    438\u001b[0m             \u001b[1;32mif\u001b[0m \u001b[1;32mnot\u001b[0m \u001b[0mchunked\u001b[0m\u001b[1;33m:\u001b[0m\u001b[1;33m\u001b[0m\u001b[1;33m\u001b[0m\u001b[0m\n\u001b[1;32m--> 439\u001b[1;33m                 resp = conn.urlopen(\n\u001b[0m\u001b[0;32m    440\u001b[0m                     \u001b[0mmethod\u001b[0m\u001b[1;33m=\u001b[0m\u001b[0mrequest\u001b[0m\u001b[1;33m.\u001b[0m\u001b[0mmethod\u001b[0m\u001b[1;33m,\u001b[0m\u001b[1;33m\u001b[0m\u001b[1;33m\u001b[0m\u001b[0m\n\u001b[0;32m    441\u001b[0m                     \u001b[0murl\u001b[0m\u001b[1;33m=\u001b[0m\u001b[0murl\u001b[0m\u001b[1;33m,\u001b[0m\u001b[1;33m\u001b[0m\u001b[1;33m\u001b[0m\u001b[0m\n",
      "\u001b[1;32mC:\\ProgramData\\Anaconda3\\lib\\site-packages\\urllib3\\connectionpool.py\u001b[0m in \u001b[0;36murlopen\u001b[1;34m(self, method, url, body, headers, retries, redirect, assert_same_host, timeout, pool_timeout, release_conn, chunked, body_pos, **response_kw)\u001b[0m\n\u001b[0;32m    668\u001b[0m \u001b[1;33m\u001b[0m\u001b[0m\n\u001b[0;32m    669\u001b[0m             \u001b[1;31m# Make the request on the httplib connection object.\u001b[0m\u001b[1;33m\u001b[0m\u001b[1;33m\u001b[0m\u001b[1;33m\u001b[0m\u001b[0m\n\u001b[1;32m--> 670\u001b[1;33m             httplib_response = self._make_request(\n\u001b[0m\u001b[0;32m    671\u001b[0m                 \u001b[0mconn\u001b[0m\u001b[1;33m,\u001b[0m\u001b[1;33m\u001b[0m\u001b[1;33m\u001b[0m\u001b[0m\n\u001b[0;32m    672\u001b[0m                 \u001b[0mmethod\u001b[0m\u001b[1;33m,\u001b[0m\u001b[1;33m\u001b[0m\u001b[1;33m\u001b[0m\u001b[0m\n",
      "\u001b[1;32mC:\\ProgramData\\Anaconda3\\lib\\site-packages\\urllib3\\connectionpool.py\u001b[0m in \u001b[0;36m_make_request\u001b[1;34m(self, conn, method, url, timeout, chunked, **httplib_request_kw)\u001b[0m\n\u001b[0;32m    424\u001b[0m                     \u001b[1;31m# Python 3 (including for exceptions like SystemExit).\u001b[0m\u001b[1;33m\u001b[0m\u001b[1;33m\u001b[0m\u001b[1;33m\u001b[0m\u001b[0m\n\u001b[0;32m    425\u001b[0m                     \u001b[1;31m# Otherwise it looks like a bug in the code.\u001b[0m\u001b[1;33m\u001b[0m\u001b[1;33m\u001b[0m\u001b[1;33m\u001b[0m\u001b[0m\n\u001b[1;32m--> 426\u001b[1;33m                     \u001b[0msix\u001b[0m\u001b[1;33m.\u001b[0m\u001b[0mraise_from\u001b[0m\u001b[1;33m(\u001b[0m\u001b[0me\u001b[0m\u001b[1;33m,\u001b[0m \u001b[1;32mNone\u001b[0m\u001b[1;33m)\u001b[0m\u001b[1;33m\u001b[0m\u001b[1;33m\u001b[0m\u001b[0m\n\u001b[0m\u001b[0;32m    427\u001b[0m         \u001b[1;32mexcept\u001b[0m \u001b[1;33m(\u001b[0m\u001b[0mSocketTimeout\u001b[0m\u001b[1;33m,\u001b[0m \u001b[0mBaseSSLError\u001b[0m\u001b[1;33m,\u001b[0m \u001b[0mSocketError\u001b[0m\u001b[1;33m)\u001b[0m \u001b[1;32mas\u001b[0m \u001b[0me\u001b[0m\u001b[1;33m:\u001b[0m\u001b[1;33m\u001b[0m\u001b[1;33m\u001b[0m\u001b[0m\n\u001b[0;32m    428\u001b[0m             \u001b[0mself\u001b[0m\u001b[1;33m.\u001b[0m\u001b[0m_raise_timeout\u001b[0m\u001b[1;33m(\u001b[0m\u001b[0merr\u001b[0m\u001b[1;33m=\u001b[0m\u001b[0me\u001b[0m\u001b[1;33m,\u001b[0m \u001b[0murl\u001b[0m\u001b[1;33m=\u001b[0m\u001b[0murl\u001b[0m\u001b[1;33m,\u001b[0m \u001b[0mtimeout_value\u001b[0m\u001b[1;33m=\u001b[0m\u001b[0mread_timeout\u001b[0m\u001b[1;33m)\u001b[0m\u001b[1;33m\u001b[0m\u001b[1;33m\u001b[0m\u001b[0m\n",
      "\u001b[1;32mC:\\ProgramData\\Anaconda3\\lib\\site-packages\\urllib3\\packages\\six.py\u001b[0m in \u001b[0;36mraise_from\u001b[1;34m(value, from_value)\u001b[0m\n",
      "\u001b[1;32mC:\\ProgramData\\Anaconda3\\lib\\site-packages\\urllib3\\connectionpool.py\u001b[0m in \u001b[0;36m_make_request\u001b[1;34m(self, conn, method, url, timeout, chunked, **httplib_request_kw)\u001b[0m\n\u001b[0;32m    419\u001b[0m                 \u001b[1;31m# Python 3\u001b[0m\u001b[1;33m\u001b[0m\u001b[1;33m\u001b[0m\u001b[1;33m\u001b[0m\u001b[0m\n\u001b[0;32m    420\u001b[0m                 \u001b[1;32mtry\u001b[0m\u001b[1;33m:\u001b[0m\u001b[1;33m\u001b[0m\u001b[1;33m\u001b[0m\u001b[0m\n\u001b[1;32m--> 421\u001b[1;33m                     \u001b[0mhttplib_response\u001b[0m \u001b[1;33m=\u001b[0m \u001b[0mconn\u001b[0m\u001b[1;33m.\u001b[0m\u001b[0mgetresponse\u001b[0m\u001b[1;33m(\u001b[0m\u001b[1;33m)\u001b[0m\u001b[1;33m\u001b[0m\u001b[1;33m\u001b[0m\u001b[0m\n\u001b[0m\u001b[0;32m    422\u001b[0m                 \u001b[1;32mexcept\u001b[0m \u001b[0mBaseException\u001b[0m \u001b[1;32mas\u001b[0m \u001b[0me\u001b[0m\u001b[1;33m:\u001b[0m\u001b[1;33m\u001b[0m\u001b[1;33m\u001b[0m\u001b[0m\n\u001b[0;32m    423\u001b[0m                     \u001b[1;31m# Remove the TypeError from the exception chain in\u001b[0m\u001b[1;33m\u001b[0m\u001b[1;33m\u001b[0m\u001b[1;33m\u001b[0m\u001b[0m\n",
      "\u001b[1;32mC:\\ProgramData\\Anaconda3\\lib\\http\\client.py\u001b[0m in \u001b[0;36mgetresponse\u001b[1;34m(self)\u001b[0m\n\u001b[0;32m   1345\u001b[0m         \u001b[1;32mtry\u001b[0m\u001b[1;33m:\u001b[0m\u001b[1;33m\u001b[0m\u001b[1;33m\u001b[0m\u001b[0m\n\u001b[0;32m   1346\u001b[0m             \u001b[1;32mtry\u001b[0m\u001b[1;33m:\u001b[0m\u001b[1;33m\u001b[0m\u001b[1;33m\u001b[0m\u001b[0m\n\u001b[1;32m-> 1347\u001b[1;33m                 \u001b[0mresponse\u001b[0m\u001b[1;33m.\u001b[0m\u001b[0mbegin\u001b[0m\u001b[1;33m(\u001b[0m\u001b[1;33m)\u001b[0m\u001b[1;33m\u001b[0m\u001b[1;33m\u001b[0m\u001b[0m\n\u001b[0m\u001b[0;32m   1348\u001b[0m             \u001b[1;32mexcept\u001b[0m \u001b[0mConnectionError\u001b[0m\u001b[1;33m:\u001b[0m\u001b[1;33m\u001b[0m\u001b[1;33m\u001b[0m\u001b[0m\n\u001b[0;32m   1349\u001b[0m                 \u001b[0mself\u001b[0m\u001b[1;33m.\u001b[0m\u001b[0mclose\u001b[0m\u001b[1;33m(\u001b[0m\u001b[1;33m)\u001b[0m\u001b[1;33m\u001b[0m\u001b[1;33m\u001b[0m\u001b[0m\n",
      "\u001b[1;32mC:\\ProgramData\\Anaconda3\\lib\\http\\client.py\u001b[0m in \u001b[0;36mbegin\u001b[1;34m(self)\u001b[0m\n\u001b[0;32m    305\u001b[0m         \u001b[1;31m# read until we get a non-100 response\u001b[0m\u001b[1;33m\u001b[0m\u001b[1;33m\u001b[0m\u001b[1;33m\u001b[0m\u001b[0m\n\u001b[0;32m    306\u001b[0m         \u001b[1;32mwhile\u001b[0m \u001b[1;32mTrue\u001b[0m\u001b[1;33m:\u001b[0m\u001b[1;33m\u001b[0m\u001b[1;33m\u001b[0m\u001b[0m\n\u001b[1;32m--> 307\u001b[1;33m             \u001b[0mversion\u001b[0m\u001b[1;33m,\u001b[0m \u001b[0mstatus\u001b[0m\u001b[1;33m,\u001b[0m \u001b[0mreason\u001b[0m \u001b[1;33m=\u001b[0m \u001b[0mself\u001b[0m\u001b[1;33m.\u001b[0m\u001b[0m_read_status\u001b[0m\u001b[1;33m(\u001b[0m\u001b[1;33m)\u001b[0m\u001b[1;33m\u001b[0m\u001b[1;33m\u001b[0m\u001b[0m\n\u001b[0m\u001b[0;32m    308\u001b[0m             \u001b[1;32mif\u001b[0m \u001b[0mstatus\u001b[0m \u001b[1;33m!=\u001b[0m \u001b[0mCONTINUE\u001b[0m\u001b[1;33m:\u001b[0m\u001b[1;33m\u001b[0m\u001b[1;33m\u001b[0m\u001b[0m\n\u001b[0;32m    309\u001b[0m                 \u001b[1;32mbreak\u001b[0m\u001b[1;33m\u001b[0m\u001b[1;33m\u001b[0m\u001b[0m\n",
      "\u001b[1;32mC:\\ProgramData\\Anaconda3\\lib\\http\\client.py\u001b[0m in \u001b[0;36m_read_status\u001b[1;34m(self)\u001b[0m\n\u001b[0;32m    266\u001b[0m \u001b[1;33m\u001b[0m\u001b[0m\n\u001b[0;32m    267\u001b[0m     \u001b[1;32mdef\u001b[0m \u001b[0m_read_status\u001b[0m\u001b[1;33m(\u001b[0m\u001b[0mself\u001b[0m\u001b[1;33m)\u001b[0m\u001b[1;33m:\u001b[0m\u001b[1;33m\u001b[0m\u001b[1;33m\u001b[0m\u001b[0m\n\u001b[1;32m--> 268\u001b[1;33m         \u001b[0mline\u001b[0m \u001b[1;33m=\u001b[0m \u001b[0mstr\u001b[0m\u001b[1;33m(\u001b[0m\u001b[0mself\u001b[0m\u001b[1;33m.\u001b[0m\u001b[0mfp\u001b[0m\u001b[1;33m.\u001b[0m\u001b[0mreadline\u001b[0m\u001b[1;33m(\u001b[0m\u001b[0m_MAXLINE\u001b[0m \u001b[1;33m+\u001b[0m \u001b[1;36m1\u001b[0m\u001b[1;33m)\u001b[0m\u001b[1;33m,\u001b[0m \u001b[1;34m\"iso-8859-1\"\u001b[0m\u001b[1;33m)\u001b[0m\u001b[1;33m\u001b[0m\u001b[1;33m\u001b[0m\u001b[0m\n\u001b[0m\u001b[0;32m    269\u001b[0m         \u001b[1;32mif\u001b[0m \u001b[0mlen\u001b[0m\u001b[1;33m(\u001b[0m\u001b[0mline\u001b[0m\u001b[1;33m)\u001b[0m \u001b[1;33m>\u001b[0m \u001b[0m_MAXLINE\u001b[0m\u001b[1;33m:\u001b[0m\u001b[1;33m\u001b[0m\u001b[1;33m\u001b[0m\u001b[0m\n\u001b[0;32m    270\u001b[0m             \u001b[1;32mraise\u001b[0m \u001b[0mLineTooLong\u001b[0m\u001b[1;33m(\u001b[0m\u001b[1;34m\"status line\"\u001b[0m\u001b[1;33m)\u001b[0m\u001b[1;33m\u001b[0m\u001b[1;33m\u001b[0m\u001b[0m\n",
      "\u001b[1;32mC:\\ProgramData\\Anaconda3\\lib\\socket.py\u001b[0m in \u001b[0;36mreadinto\u001b[1;34m(self, b)\u001b[0m\n\u001b[0;32m    667\u001b[0m         \u001b[1;32mwhile\u001b[0m \u001b[1;32mTrue\u001b[0m\u001b[1;33m:\u001b[0m\u001b[1;33m\u001b[0m\u001b[1;33m\u001b[0m\u001b[0m\n\u001b[0;32m    668\u001b[0m             \u001b[1;32mtry\u001b[0m\u001b[1;33m:\u001b[0m\u001b[1;33m\u001b[0m\u001b[1;33m\u001b[0m\u001b[0m\n\u001b[1;32m--> 669\u001b[1;33m                 \u001b[1;32mreturn\u001b[0m \u001b[0mself\u001b[0m\u001b[1;33m.\u001b[0m\u001b[0m_sock\u001b[0m\u001b[1;33m.\u001b[0m\u001b[0mrecv_into\u001b[0m\u001b[1;33m(\u001b[0m\u001b[0mb\u001b[0m\u001b[1;33m)\u001b[0m\u001b[1;33m\u001b[0m\u001b[1;33m\u001b[0m\u001b[0m\n\u001b[0m\u001b[0;32m    670\u001b[0m             \u001b[1;32mexcept\u001b[0m \u001b[0mtimeout\u001b[0m\u001b[1;33m:\u001b[0m\u001b[1;33m\u001b[0m\u001b[1;33m\u001b[0m\u001b[0m\n\u001b[0;32m    671\u001b[0m                 \u001b[0mself\u001b[0m\u001b[1;33m.\u001b[0m\u001b[0m_timeout_occurred\u001b[0m \u001b[1;33m=\u001b[0m \u001b[1;32mTrue\u001b[0m\u001b[1;33m\u001b[0m\u001b[1;33m\u001b[0m\u001b[0m\n",
      "\u001b[1;32mC:\\ProgramData\\Anaconda3\\lib\\ssl.py\u001b[0m in \u001b[0;36mrecv_into\u001b[1;34m(self, buffer, nbytes, flags)\u001b[0m\n\u001b[0;32m   1239\u001b[0m                   \u001b[1;34m\"non-zero flags not allowed in calls to recv_into() on %s\"\u001b[0m \u001b[1;33m%\u001b[0m\u001b[1;33m\u001b[0m\u001b[1;33m\u001b[0m\u001b[0m\n\u001b[0;32m   1240\u001b[0m                   self.__class__)\n\u001b[1;32m-> 1241\u001b[1;33m             \u001b[1;32mreturn\u001b[0m \u001b[0mself\u001b[0m\u001b[1;33m.\u001b[0m\u001b[0mread\u001b[0m\u001b[1;33m(\u001b[0m\u001b[0mnbytes\u001b[0m\u001b[1;33m,\u001b[0m \u001b[0mbuffer\u001b[0m\u001b[1;33m)\u001b[0m\u001b[1;33m\u001b[0m\u001b[1;33m\u001b[0m\u001b[0m\n\u001b[0m\u001b[0;32m   1242\u001b[0m         \u001b[1;32melse\u001b[0m\u001b[1;33m:\u001b[0m\u001b[1;33m\u001b[0m\u001b[1;33m\u001b[0m\u001b[0m\n\u001b[0;32m   1243\u001b[0m             \u001b[1;32mreturn\u001b[0m \u001b[0msuper\u001b[0m\u001b[1;33m(\u001b[0m\u001b[1;33m)\u001b[0m\u001b[1;33m.\u001b[0m\u001b[0mrecv_into\u001b[0m\u001b[1;33m(\u001b[0m\u001b[0mbuffer\u001b[0m\u001b[1;33m,\u001b[0m \u001b[0mnbytes\u001b[0m\u001b[1;33m,\u001b[0m \u001b[0mflags\u001b[0m\u001b[1;33m)\u001b[0m\u001b[1;33m\u001b[0m\u001b[1;33m\u001b[0m\u001b[0m\n",
      "\u001b[1;32mC:\\ProgramData\\Anaconda3\\lib\\ssl.py\u001b[0m in \u001b[0;36mread\u001b[1;34m(self, len, buffer)\u001b[0m\n\u001b[0;32m   1097\u001b[0m         \u001b[1;32mtry\u001b[0m\u001b[1;33m:\u001b[0m\u001b[1;33m\u001b[0m\u001b[1;33m\u001b[0m\u001b[0m\n\u001b[0;32m   1098\u001b[0m             \u001b[1;32mif\u001b[0m \u001b[0mbuffer\u001b[0m \u001b[1;32mis\u001b[0m \u001b[1;32mnot\u001b[0m \u001b[1;32mNone\u001b[0m\u001b[1;33m:\u001b[0m\u001b[1;33m\u001b[0m\u001b[1;33m\u001b[0m\u001b[0m\n\u001b[1;32m-> 1099\u001b[1;33m                 \u001b[1;32mreturn\u001b[0m \u001b[0mself\u001b[0m\u001b[1;33m.\u001b[0m\u001b[0m_sslobj\u001b[0m\u001b[1;33m.\u001b[0m\u001b[0mread\u001b[0m\u001b[1;33m(\u001b[0m\u001b[0mlen\u001b[0m\u001b[1;33m,\u001b[0m \u001b[0mbuffer\u001b[0m\u001b[1;33m)\u001b[0m\u001b[1;33m\u001b[0m\u001b[1;33m\u001b[0m\u001b[0m\n\u001b[0m\u001b[0;32m   1100\u001b[0m             \u001b[1;32melse\u001b[0m\u001b[1;33m:\u001b[0m\u001b[1;33m\u001b[0m\u001b[1;33m\u001b[0m\u001b[0m\n\u001b[0;32m   1101\u001b[0m                 \u001b[1;32mreturn\u001b[0m \u001b[0mself\u001b[0m\u001b[1;33m.\u001b[0m\u001b[0m_sslobj\u001b[0m\u001b[1;33m.\u001b[0m\u001b[0mread\u001b[0m\u001b[1;33m(\u001b[0m\u001b[0mlen\u001b[0m\u001b[1;33m)\u001b[0m\u001b[1;33m\u001b[0m\u001b[1;33m\u001b[0m\u001b[0m\n",
      "\u001b[1;31mKeyboardInterrupt\u001b[0m: "
     ]
    }
   ],
   "source": [
    "review_list = []\n",
    "titles = [] # 칼럼 생성 위해서\n",
    "cnt = 0\n",
    "#87163 /620\n",
    "\n",
    "for j in range(1, 50) : \n",
    "    url = f'https://movie.naver.com/movie/bi/mi/review.nhn?code={87163}&page={j}'\n",
    "    req = requests.get(url)\n",
    "    soup = BeautifulSoup(req.text, \"html.parser\")\n",
    "    \n",
    "    print(j, '페이지')\n",
    "    for href in soup.find(\"ul\", class_=\"rvw_list_area\").find_all(\"li\"):\n",
    "        #list = href.find(\"a\").split('showReviewDetail')\n",
    "        try :\n",
    "            list = href.find(\"a\")\n",
    "            list = re.findall('\\(([^)]+)',str(list))[1]\n",
    "            print(list)\n",
    "            review_num_list.append(list)\n",
    "        except :\n",
    "            continue\n"
   ]
  }
 ],
 "metadata": {
  "kernelspec": {
   "display_name": "Python 3",
   "language": "python",
   "name": "python3"
  },
  "language_info": {
   "codemirror_mode": {
    "name": "ipython",
    "version": 3
   },
   "file_extension": ".py",
   "mimetype": "text/x-python",
   "name": "python",
   "nbconvert_exporter": "python",
   "pygments_lexer": "ipython3",
   "version": "3.8.5"
  },
  "toc": {
   "base_numbering": 1,
   "nav_menu": {},
   "number_sections": true,
   "sideBar": true,
   "skip_h1_title": false,
   "title_cell": "Table of Contents",
   "title_sidebar": "Contents",
   "toc_cell": false,
   "toc_position": {},
   "toc_section_display": true,
   "toc_window_display": false
  }
 },
 "nbformat": 4,
 "nbformat_minor": 4
}
