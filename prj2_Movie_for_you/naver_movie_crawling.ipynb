{
 "cells": [
  {
   "cell_type": "code",
   "execution_count": 1,
   "source": [
    "from bs4 import BeautifulSoup\r\n",
    "import pandas as pd\r\n",
    "import requests\r\n",
    "import re\r\n",
    "import time"
   ],
   "outputs": [],
   "metadata": {}
  },
  {
   "cell_type": "code",
   "execution_count": 2,
   "source": [
    "year = ['2016','2017','2018','2019','2020']\r\n",
    "'''\r\n",
    "ㅇ영화 고유 번호 :\r\n",
    "ㅇ리뷰 유무 : https://movie.naver.com/movie/bi/mi/review.nhn?code=140265&page=1 #151587\r\n",
    "ㅇ리뷰 개수 : 파악 for문 돌릴 때 필요\r\n",
    "ㅇ리뷰 링크 : https://movie.naver.com/movie/bi/mi/reviewread.nhn?nid=4225025&code=140265&order=#tab\r\n",
    "\r\n",
    "'''"
   ],
   "outputs": [
    {
     "output_type": "execute_result",
     "data": {
      "text/plain": [
       "'\\nㅇ영화 고유 번호 :\\nㅇ리뷰 유무 : https://movie.naver.com/movie/bi/mi/review.nhn?code=140265&page=1 #151587\\nㅇ리뷰 개수 : 파악 for문 돌릴 때 필요\\nㅇ리뷰 링크 : https://movie.naver.com/movie/bi/mi/reviewread.nhn?nid=4225025&code=140265&order=#tab\\n\\n'"
      ]
     },
     "metadata": {},
     "execution_count": 2
    }
   ],
   "metadata": {}
  },
  {
   "cell_type": "code",
   "execution_count": 3,
   "source": [
    "year = [i for i in range(2010,2022)]\r\n",
    "year_num = [568,811,878,1219,1518,1410,1172,1051,999,850,731,510]"
   ],
   "outputs": [],
   "metadata": {}
  },
  {
   "cell_type": "code",
   "execution_count": null,
   "source": [
    "for i in range(len(year)):\r\n",
    "    a = int(year_num[i] / 20) +2\r\n"
   ],
   "outputs": [],
   "metadata": {}
  },
  {
   "cell_type": "code",
   "execution_count": 42,
   "source": [
    "# 영화 고유 번호 크롤링 / 제목\r\n",
    "title_list = []\r\n",
    "url_list = []\r\n",
    "for i in range(1, int(year_num[1] / 20) +2):\r\n",
    "    url = f\"https://movie.naver.com/movie/sdb/browsing/bmovie.nhn?open={2013}&page={i}\"\r\n",
    "    req = requests.get(url)\r\n",
    "    soup = BeautifulSoup(req.text, \"html.parser\")\r\n",
    "    title = soup.select('ul.directory_list > li > a')\r\n",
    "\r\n",
    "    for k in title:\r\n",
    "        keyword = k.text\r\n",
    "        title_list.append(keyword) \r\n",
    "\r\n",
    "    for href in soup.find(\"ul\", class_=\"directory_list\").find_all(\"li\"):\r\n",
    "        list = href.find(\"a\")[\"href\"]\r\n",
    "        if 'code' in list :\r\n",
    "            url_list.append(list)\r\n",
    "    if i % 10 == 0 :\r\n",
    "         print(i,'페이지 완료 /', end='')\r\n",
    "#print(url_list)\r\n",
    "print('')\r\n",
    "print(year[3], '년도 영화 제목, href 파악')"
   ],
   "outputs": [
    {
     "output_type": "stream",
     "name": "stdout",
     "text": [
      "10 페이지 완료 /20 페이지 완료 /30 페이지 완료 /40 페이지 완료 /50 페이지 완료 /60 페이지 완료 /\n",
      "2013 년도 영화 제목, href 파악\n"
     ]
    }
   ],
   "metadata": {
    "scrolled": false
   }
  },
  {
   "cell_type": "code",
   "execution_count": null,
   "source": [
    "print(url_list)"
   ],
   "outputs": [],
   "metadata": {
    "collapsed": true
   }
  },
  {
   "cell_type": "code",
   "execution_count": 43,
   "source": [
    "# 영화 고유 번호 추출\r\n",
    "code_list = []\r\n",
    "for url in url_list:  #(len(url_list)):\r\n",
    "    m_num = re.findall('\\d+',url)\r\n",
    "    code_list.append(m_num[0])\r\n",
    "    \r\n",
    "print(len(code_list))"
   ],
   "outputs": [
    {
     "output_type": "stream",
     "name": "stdout",
     "text": [
      "1219\n"
     ]
    }
   ],
   "metadata": {}
  },
  {
   "cell_type": "code",
   "execution_count": 44,
   "source": [
    "# 영화 리뷰 개수 크롤링\r\n",
    "review_cnt_list = []\r\n",
    "cnt = 1\r\n",
    "for i in code_list:\r\n",
    "    url = f\"https://movie.naver.com/movie/bi/mi/review.nhn?code={i}\"\r\n",
    "    req = requests.get(url)\r\n",
    "    soup = BeautifulSoup(req.text, \"html.parser\")\r\n",
    "    try : \r\n",
    "        r_num = soup.select_one('span.cnt > em').text\r\n",
    "    except :\r\n",
    "        r_num = 0\r\n",
    "    if cnt % 10 == 0 :\r\n",
    "        print('.', end='')\r\n",
    "    review_cnt_list.append(r_num)\r\n",
    "    \r\n",
    "    cnt += 1\r\n",
    "print('완료') \r\n",
    "#print(review_cnt_list)"
   ],
   "outputs": [
    {
     "output_type": "stream",
     "name": "stdout",
     "text": [
      ".........................................................................................................................완료\n"
     ]
    }
   ],
   "metadata": {
    "scrolled": true
   }
  },
  {
   "cell_type": "code",
   "execution_count": 45,
   "source": [
    "import winsound as sd\r\n",
    "def beepsound():\r\n",
    "    fr = 2000    # range : 37 ~ 32767\r\n",
    "    du = 1000     # 1000 ms ==1second\r\n",
    "    sd.Beep(fr, du) # winsound.Beep(frequency, duration)\r\n",
    "beepsound()"
   ],
   "outputs": [],
   "metadata": {}
  },
  {
   "cell_type": "code",
   "execution_count": 31,
   "source": [
    "len(review_cnt_list)"
   ],
   "outputs": [
    {
     "output_type": "execute_result",
     "data": {
      "text/plain": [
       "878"
      ]
     },
     "metadata": {},
     "execution_count": 31
    }
   ],
   "metadata": {
    "scrolled": true
   }
  },
  {
   "cell_type": "code",
   "execution_count": null,
   "source": [
    "#숫자에 , 제거\r\n",
    "for i in range(len(review_cnt_list)) :\r\n",
    "    review_cnt_list[i] = re.sub(',','',str(review_cnt_list[i]))\r\n",
    "print(review_cnt_list)"
   ],
   "outputs": [],
   "metadata": {}
  },
  {
   "cell_type": "code",
   "execution_count": 10,
   "source": [
    "# 각 영화 리뷰 고유 번호 크롤링 2번째 영화 예시\r\n",
    "\r\n",
    "review_num_list = []\r\n",
    "\r\n",
    "for j in range(1, ((int(review_cnt_list[1])-1) // 10)+2) :\r\n",
    "    print(j)\r\n",
    "    url = f'https://movie.naver.com/movie/bi/mi/review.nhn?code=140265&page={j}'\r\n",
    "    req = requests.get(url)\r\n",
    "    soup = BeautifulSoup(req.text, \"html.parser\")\r\n",
    "    \r\n",
    "    if j == 14 :\r\n",
    "        time.sleep(1)\r\n",
    "    for href in soup.find(\"ul\", class_=\"rvw_list_area\").find_all(\"li\"):\r\n",
    "        #list = href.find(\"a\").split('showReviewDetail')\r\n",
    "        list = href.find(\"a\")\r\n",
    "        list = re.findall('\\(([^)]+)',str(list))[1]\r\n",
    "        review_num_list.append(list)\r\n",
    "    print(len(review_num_list))\r\n",
    "    print('='*30)\r\n",
    "    \r\n",
    "\r\n",
    "print(review_num_list)\r\n"
   ],
   "outputs": [
    {
     "output_type": "stream",
     "name": "stdout",
     "text": [
      "[]\n"
     ]
    }
   ],
   "metadata": {}
  },
  {
   "cell_type": "code",
   "execution_count": 55,
   "source": [
    "len(review_num_list)"
   ],
   "outputs": [
    {
     "output_type": "execute_result",
     "data": {
      "text/plain": [
       "181"
      ]
     },
     "metadata": {},
     "execution_count": 55
    }
   ],
   "metadata": {
    "scrolled": true
   }
  },
  {
   "cell_type": "code",
   "execution_count": null,
   "source": [
    "#리뷰 텍스트 가져오기 - 예시\r\n",
    "url = 'https://movie.naver.com/movie/bi/mi/reviewread.nhn?nid=4225907&code=140265&order=#tab'\r\n",
    "req = requests.get(url)\r\n",
    "soup = BeautifulSoup(req.text, \"html.parser\")\r\n",
    "review = soup.select('div.user_tx_area')\r\n",
    "review = re.sub('(<([^>]+)>)', '', str(review))\r\n",
    "print(review)"
   ],
   "outputs": [],
   "metadata": {
    "collapsed": true
   }
  },
  {
   "cell_type": "code",
   "execution_count": null,
   "source": [
    "code_list.index('83697')"
   ],
   "outputs": [],
   "metadata": {
    "scrolled": true
   }
  },
  {
   "cell_type": "code",
   "execution_count": 50,
   "source": [
    "code_list[620]"
   ],
   "outputs": [
    {
     "output_type": "execute_result",
     "data": {
      "text/plain": [
       "'87163'"
      ]
     },
     "metadata": {},
     "execution_count": 50
    }
   ],
   "metadata": {}
  },
  {
   "cell_type": "code",
   "execution_count": null,
   "source": [
    "#전체 코드 시작 2\r\n",
    "\r\n",
    "\"\"\"\r\n",
    "고유번호,제목   / code_list, title_list\r\n",
    "리뷰의 개수 / review_cnt_list\r\n",
    "고유번호-리뷰의 고유번호  /review_num_list (중간에 생성) url1\r\n",
    "글 가져오기 / review_list / url2\r\n",
    "\"\"\"\r\n",
    "\r\n",
    "review_list = []\r\n",
    "titles = [] # 칼럼 생성 위해서\r\n",
    "cnt = 0\r\n",
    "for i in range(1, len(code_list)) :\r\n",
    "    num_id = code_list[i]\r\n",
    "    title = title_list[i]\r\n",
    "    \r\n",
    "    #리뷰 고유 번호 파악\r\n",
    "    review_num_list = []\r\n",
    "    \r\n",
    "    #리뷰 개수는 50개만 \r\n",
    "    if int(review_cnt_list[i]) > 50:\r\n",
    "        review_cnt_list[i] = '50'\r\n",
    "    \r\n",
    "    for j in range(1, ((int(review_cnt_list[i])-1) // 10)+2) :\r\n",
    "        url = f'https://movie.naver.com/movie/bi/mi/review.nhn?code={num_id}&page={j}'\r\n",
    "        req = requests.get(url)\r\n",
    "        soup = BeautifulSoup(req.text, \"html.parser\")\r\n",
    "\r\n",
    "        for href in soup.find(\"ul\", class_=\"rvw_list_area\").find_all(\"li\"):\r\n",
    "            #list = href.find(\"a\").split('showReviewDetail')\r\n",
    "            list = href.find(\"a\")\r\n",
    "            try :\r\n",
    "                list = re.findall('\\(([^)]+)',str(list))[1]\r\n",
    "                review_num_list.append(list)\r\n",
    "            except : \r\n",
    "                pass\r\n",
    "\r\n",
    "            \r\n",
    "    #리뷰 긁어오기\r\n",
    "\r\n",
    "    for r in review_num_list :\r\n",
    "        url = f'https://movie.naver.com/movie/bi/mi/reviewread.nhn?nid={r}&code={num_id}&order=#tab'\r\n",
    "        req = requests.get(url)\r\n",
    "        soup = BeautifulSoup(req.text, \"html.parser\")\r\n",
    "        review = soup.select('div.user_tx_area')\r\n",
    "        review = re.sub('(<([^>]+)>)', '', str(review))\r\n",
    "        review_list.append(review)\r\n",
    "        titles.append(title)\r\n",
    "    print(num_id,\" : \",title,' 완료/ ', end='')    \r\n",
    "    cnt += 1\r\n",
    "    if cnt % 100 == 0 :\r\n",
    "        print('')\r\n",
    "        print(cnt,'번째 영화 완료')\r\n",
    "df= pd.DataFrame({'titles': titles, 'reviews': review_list})\r\n",
    "df.info()\r\n",
    "count=0\r\n",
    "sentences = []\r\n",
    "for sentence in df.reviews:\r\n",
    "    count += 1\r\n",
    "    if count % 100 == 0 :\r\n",
    "        print('.', end='')\r\n",
    "    if count % 1000 == 0 :\r\n",
    "        print('/',end='') #줄바꿈\r\n",
    "    sentence = re.sub('[^가-힣 ]','',sentence)\r\n",
    "    sentences.append(sentence)\r\n",
    "df= pd.DataFrame({'titles': titles, 'reviews': sentences})\r\n",
    "df.to_csv('reviews_{2013}.csv')    \r\n",
    "print('완료')"
   ],
   "outputs": [],
   "metadata": {
    "scrolled": true
   }
  },
  {
   "cell_type": "code",
   "execution_count": 20,
   "source": [
    "df= pd.DataFrame({'titles': titles, 'reviews': review_list})\r\n",
    "df.info()\r\n",
    "count=0\r\n",
    "sentences = []\r\n",
    "for sentence in df.reviews:\r\n",
    "    count += 1\r\n",
    "    if count % 100 == 0 :\r\n",
    "        print('.', end='')\r\n",
    "    if count % 1000 == 0 :\r\n",
    "        print('/',end='') #줄바꿈\r\n",
    "    sentence = re.sub('[^가-힣 ]','',sentence)\r\n",
    "    sentences.append(sentence)\r\n",
    "\r\n",
    "len(sentences)\r\n",
    "\r\n",
    "df.to_csv('reviews_2010.csv')\r\n",
    "# print('완료')\r\n",
    "# #dfencode('UTF-8','ignore').decode('UTF-8')"
   ],
   "outputs": [
    {
     "output_type": "stream",
     "name": "stdout",
     "text": [
      "<class 'pandas.core.frame.DataFrame'>\n",
      "RangeIndex: 16383 entries, 0 to 16382\n",
      "Data columns (total 2 columns):\n",
      " #   Column   Non-Null Count  Dtype \n",
      "---  ------   --------------  ----- \n",
      " 0   titles   16383 non-null  object\n",
      " 1   reviews  16383 non-null  object\n",
      "dtypes: object(2)\n",
      "memory usage: 256.1+ KB\n",
      "........../........../........../........../........../........../........../........../........../........../........../........../........../........../........../........../..."
     ]
    }
   ],
   "metadata": {
    "scrolled": false
   }
  },
  {
   "cell_type": "code",
   "execution_count": 198,
   "source": [
    "df= pd.DataFrame({'titles': titles3, 'reviews': sentences})\r\n",
    "df.to_csv('reviews_2016_.csv')\r\n",
    "df.info()"
   ],
   "outputs": [
    {
     "output_type": "stream",
     "name": "stdout",
     "text": [
      "<class 'pandas.core.frame.DataFrame'>\n",
      "RangeIndex: 21762 entries, 0 to 21761\n",
      "Data columns (total 2 columns):\n",
      " #   Column   Non-Null Count  Dtype \n",
      "---  ------   --------------  ----- \n",
      " 0   titles   21762 non-null  object\n",
      " 1   reviews  21762 non-null  object\n",
      "dtypes: object(2)\n",
      "memory usage: 340.2+ KB\n"
     ]
    }
   ],
   "metadata": {}
  },
  {
   "cell_type": "code",
   "execution_count": 141,
   "source": [
    "# 왜 오류가 났을까?\r\n",
    "\r\n",
    "review_num_list = []\r\n",
    "for j in range(1, (50// 10)+2) :\r\n",
    "    url = f'https://movie.naver.com/movie/bi/mi/review.nhn?code={114237}&page={j}'\r\n",
    "    req = requests.get(url)\r\n",
    "    soup = BeautifulSoup(req.text, \"html.parser\")\r\n",
    "\r\n",
    "    for href in soup.find(\"ul\", class_=\"rvw_list_area\").find_all(\"li\"):\r\n",
    "        #list = href.find(\"a\").split('showReviewDetail')\r\n",
    "        list = href.find(\"a\")\r\n",
    "        print(j, list)\r\n",
    "        try :\r\n",
    "            list = re.findall('\\(([^)]+)',str(list))[1]\r\n",
    "            review_num_list.append(list)\r\n",
    "        except : \r\n",
    "            pass\r\n",
    "        "
   ],
   "outputs": [
    {
     "output_type": "stream",
     "name": "stdout",
     "text": [
      "1 <a href=\"#\" onclick=\"clickcr(this, 'rli.title', '', '', event); showReviewDetail(4201037)\"><strong>&lt;드레스메이커 , 2016&gt; 시작은 창대하나 그 끝은 미약하리라</strong></a>\n",
      "1 <a href=\"#\" onclick=\"clickcr(this, 'rli.title', '', '', event); showReviewDetail(4255753)\"><strong>드레스메이커를 보고</strong></a>\n",
      "1 <a href=\"#\" onclick=\"clickcr(this, 'rli.title', '', '', event); showReviewDetail(4194331)\"><strong>[시사회] 영화 드레스메이커 후기</strong></a>\n",
      "1 <a href=\"#\" onclick=\"clickcr(this, 'rli.title', '', '', event); showReviewDetail(4186965)\"><strong>(2016.01.26) [영화|후기]「드레스메이커」- 살인자로 낙인찍었던 마을로 돌아온 그녀, 가혹한 그녀의 운명 그리고 선택! (+ 관객과의 대화 GV 모습 등)</strong></a>\n",
      "1 <a href=\"#\" onclick=\"clickcr(this, 'rli.title', '', '', event); showReviewDetail(4205376)\"><strong>스포有 ) 복수극에 로맨스가 웬말인가</strong></a>\n",
      "1 <a href=\"#\" onclick=\"clickcr(this, 'rli.title', '', '', event); showReviewDetail(4223160)\"><strong>드레스메이커 / 20160224</strong></a>\n",
      "1 <a href=\"#\" onclick=\"clickcr(this, 'rli.title', '', '', event); showReviewDetail(4182361)\"><strong>드레스메이커(2015) - 화려한 의상속에 담긴 우아한 복수</strong></a>\n",
      "1 <a href=\"#\" onclick=\"clickcr(this, 'rli.title', '', '', event); showReviewDetail(4196979)\"><strong>&lt;드레스메이커&gt; 리뷰 - B정서와 드라마가 조화를 이루는 여성복수극활극</strong></a>\n",
      "1 <a href=\"#\" onclick=\"clickcr(this, 'rli.title', '', '', event); showReviewDetail(4182689)\"><strong>[드레스메이커] 후기 - 진정한 복수란 이런 것</strong></a>\n",
      "1 <a href=\"#\" onclick=\"clickcr(this, 'rli.title', '', '', event); showReviewDetail(4228996)\"><strong>드레스메이커:흠....? 재미읍엉: 케이트윈슬렛,주디데이비스,리암햄스워스,휴고위빙</strong></a>\n",
      "2 <a href=\"#\" onclick=\"clickcr(this, 'rli.title', '', '', event); showReviewDetail(4323475)\"><strong>[영화] 드레스메이커, 단죄하는 또 다른 방법</strong></a>\n",
      "2 <a href=\"#\" onclick=\"clickcr(this, 'rli.title', '', '', event); showReviewDetail(4240500)\"><strong>참담하다</strong></a>\n",
      "2 <a href=\"#\" onclick=\"clickcr(this, 'rli.title', '', '', event); showReviewDetail(4202876)\"><strong>[드레스메이커] 욕망 그리고 허세의 사회학(하)</strong></a>\n",
      "2 <a href=\"#\" onclick=\"clickcr(this, 'rli.title', '', '', event); showReviewDetail(4208321)\"><strong>&lt;드레스메이커&gt; 케이트 윈슬렛 주연 영화!</strong></a>\n",
      "2 <a href=\"#\" onclick=\"clickcr(this, 'rli.title', '', '', event); showReviewDetail(4604505)\"><strong>죽음들은 과연 무엇을 의미하는가</strong></a>\n",
      "2 <a href=\"#\" onclick=\"clickcr(this, 'rli.title', '', '', event); showReviewDetail(4201918)\"><strong>[영화리뷰]드레스 메이커,  그래 바로 이 맛이야~ </strong></a>\n",
      "2 <a href=\"#\" onclick=\"clickcr(this, 'rli.title', '', '', event); showReviewDetail(4201821)\"><strong>드레스메이커 The Dressmaker</strong></a>\n",
      "2 <a href=\"#\" onclick=\"clickcr(this, 'rli.title', '', '', event); showReviewDetail(4222226)\"><strong>[드라마] 드레스 메이커</strong></a>\n",
      "2 <a href=\"#\" onclick=\"clickcr(this, 'rli.title', '', '', event); showReviewDetail(4188308)\"><strong>&lt;CGV신촌 아트레온 시사회 후기&gt; 드레스 메이커 : 패션은 우아하게 복수는 화려하게</strong></a>\n",
      "2 <a href=\"#\" onclick=\"clickcr(this, 'rli.title', '', '', event); showReviewDetail(4269896)\"><strong>강추!! 이런 발칙한 코메디를 봤나!! The Dressmaker, 2015 드레스메이커</strong></a>\n",
      "3 <a href=\"#\" onclick=\"clickcr(this, 'rli.title', '', '', event); showReviewDetail(4205971)\"><strong>재봉틀로 하는 우아한 복수,멋지다! &lt;드레스 메이커&gt;</strong></a>\n",
      "3 <a href=\"#\" onclick=\"clickcr(this, 'rli.title', '', '', event); showReviewDetail(4200265)\"><strong>역시, 믿고 보는 케이트윈슬렛.</strong></a>\n",
      "3 <a href=\"#\" onclick=\"clickcr(this, 'rli.title', '', '', event); showReviewDetail(4194769)\"><strong>코메디, 로맨스, 그리고 복수.</strong></a>\n",
      "3 <a href=\"#\" onclick=\"clickcr(this, 'rli.title', '', '', event); showReviewDetail(4251440)\"><strong>드레스메이커/TheDressMaker</strong></a>\n",
      "3 <a href=\"#\" onclick=\"clickcr(this, 'rli.title', '', '', event); showReviewDetail(4318307)\"><strong>20160716 : 영화 드레스메이커</strong></a>\n",
      "3 <a href=\"#\" onclick=\"clickcr(this, 'rli.title', '', '', event); showReviewDetail(4233122)\"><strong>영화&lt;드레스메이커&gt;</strong></a>\n",
      "3 <a href=\"#\" onclick=\"clickcr(this, 'rli.title', '', '', event); showReviewDetail(4248120)\"><strong>드레스메이커 (The Dressmaker, 2015)</strong></a>\n",
      "3 <a href=\"#\" onclick=\"clickcr(this, 'rli.title', '', '', event); showReviewDetail(4244893)\"><strong>드레스 메이커(2015)</strong></a>\n",
      "3 <a class=\"top_class\" href=\"/movie/bi/mi/basic.nhn?code=194205\">\n",
      "<em class=\"rank_01\"><span class=\"blind\">1위</span></em>\n",
      "<p class=\"rank_tx\">발신제한</p>\n",
      "</a>\n",
      "3 <a href=\"/movie/bi/mi/basic.nhn?code=189368\">\n",
      "<em class=\"rank_02\"><span class=\"blind\">2위</span></em>\n",
      "<p class=\"rank_tx\">콰이어트 플레이스 2</p>\n",
      "</a>\n",
      "3 <a href=\"/movie/bi/mi/basic.nhn?code=204624\">\n",
      "<em class=\"rank_03\"><span class=\"blind\">3위</span></em>\n",
      "<p class=\"rank_tx\">킬러의 보디가드 2</p>\n",
      "</a>\n",
      "3 <a href=\"/movie/bi/mi/basic.nhn?code=187322\">\n",
      "<em class=\"rank_04\"><span class=\"blind\">4위</span></em>\n",
      "<p class=\"rank_tx\">크루엘라</p>\n",
      "</a>\n",
      "3 <a href=\"/movie/bi/mi/basic.nhn?code=202903\">\n",
      "<em class=\"rank_05\"><span class=\"blind\">5위</span></em>\n",
      "<p class=\"rank_tx\">루카</p>\n",
      "</a>\n",
      "3 <a href=\"/movie/bi/mi/basic.nhn?code=184318\">\n",
      "<em class=\"rank_06\"><span class=\"blind\">6위</span></em>\n",
      "<p class=\"rank_tx\">블랙 위도우</p>\n",
      "</a>\n",
      "3 <a href=\"/movie/bi/mi/basic.nhn?code=191631\">\n",
      "<em class=\"rank_07\"><span class=\"blind\">7위</span></em>\n",
      "<p class=\"rank_tx\">인 더 하이츠</p>\n",
      "</a>\n",
      "3 <a href=\"/movie/bi/mi/basic.nhn?code=189120\">\n",
      "<em class=\"rank_08\"><span class=\"blind\">8위</span></em>\n",
      "<p class=\"rank_tx\">미드나이트</p>\n",
      "</a>\n",
      "3 <a href=\"/movie/bi/mi/basic.nhn?code=187849\">\n",
      "<em class=\"rank_09\"><span class=\"blind\">9위</span></em>\n",
      "<p class=\"rank_tx\">여고괴담 여섯번째 이야기 : 모교</p>\n",
      "</a>\n",
      "3 <a href=\"/movie/bi/mi/basic.nhn?code=190726\">\n",
      "<em class=\"rank_10\"><span class=\"blind\">10위</span></em>\n",
      "<p class=\"rank_tx\">컨저링 3: 악마가 시켰다</p>\n",
      "</a>\n",
      "3 <a class=\"top_class\" href=\"/movie/bi/pi/basic.nhn?code=135256\">\n",
      "<em class=\"rank_01\"><span class=\"blind\">1위</span></em>\n",
      "<p class=\"rank_tx\">엠마 스톤</p>\n",
      "</a>\n",
      "3 <a href=\"/movie/bi/pi/basic.nhn?code=53079\">\n",
      "<em class=\"rank_02\"><span class=\"blind\">2위</span></em>\n",
      "<p class=\"rank_tx\">에밀리 블런트</p>\n",
      "</a>\n",
      "3 <a href=\"/movie/bi/pi/basic.nhn?code=43284\">\n",
      "<em class=\"rank_03\"><span class=\"blind\">3위</span></em>\n",
      "<p class=\"rank_tx\">마동석</p>\n",
      "</a>\n",
      "3 <a href=\"/movie/bi/pi/basic.nhn?code=88133\">\n",
      "<em class=\"rank_04\"><span class=\"blind\">4위</span></em>\n",
      "<p class=\"rank_tx\">김창주</p>\n",
      "</a>\n",
      "3 <a href=\"/movie/bi/pi/basic.nhn?code=1898\">\n",
      "<em class=\"rank_05\"><span class=\"blind\">5위</span></em>\n",
      "<p class=\"rank_tx\">이병헌</p>\n",
      "</a>\n",
      "3 <a href=\"/movie/bi/pi/basic.nhn?code=404\">\n",
      "<em class=\"rank_06\"><span class=\"blind\">6위</span></em>\n",
      "<p class=\"rank_tx\">엠마 톰슨</p>\n",
      "</a>\n",
      "3 <a href=\"/movie/bi/pi/basic.nhn?code=89839\">\n",
      "<em class=\"rank_07\"><span class=\"blind\">7위</span></em>\n",
      "<p class=\"rank_tx\">존 크래신스키</p>\n",
      "</a>\n",
      "3 <a href=\"/movie/bi/pi/basic.nhn?code=11449\">\n",
      "<em class=\"rank_08\"><span class=\"blind\">8위</span></em>\n",
      "<p class=\"rank_tx\">킬리언 머피</p>\n",
      "</a>\n",
      "3 <a href=\"/movie/bi/pi/basic.nhn?code=62120\">\n",
      "<em class=\"rank_09\"><span class=\"blind\">9위</span></em>\n",
      "<p class=\"rank_tx\">반종 피산다나쿤</p>\n",
      "</a>\n",
      "3 <a href=\"/movie/bi/pi/basic.nhn?code=370454\">\n",
      "<em class=\"rank_10\"><span class=\"blind\">10위</span></em>\n",
      "<p class=\"rank_tx\">이재인</p>\n",
      "</a>\n",
      "3 <a class=\"top_class\" href=\"/movie/bi/mi/basic.nhn?code=191631\">\n",
      "<em class=\"rank_01\"><span class=\"blind\">1위</span></em>\n",
      "<p class=\"rank_tx\">인 더 하이츠</p>\n",
      "</a>\n",
      "3 <a href=\"/movie/bi/mi/basic.nhn?code=194205\">\n",
      "<em class=\"rank_02\"><span class=\"blind\">2위</span></em>\n",
      "<p class=\"rank_tx\">발신제한</p>\n",
      "</a>\n",
      "3 <a href=\"/movie/bi/mi/basic.nhn?code=187322\">\n",
      "<em class=\"rank_03\"><span class=\"blind\">3위</span></em>\n",
      "<p class=\"rank_tx\">크루엘라</p>\n",
      "</a>\n",
      "3 <a href=\"/movie/bi/mi/basic.nhn?code=204624\">\n",
      "<em class=\"rank_04\"><span class=\"blind\">4위</span></em>\n",
      "<p class=\"rank_tx\">킬러의 보디가드 2</p>\n",
      "</a>\n",
      "3 <a href=\"/movie/bi/mi/basic.nhn?code=202903\">\n",
      "<em class=\"rank_05\"><span class=\"blind\">5위</span></em>\n",
      "<p class=\"rank_tx\">루카</p>\n",
      "</a>\n",
      "3 <a href=\"/movie/bi/mi/basic.nhn?code=189120\">\n",
      "<em class=\"rank_06\"><span class=\"blind\">6위</span></em>\n",
      "<p class=\"rank_tx\">미드나이트</p>\n",
      "</a>\n",
      "3 <a href=\"/movie/bi/mi/basic.nhn?code=189368\">\n",
      "<em class=\"rank_07\"><span class=\"blind\">7위</span></em>\n",
      "<p class=\"rank_tx\">콰이어트 플레이스 2</p>\n",
      "</a>\n",
      "3 <a href=\"/movie/bi/mi/basic.nhn?code=193327\">\n",
      "<em class=\"rank_08\"><span class=\"blind\">8위</span></em>\n",
      "<p class=\"rank_tx\">빛나는 순간</p>\n",
      "</a>\n",
      "3 <a href=\"/movie/bi/mi/basic.nhn?code=204782\">\n",
      "<em class=\"rank_09\"><span class=\"blind\">9위</span></em>\n",
      "<p class=\"rank_tx\">체르노빌 1986</p>\n",
      "</a>\n",
      "3 <a href=\"/movie/bi/mi/basic.nhn?code=18878\">\n",
      "<em class=\"rank_10\"><span class=\"blind\">10위</span></em>\n",
      "<p class=\"rank_tx\">이보다 더 좋을 순 없다</p>\n",
      "</a>\n"
     ]
    },
    {
     "output_type": "stream",
     "name": "stdout",
     "text": [
      "4 <a href=\"#\" onclick=\"clickcr(this, 'rli.title', '', '', event); showReviewDetail(4201988)\"><strong>영화드레스메이커보고왔어요!</strong></a>\n",
      "4 <a href=\"#\" onclick=\"clickcr(this, 'rli.title', '', '', event); showReviewDetail(4185981)\"><strong>※약스포포함※ 흔하고 뻔한 복수극은 가라!!! &lt;드레스메이커&gt;</strong></a>\n",
      "4 <a href=\"#\" onclick=\"clickcr(this, 'rli.title', '', '', event); showReviewDetail(4585804)\"><strong>이슈메이커, 트러블메이커, 드레스메이커 틸리.</strong></a>\n",
      "4 <a href=\"#\" onclick=\"clickcr(this, 'rli.title', '', '', event); showReviewDetail(4219738)\"><strong>[드레스메이커] 환상동화 같은 이야기</strong></a>\n",
      "4 <a href=\"#\" onclick=\"clickcr(this, 'rli.title', '', '', event); showReviewDetail(4203465)\"><strong>영화 드레스 메이커 (스포 有) - 열정적이고 시원하면서 낭만적인 마지막 장면</strong></a>\n",
      "4 <a href=\"#\" onclick=\"clickcr(this, 'rli.title', '', '', event); showReviewDetail(4210545)\"><strong>[드레스메이커] 순박하지 않은 시골 사람들의 무서운 이야기</strong></a>\n",
      "4 <a href=\"#\" onclick=\"clickcr(this, 'rli.title', '', '', event); showReviewDetail(4202173)\"><strong>드레스메이커-화려함과 잔혹함의 조화</strong></a>\n",
      "4 <a href=\"#\" onclick=\"clickcr(this, 'rli.title', '', '', event); showReviewDetail(4204268)\"><strong>극적인 반전과 복수..그러나 왠지 시원하지 않다 (드레스메이커, 2016)</strong></a>\n",
      "4 <a href=\"#\" onclick=\"clickcr(this, 'rli.title', '', '', event); showReviewDetail(4211337)\"><strong>드레스메이커 (2015): 화끈한 언니가 왔다. </strong></a>\n",
      "4 <a href=\"#\" onclick=\"clickcr(this, 'rli.title', '', '', event); showReviewDetail(4233006)\"><strong>드레스 메이커 (The Dressmaker, 2015), 소소한 눈요기와 추리극의 매력...게다가 연기까지 훌륭하다...</strong></a>\n",
      "5 <a href=\"#\" onclick=\"clickcr(this, 'rli.title', '', '', event); showReviewDetail(4205581)\"><strong>The Dressmaker (2015)</strong></a>\n",
      "5 <a href=\"#\" onclick=\"clickcr(this, 'rli.title', '', '', event); showReviewDetail(4194394)\"><strong>드레스메이커(2016) _ 세상에서 가장 우아하고 화려한 복수극!</strong></a>\n",
      "5 <a href=\"#\" onclick=\"clickcr(this, 'rli.title', '', '', event); showReviewDetail(4199532)\"><strong>16.영화[드레스메이커]+시사회후기</strong></a>\n",
      "5 <a href=\"#\" onclick=\"clickcr(this, 'rli.title', '', '', event); showReviewDetail(4212012)\"><strong>드레스 메이커 (케이트 윈슬렛, 주디 데이비스) The Dressmaker</strong></a>\n",
      "5 <a href=\"#\" onclick=\"clickcr(this, 'rli.title', '', '', event); showReviewDetail(4192923)\"><strong>윈슬렛의 핏빛 눈물의 복수극</strong></a>\n",
      "5 <a href=\"#\" onclick=\"clickcr(this, 'rli.title', '', '', event); showReviewDetail(4209406)\"><strong>영화 후기) 드레스메이커</strong></a>\n",
      "5 <a href=\"#\" onclick=\"clickcr(this, 'rli.title', '', '', event); showReviewDetail(4193502)\"><strong>드레스 메이커</strong></a>\n",
      "5 <a href=\"#\" onclick=\"clickcr(this, 'rli.title', '', '', event); showReviewDetail(4270619)\"><strong>DRESS MAKER 2015</strong></a>\n",
      "5 <a href=\"#\" onclick=\"clickcr(this, 'rli.title', '', '', event); showReviewDetail(4747862)\"><strong>가장 화려하고 우아한 복수극, 드레스메이커, The Dressmaker,2015 </strong></a>\n",
      "5 <a href=\"#\" onclick=\"clickcr(this, 'rli.title', '', '', event); showReviewDetail(4201424)\"><strong>영화&gt;화려한 패션 속 통쾌한 복수극, '드레스메이커(The Dressmaker)'</strong></a>\n",
      "6 <a href=\"#\" onclick=\"clickcr(this, 'rli.title', '', '', event); showReviewDetail(4198186)\"><strong>[드레스메이커] 화려한 의상 뒤에 감춰진 한 여자의 복수를그린 블랙코미디!</strong></a>\n",
      "6 <a href=\"#\" onclick=\"clickcr(this, 'rli.title', '', '', event); showReviewDetail(4201355)\"><strong>[리뷰_드레스메이커] 그녀의 복수는 무좌~~ 원작과 비교하면 재미 업!!!</strong></a>\n",
      "6 <a href=\"#\" onclick=\"clickcr(this, 'rli.title', '', '', event); showReviewDetail(4614876)\"><strong>드레스메이커</strong></a>\n",
      "6 <a href=\"#\" onclick=\"clickcr(this, 'rli.title', '', '', event); showReviewDetail(4203487)\"><strong>오롯이 픽션으로써의 픽션이 주는 쾌감, &lt;드레스 메이커&gt;</strong></a>\n",
      "6 <a href=\"#\" onclick=\"clickcr(this, 'rli.title', '', '', event); showReviewDetail(4221074)\"><strong>드레스 메이커 (2015)</strong></a>\n",
      "6 <a href=\"#\" onclick=\"clickcr(this, 'rli.title', '', '', event); showReviewDetail(4205372)\"><strong>드레스메이커-케이트윈슬렛씨의 연기와 통쾌한 무언가가 괜찮았다</strong></a>\n",
      "6 <a href=\"#\" onclick=\"clickcr(this, 'rli.title', '', '', event); showReviewDetail(4205265)\"><strong>영화 &lt;드레스메이커&gt;</strong></a>\n",
      "6 <a href=\"#\" onclick=\"clickcr(this, 'rli.title', '', '', event); showReviewDetail(4203230)\"><strong>드레스메이커 : 뮤지컬로 만든다면?</strong></a>\n",
      "6 <a href=\"#\" onclick=\"clickcr(this, 'rli.title', '', '', event); showReviewDetail(4283389)\"><strong>화려한 복수~ 드레스 메이커</strong></a>\n",
      "6 <a href=\"#\" onclick=\"clickcr(this, 'rli.title', '', '', event); showReviewDetail(4296770)\"><strong>[원작이 있는 영화] 드레스메이커</strong></a>\n"
     ]
    }
   ],
   "metadata": {
    "collapsed": true
   }
  },
  {
   "cell_type": "code",
   "execution_count": 68,
   "source": [
    "#리뷰 고유번호 구하기 / 오류 뜨는 이유??\r\n",
    "url = \"https://movie.naver.com/movie/bi/mi/review.nhn?code=140265&page=13\"\r\n",
    "req = requests.get(url)\r\n",
    "soup = BeautifulSoup(req.text, \"html.parser\")\r\n",
    "print(\"The href links are :\")\r\n",
    "\r\n",
    "list2 = []\r\n",
    "for href in soup.find(\"ul\", class_=\"rvw_list_area\").find_all(\"li\"):\r\n",
    "    #list = href.find(\"a\").split('showReviewDetail')\r\n",
    "    list = href.find(\"a\")\r\n",
    "    print(list)\r\n",
    "    list = re.findall('\\(([^)]+)',str(list))[1]\r\n",
    "    list2.append(list)\r\n",
    "print(list2)"
   ],
   "outputs": [
    {
     "output_type": "stream",
     "name": "stdout",
     "text": [
      "The href links are :\n",
      "<a href=\"#\" onclick=\"clickcr(this, 'rli.title', '', '', event); showReviewDetail(4212132)\"><strong>&lt;13 시간&gt;</strong></a>\n",
      "<a href=\"#\" onclick=\"clickcr(this, 'rli.title', '', '', event); showReviewDetail(4223711)\"><strong>영화\"13시간\" 보는 내내 숨쉴 수가 없습니다.</strong></a>\n",
      "<a href=\"#\" onclick=\"clickcr(this, 'rli.title', '', '', event); showReviewDetail(4229769)\"><strong>영화 13시간 X 아, 짜증나 </strong></a>\n",
      "<a href=\"#\" onclick=\"clickcr(this, 'rli.title', '', '', event); showReviewDetail(4219558)\"><strong>마이클 베이 &lt;더록&gt; 시절 초심으로 돌아오는건가?</strong></a>\n",
      "<a href=\"#\" onclick=\"clickcr(this, 'rli.title', '', '', event); showReviewDetail(4187225)\"><strong>영화 &lt;13시간&gt; 예고편</strong></a>\n",
      "['4212132', '4223711', '4229769', '4219558', '4187225']\n"
     ]
    }
   ],
   "metadata": {
    "scrolled": true
   }
  },
  {
   "cell_type": "code",
   "execution_count": 53,
   "source": [
    "review_list = []\n",
    "titles = [] # 칼럼 생성 위해서\n",
    "cnt = 0\n",
    "#87163 /620\n",
    "\n",
    "for j in range(1, 50) : \n",
    "    url = f'https://movie.naver.com/movie/bi/mi/review.nhn?code={87163}&page={j}'\n",
    "    req = requests.get(url)\n",
    "    soup = BeautifulSoup(req.text, \"html.parser\")\n",
    "    \n",
    "    print(j, '페이지')\n",
    "    for href in soup.find(\"ul\", class_=\"rvw_list_area\").find_all(\"li\"):\n",
    "        #list = href.find(\"a\").split('showReviewDetail')\n",
    "        try :\n",
    "            list = href.find(\"a\")\n",
    "            list = re.findall('\\(([^)]+)',str(list))[1]\n",
    "            print(list)\n",
    "            review_num_list.append(list)\n",
    "        except :\n",
    "            continue\n"
   ],
   "outputs": [
    {
     "output_type": "stream",
     "name": "stdout",
     "text": [
      "1 페이지\n",
      "2990153\n",
      "2992055\n",
      "2774467\n",
      "2993777\n",
      "2551108\n",
      "4353345\n",
      "2626153\n",
      "2629025\n",
      "3578558\n",
      "3059776\n",
      "2 페이지\n",
      "3809512\n",
      "2626994\n",
      "3550350\n",
      "3829650\n",
      "2562529\n",
      "2626322\n",
      "2515636\n",
      "2597501\n",
      "3591449\n",
      "3450113\n",
      "3 페이지\n",
      "2997032\n",
      "2991777\n",
      "2993502\n",
      "2989424\n",
      "4260827\n",
      "2993780\n",
      "2990149\n",
      "2990957\n",
      "3028143\n",
      "2630178\n",
      "4 페이지\n",
      "2969773\n",
      "2988495\n",
      "3440376\n",
      "5 페이지\n",
      "2992436\n",
      "4341644\n",
      "3012113\n",
      "4176305\n",
      "4566260\n",
      "4581685\n",
      "4341178\n",
      "4158238\n",
      "4391727\n",
      "2711530\n",
      "6 페이지\n",
      "2994510\n",
      "2992403\n",
      "2811596\n",
      "2989877\n",
      "3117822\n",
      "3056301\n",
      "2813634\n",
      "2993341\n",
      "2999793\n",
      "3146993\n",
      "7 페이지\n",
      "3000826\n",
      "3264345\n",
      "3026091\n",
      "3097548\n",
      "3017327\n",
      "3044123\n",
      "4174607\n",
      "4426657\n",
      "4131752\n",
      "4651041\n",
      "8 페이지\n",
      "2659383\n",
      "2991976\n",
      "2710221\n",
      "2979690\n",
      "4587518\n",
      "2994971\n",
      "2992063\n",
      "2989384\n",
      "3025185\n",
      "2989796\n",
      "9 페이지\n",
      "3619812\n",
      "3114630\n",
      "2992060\n",
      "3007306\n",
      "3170889\n",
      "3002048\n",
      "3238035\n",
      "2986628\n",
      "3021337\n",
      "2997039\n",
      "10 페이지\n",
      "2998722\n",
      "3205257\n",
      "3002918\n",
      "3004476\n",
      "3051467\n",
      "3271629\n",
      "3491311\n",
      "3077623\n",
      "3800710\n",
      "3548921\n",
      "11 페이지\n",
      "4236900\n",
      "4160994\n",
      "4145715\n",
      "4277174\n",
      "4656751\n",
      "3007903\n",
      "2989737\n",
      "2994466\n",
      "3009730\n",
      "2992959\n",
      "12 페이지\n",
      "2991612\n",
      "3006487\n",
      "3247834\n",
      "3013027\n",
      "3201801\n",
      "2996565\n",
      "2994783\n",
      "3239208\n",
      "3192501\n",
      "3098793\n",
      "13 페이지\n",
      "2734996\n",
      "3039981\n",
      "3755096\n",
      "3525150\n",
      "4587648\n",
      "4301260\n",
      "4301680\n",
      "4755794\n",
      "2822914\n",
      "2992244\n",
      "14 페이지\n",
      "2981191\n",
      "3221194\n",
      "3010989\n",
      "3048214\n",
      "3034797\n",
      "3595225\n",
      "3777802\n",
      "4577533\n",
      "4121865\n",
      "3098163\n",
      "15 페이지\n",
      "4521595\n",
      "4751642\n",
      "3464413\n",
      "2626797\n",
      "2989485\n",
      "2990160\n",
      "3479285\n",
      "2670679\n",
      "2991098\n",
      "3467978\n",
      "16 페이지\n",
      "2961636\n",
      "2989861\n",
      "2816820\n",
      "2672785\n",
      "2794842\n",
      "2634209\n",
      "3330849\n",
      "3305204\n",
      "2626930\n",
      "3142240\n",
      "17 페이지\n",
      "2630035\n",
      "2990822\n",
      "3049896\n",
      "3073777\n",
      "2998284\n",
      "2804067\n",
      "2695955\n",
      "3007185\n",
      "2993727\n",
      "2690901\n",
      "18 페이지\n",
      "3288252\n",
      "2989559\n",
      "2956767\n",
      "3216040\n",
      "3248592\n",
      "2991066\n",
      "3556189\n",
      "3251615\n",
      "3036411\n",
      "3005773\n",
      "19 페이지\n",
      "3337249\n",
      "3244051\n",
      "3005409\n",
      "3242374\n",
      "2993320\n",
      "3384385\n",
      "3020337\n",
      "2982026\n",
      "3118523\n",
      "3001254\n",
      "20 페이지\n",
      "2993516\n",
      "2992962\n",
      "3080763\n",
      "3003950\n",
      "2972015\n",
      "2764345\n",
      "3627521\n",
      "3225603\n",
      "3075157\n",
      "2991904\n",
      "21 페이지\n",
      "2818444\n",
      "2708711\n",
      "3546124\n",
      "3027582\n",
      "3008633\n",
      "2965924\n",
      "3604859\n",
      "3306767\n",
      "3160005\n",
      "2971324\n"
     ]
    },
    {
     "output_type": "error",
     "ename": "KeyboardInterrupt",
     "evalue": "",
     "traceback": [
      "\u001b[1;31m---------------------------------------------------------------------------\u001b[0m",
      "\u001b[1;31mKeyboardInterrupt\u001b[0m                         Traceback (most recent call last)",
      "\u001b[1;32m<ipython-input-53-b0642277618a>\u001b[0m in \u001b[0;36m<module>\u001b[1;34m\u001b[0m\n\u001b[0;32m      6\u001b[0m \u001b[1;32mfor\u001b[0m \u001b[0mj\u001b[0m \u001b[1;32min\u001b[0m \u001b[0mrange\u001b[0m\u001b[1;33m(\u001b[0m\u001b[1;36m1\u001b[0m\u001b[1;33m,\u001b[0m \u001b[1;36m50\u001b[0m\u001b[1;33m)\u001b[0m \u001b[1;33m:\u001b[0m\u001b[1;33m\u001b[0m\u001b[1;33m\u001b[0m\u001b[0m\n\u001b[0;32m      7\u001b[0m     \u001b[0murl\u001b[0m \u001b[1;33m=\u001b[0m \u001b[1;34mf'https://movie.naver.com/movie/bi/mi/review.nhn?code={87163}&page={j}'\u001b[0m\u001b[1;33m\u001b[0m\u001b[1;33m\u001b[0m\u001b[0m\n\u001b[1;32m----> 8\u001b[1;33m     \u001b[0mreq\u001b[0m \u001b[1;33m=\u001b[0m \u001b[0mrequests\u001b[0m\u001b[1;33m.\u001b[0m\u001b[0mget\u001b[0m\u001b[1;33m(\u001b[0m\u001b[0murl\u001b[0m\u001b[1;33m)\u001b[0m\u001b[1;33m\u001b[0m\u001b[1;33m\u001b[0m\u001b[0m\n\u001b[0m\u001b[0;32m      9\u001b[0m     \u001b[0msoup\u001b[0m \u001b[1;33m=\u001b[0m \u001b[0mBeautifulSoup\u001b[0m\u001b[1;33m(\u001b[0m\u001b[0mreq\u001b[0m\u001b[1;33m.\u001b[0m\u001b[0mtext\u001b[0m\u001b[1;33m,\u001b[0m \u001b[1;34m\"html.parser\"\u001b[0m\u001b[1;33m)\u001b[0m\u001b[1;33m\u001b[0m\u001b[1;33m\u001b[0m\u001b[0m\n\u001b[0;32m     10\u001b[0m \u001b[1;33m\u001b[0m\u001b[0m\n",
      "\u001b[1;32mC:\\ProgramData\\Anaconda3\\lib\\site-packages\\requests\\api.py\u001b[0m in \u001b[0;36mget\u001b[1;34m(url, params, **kwargs)\u001b[0m\n\u001b[0;32m     74\u001b[0m \u001b[1;33m\u001b[0m\u001b[0m\n\u001b[0;32m     75\u001b[0m     \u001b[0mkwargs\u001b[0m\u001b[1;33m.\u001b[0m\u001b[0msetdefault\u001b[0m\u001b[1;33m(\u001b[0m\u001b[1;34m'allow_redirects'\u001b[0m\u001b[1;33m,\u001b[0m \u001b[1;32mTrue\u001b[0m\u001b[1;33m)\u001b[0m\u001b[1;33m\u001b[0m\u001b[1;33m\u001b[0m\u001b[0m\n\u001b[1;32m---> 76\u001b[1;33m     \u001b[1;32mreturn\u001b[0m \u001b[0mrequest\u001b[0m\u001b[1;33m(\u001b[0m\u001b[1;34m'get'\u001b[0m\u001b[1;33m,\u001b[0m \u001b[0murl\u001b[0m\u001b[1;33m,\u001b[0m \u001b[0mparams\u001b[0m\u001b[1;33m=\u001b[0m\u001b[0mparams\u001b[0m\u001b[1;33m,\u001b[0m \u001b[1;33m**\u001b[0m\u001b[0mkwargs\u001b[0m\u001b[1;33m)\u001b[0m\u001b[1;33m\u001b[0m\u001b[1;33m\u001b[0m\u001b[0m\n\u001b[0m\u001b[0;32m     77\u001b[0m \u001b[1;33m\u001b[0m\u001b[0m\n\u001b[0;32m     78\u001b[0m \u001b[1;33m\u001b[0m\u001b[0m\n",
      "\u001b[1;32mC:\\ProgramData\\Anaconda3\\lib\\site-packages\\requests\\api.py\u001b[0m in \u001b[0;36mrequest\u001b[1;34m(method, url, **kwargs)\u001b[0m\n\u001b[0;32m     59\u001b[0m     \u001b[1;31m# cases, and look like a memory leak in others.\u001b[0m\u001b[1;33m\u001b[0m\u001b[1;33m\u001b[0m\u001b[1;33m\u001b[0m\u001b[0m\n\u001b[0;32m     60\u001b[0m     \u001b[1;32mwith\u001b[0m \u001b[0msessions\u001b[0m\u001b[1;33m.\u001b[0m\u001b[0mSession\u001b[0m\u001b[1;33m(\u001b[0m\u001b[1;33m)\u001b[0m \u001b[1;32mas\u001b[0m \u001b[0msession\u001b[0m\u001b[1;33m:\u001b[0m\u001b[1;33m\u001b[0m\u001b[1;33m\u001b[0m\u001b[0m\n\u001b[1;32m---> 61\u001b[1;33m         \u001b[1;32mreturn\u001b[0m \u001b[0msession\u001b[0m\u001b[1;33m.\u001b[0m\u001b[0mrequest\u001b[0m\u001b[1;33m(\u001b[0m\u001b[0mmethod\u001b[0m\u001b[1;33m=\u001b[0m\u001b[0mmethod\u001b[0m\u001b[1;33m,\u001b[0m \u001b[0murl\u001b[0m\u001b[1;33m=\u001b[0m\u001b[0murl\u001b[0m\u001b[1;33m,\u001b[0m \u001b[1;33m**\u001b[0m\u001b[0mkwargs\u001b[0m\u001b[1;33m)\u001b[0m\u001b[1;33m\u001b[0m\u001b[1;33m\u001b[0m\u001b[0m\n\u001b[0m\u001b[0;32m     62\u001b[0m \u001b[1;33m\u001b[0m\u001b[0m\n\u001b[0;32m     63\u001b[0m \u001b[1;33m\u001b[0m\u001b[0m\n",
      "\u001b[1;32mC:\\ProgramData\\Anaconda3\\lib\\site-packages\\requests\\sessions.py\u001b[0m in \u001b[0;36mrequest\u001b[1;34m(self, method, url, params, data, headers, cookies, files, auth, timeout, allow_redirects, proxies, hooks, stream, verify, cert, json)\u001b[0m\n\u001b[0;32m    528\u001b[0m         }\n\u001b[0;32m    529\u001b[0m         \u001b[0msend_kwargs\u001b[0m\u001b[1;33m.\u001b[0m\u001b[0mupdate\u001b[0m\u001b[1;33m(\u001b[0m\u001b[0msettings\u001b[0m\u001b[1;33m)\u001b[0m\u001b[1;33m\u001b[0m\u001b[1;33m\u001b[0m\u001b[0m\n\u001b[1;32m--> 530\u001b[1;33m         \u001b[0mresp\u001b[0m \u001b[1;33m=\u001b[0m \u001b[0mself\u001b[0m\u001b[1;33m.\u001b[0m\u001b[0msend\u001b[0m\u001b[1;33m(\u001b[0m\u001b[0mprep\u001b[0m\u001b[1;33m,\u001b[0m \u001b[1;33m**\u001b[0m\u001b[0msend_kwargs\u001b[0m\u001b[1;33m)\u001b[0m\u001b[1;33m\u001b[0m\u001b[1;33m\u001b[0m\u001b[0m\n\u001b[0m\u001b[0;32m    531\u001b[0m \u001b[1;33m\u001b[0m\u001b[0m\n\u001b[0;32m    532\u001b[0m         \u001b[1;32mreturn\u001b[0m \u001b[0mresp\u001b[0m\u001b[1;33m\u001b[0m\u001b[1;33m\u001b[0m\u001b[0m\n",
      "\u001b[1;32mC:\\ProgramData\\Anaconda3\\lib\\site-packages\\requests\\sessions.py\u001b[0m in \u001b[0;36msend\u001b[1;34m(self, request, **kwargs)\u001b[0m\n\u001b[0;32m    641\u001b[0m \u001b[1;33m\u001b[0m\u001b[0m\n\u001b[0;32m    642\u001b[0m         \u001b[1;31m# Send the request\u001b[0m\u001b[1;33m\u001b[0m\u001b[1;33m\u001b[0m\u001b[1;33m\u001b[0m\u001b[0m\n\u001b[1;32m--> 643\u001b[1;33m         \u001b[0mr\u001b[0m \u001b[1;33m=\u001b[0m \u001b[0madapter\u001b[0m\u001b[1;33m.\u001b[0m\u001b[0msend\u001b[0m\u001b[1;33m(\u001b[0m\u001b[0mrequest\u001b[0m\u001b[1;33m,\u001b[0m \u001b[1;33m**\u001b[0m\u001b[0mkwargs\u001b[0m\u001b[1;33m)\u001b[0m\u001b[1;33m\u001b[0m\u001b[1;33m\u001b[0m\u001b[0m\n\u001b[0m\u001b[0;32m    644\u001b[0m \u001b[1;33m\u001b[0m\u001b[0m\n\u001b[0;32m    645\u001b[0m         \u001b[1;31m# Total elapsed time of the request (approximately)\u001b[0m\u001b[1;33m\u001b[0m\u001b[1;33m\u001b[0m\u001b[1;33m\u001b[0m\u001b[0m\n",
      "\u001b[1;32mC:\\ProgramData\\Anaconda3\\lib\\site-packages\\requests\\adapters.py\u001b[0m in \u001b[0;36msend\u001b[1;34m(self, request, stream, timeout, verify, cert, proxies)\u001b[0m\n\u001b[0;32m    437\u001b[0m         \u001b[1;32mtry\u001b[0m\u001b[1;33m:\u001b[0m\u001b[1;33m\u001b[0m\u001b[1;33m\u001b[0m\u001b[0m\n\u001b[0;32m    438\u001b[0m             \u001b[1;32mif\u001b[0m \u001b[1;32mnot\u001b[0m \u001b[0mchunked\u001b[0m\u001b[1;33m:\u001b[0m\u001b[1;33m\u001b[0m\u001b[1;33m\u001b[0m\u001b[0m\n\u001b[1;32m--> 439\u001b[1;33m                 resp = conn.urlopen(\n\u001b[0m\u001b[0;32m    440\u001b[0m                     \u001b[0mmethod\u001b[0m\u001b[1;33m=\u001b[0m\u001b[0mrequest\u001b[0m\u001b[1;33m.\u001b[0m\u001b[0mmethod\u001b[0m\u001b[1;33m,\u001b[0m\u001b[1;33m\u001b[0m\u001b[1;33m\u001b[0m\u001b[0m\n\u001b[0;32m    441\u001b[0m                     \u001b[0murl\u001b[0m\u001b[1;33m=\u001b[0m\u001b[0murl\u001b[0m\u001b[1;33m,\u001b[0m\u001b[1;33m\u001b[0m\u001b[1;33m\u001b[0m\u001b[0m\n",
      "\u001b[1;32mC:\\ProgramData\\Anaconda3\\lib\\site-packages\\urllib3\\connectionpool.py\u001b[0m in \u001b[0;36murlopen\u001b[1;34m(self, method, url, body, headers, retries, redirect, assert_same_host, timeout, pool_timeout, release_conn, chunked, body_pos, **response_kw)\u001b[0m\n\u001b[0;32m    668\u001b[0m \u001b[1;33m\u001b[0m\u001b[0m\n\u001b[0;32m    669\u001b[0m             \u001b[1;31m# Make the request on the httplib connection object.\u001b[0m\u001b[1;33m\u001b[0m\u001b[1;33m\u001b[0m\u001b[1;33m\u001b[0m\u001b[0m\n\u001b[1;32m--> 670\u001b[1;33m             httplib_response = self._make_request(\n\u001b[0m\u001b[0;32m    671\u001b[0m                 \u001b[0mconn\u001b[0m\u001b[1;33m,\u001b[0m\u001b[1;33m\u001b[0m\u001b[1;33m\u001b[0m\u001b[0m\n\u001b[0;32m    672\u001b[0m                 \u001b[0mmethod\u001b[0m\u001b[1;33m,\u001b[0m\u001b[1;33m\u001b[0m\u001b[1;33m\u001b[0m\u001b[0m\n",
      "\u001b[1;32mC:\\ProgramData\\Anaconda3\\lib\\site-packages\\urllib3\\connectionpool.py\u001b[0m in \u001b[0;36m_make_request\u001b[1;34m(self, conn, method, url, timeout, chunked, **httplib_request_kw)\u001b[0m\n\u001b[0;32m    424\u001b[0m                     \u001b[1;31m# Python 3 (including for exceptions like SystemExit).\u001b[0m\u001b[1;33m\u001b[0m\u001b[1;33m\u001b[0m\u001b[1;33m\u001b[0m\u001b[0m\n\u001b[0;32m    425\u001b[0m                     \u001b[1;31m# Otherwise it looks like a bug in the code.\u001b[0m\u001b[1;33m\u001b[0m\u001b[1;33m\u001b[0m\u001b[1;33m\u001b[0m\u001b[0m\n\u001b[1;32m--> 426\u001b[1;33m                     \u001b[0msix\u001b[0m\u001b[1;33m.\u001b[0m\u001b[0mraise_from\u001b[0m\u001b[1;33m(\u001b[0m\u001b[0me\u001b[0m\u001b[1;33m,\u001b[0m \u001b[1;32mNone\u001b[0m\u001b[1;33m)\u001b[0m\u001b[1;33m\u001b[0m\u001b[1;33m\u001b[0m\u001b[0m\n\u001b[0m\u001b[0;32m    427\u001b[0m         \u001b[1;32mexcept\u001b[0m \u001b[1;33m(\u001b[0m\u001b[0mSocketTimeout\u001b[0m\u001b[1;33m,\u001b[0m \u001b[0mBaseSSLError\u001b[0m\u001b[1;33m,\u001b[0m \u001b[0mSocketError\u001b[0m\u001b[1;33m)\u001b[0m \u001b[1;32mas\u001b[0m \u001b[0me\u001b[0m\u001b[1;33m:\u001b[0m\u001b[1;33m\u001b[0m\u001b[1;33m\u001b[0m\u001b[0m\n\u001b[0;32m    428\u001b[0m             \u001b[0mself\u001b[0m\u001b[1;33m.\u001b[0m\u001b[0m_raise_timeout\u001b[0m\u001b[1;33m(\u001b[0m\u001b[0merr\u001b[0m\u001b[1;33m=\u001b[0m\u001b[0me\u001b[0m\u001b[1;33m,\u001b[0m \u001b[0murl\u001b[0m\u001b[1;33m=\u001b[0m\u001b[0murl\u001b[0m\u001b[1;33m,\u001b[0m \u001b[0mtimeout_value\u001b[0m\u001b[1;33m=\u001b[0m\u001b[0mread_timeout\u001b[0m\u001b[1;33m)\u001b[0m\u001b[1;33m\u001b[0m\u001b[1;33m\u001b[0m\u001b[0m\n",
      "\u001b[1;32mC:\\ProgramData\\Anaconda3\\lib\\site-packages\\urllib3\\packages\\six.py\u001b[0m in \u001b[0;36mraise_from\u001b[1;34m(value, from_value)\u001b[0m\n",
      "\u001b[1;32mC:\\ProgramData\\Anaconda3\\lib\\site-packages\\urllib3\\connectionpool.py\u001b[0m in \u001b[0;36m_make_request\u001b[1;34m(self, conn, method, url, timeout, chunked, **httplib_request_kw)\u001b[0m\n\u001b[0;32m    419\u001b[0m                 \u001b[1;31m# Python 3\u001b[0m\u001b[1;33m\u001b[0m\u001b[1;33m\u001b[0m\u001b[1;33m\u001b[0m\u001b[0m\n\u001b[0;32m    420\u001b[0m                 \u001b[1;32mtry\u001b[0m\u001b[1;33m:\u001b[0m\u001b[1;33m\u001b[0m\u001b[1;33m\u001b[0m\u001b[0m\n\u001b[1;32m--> 421\u001b[1;33m                     \u001b[0mhttplib_response\u001b[0m \u001b[1;33m=\u001b[0m \u001b[0mconn\u001b[0m\u001b[1;33m.\u001b[0m\u001b[0mgetresponse\u001b[0m\u001b[1;33m(\u001b[0m\u001b[1;33m)\u001b[0m\u001b[1;33m\u001b[0m\u001b[1;33m\u001b[0m\u001b[0m\n\u001b[0m\u001b[0;32m    422\u001b[0m                 \u001b[1;32mexcept\u001b[0m \u001b[0mBaseException\u001b[0m \u001b[1;32mas\u001b[0m \u001b[0me\u001b[0m\u001b[1;33m:\u001b[0m\u001b[1;33m\u001b[0m\u001b[1;33m\u001b[0m\u001b[0m\n\u001b[0;32m    423\u001b[0m                     \u001b[1;31m# Remove the TypeError from the exception chain in\u001b[0m\u001b[1;33m\u001b[0m\u001b[1;33m\u001b[0m\u001b[1;33m\u001b[0m\u001b[0m\n",
      "\u001b[1;32mC:\\ProgramData\\Anaconda3\\lib\\http\\client.py\u001b[0m in \u001b[0;36mgetresponse\u001b[1;34m(self)\u001b[0m\n\u001b[0;32m   1345\u001b[0m         \u001b[1;32mtry\u001b[0m\u001b[1;33m:\u001b[0m\u001b[1;33m\u001b[0m\u001b[1;33m\u001b[0m\u001b[0m\n\u001b[0;32m   1346\u001b[0m             \u001b[1;32mtry\u001b[0m\u001b[1;33m:\u001b[0m\u001b[1;33m\u001b[0m\u001b[1;33m\u001b[0m\u001b[0m\n\u001b[1;32m-> 1347\u001b[1;33m                 \u001b[0mresponse\u001b[0m\u001b[1;33m.\u001b[0m\u001b[0mbegin\u001b[0m\u001b[1;33m(\u001b[0m\u001b[1;33m)\u001b[0m\u001b[1;33m\u001b[0m\u001b[1;33m\u001b[0m\u001b[0m\n\u001b[0m\u001b[0;32m   1348\u001b[0m             \u001b[1;32mexcept\u001b[0m \u001b[0mConnectionError\u001b[0m\u001b[1;33m:\u001b[0m\u001b[1;33m\u001b[0m\u001b[1;33m\u001b[0m\u001b[0m\n\u001b[0;32m   1349\u001b[0m                 \u001b[0mself\u001b[0m\u001b[1;33m.\u001b[0m\u001b[0mclose\u001b[0m\u001b[1;33m(\u001b[0m\u001b[1;33m)\u001b[0m\u001b[1;33m\u001b[0m\u001b[1;33m\u001b[0m\u001b[0m\n",
      "\u001b[1;32mC:\\ProgramData\\Anaconda3\\lib\\http\\client.py\u001b[0m in \u001b[0;36mbegin\u001b[1;34m(self)\u001b[0m\n\u001b[0;32m    305\u001b[0m         \u001b[1;31m# read until we get a non-100 response\u001b[0m\u001b[1;33m\u001b[0m\u001b[1;33m\u001b[0m\u001b[1;33m\u001b[0m\u001b[0m\n\u001b[0;32m    306\u001b[0m         \u001b[1;32mwhile\u001b[0m \u001b[1;32mTrue\u001b[0m\u001b[1;33m:\u001b[0m\u001b[1;33m\u001b[0m\u001b[1;33m\u001b[0m\u001b[0m\n\u001b[1;32m--> 307\u001b[1;33m             \u001b[0mversion\u001b[0m\u001b[1;33m,\u001b[0m \u001b[0mstatus\u001b[0m\u001b[1;33m,\u001b[0m \u001b[0mreason\u001b[0m \u001b[1;33m=\u001b[0m \u001b[0mself\u001b[0m\u001b[1;33m.\u001b[0m\u001b[0m_read_status\u001b[0m\u001b[1;33m(\u001b[0m\u001b[1;33m)\u001b[0m\u001b[1;33m\u001b[0m\u001b[1;33m\u001b[0m\u001b[0m\n\u001b[0m\u001b[0;32m    308\u001b[0m             \u001b[1;32mif\u001b[0m \u001b[0mstatus\u001b[0m \u001b[1;33m!=\u001b[0m \u001b[0mCONTINUE\u001b[0m\u001b[1;33m:\u001b[0m\u001b[1;33m\u001b[0m\u001b[1;33m\u001b[0m\u001b[0m\n\u001b[0;32m    309\u001b[0m                 \u001b[1;32mbreak\u001b[0m\u001b[1;33m\u001b[0m\u001b[1;33m\u001b[0m\u001b[0m\n",
      "\u001b[1;32mC:\\ProgramData\\Anaconda3\\lib\\http\\client.py\u001b[0m in \u001b[0;36m_read_status\u001b[1;34m(self)\u001b[0m\n\u001b[0;32m    266\u001b[0m \u001b[1;33m\u001b[0m\u001b[0m\n\u001b[0;32m    267\u001b[0m     \u001b[1;32mdef\u001b[0m \u001b[0m_read_status\u001b[0m\u001b[1;33m(\u001b[0m\u001b[0mself\u001b[0m\u001b[1;33m)\u001b[0m\u001b[1;33m:\u001b[0m\u001b[1;33m\u001b[0m\u001b[1;33m\u001b[0m\u001b[0m\n\u001b[1;32m--> 268\u001b[1;33m         \u001b[0mline\u001b[0m \u001b[1;33m=\u001b[0m \u001b[0mstr\u001b[0m\u001b[1;33m(\u001b[0m\u001b[0mself\u001b[0m\u001b[1;33m.\u001b[0m\u001b[0mfp\u001b[0m\u001b[1;33m.\u001b[0m\u001b[0mreadline\u001b[0m\u001b[1;33m(\u001b[0m\u001b[0m_MAXLINE\u001b[0m \u001b[1;33m+\u001b[0m \u001b[1;36m1\u001b[0m\u001b[1;33m)\u001b[0m\u001b[1;33m,\u001b[0m \u001b[1;34m\"iso-8859-1\"\u001b[0m\u001b[1;33m)\u001b[0m\u001b[1;33m\u001b[0m\u001b[1;33m\u001b[0m\u001b[0m\n\u001b[0m\u001b[0;32m    269\u001b[0m         \u001b[1;32mif\u001b[0m \u001b[0mlen\u001b[0m\u001b[1;33m(\u001b[0m\u001b[0mline\u001b[0m\u001b[1;33m)\u001b[0m \u001b[1;33m>\u001b[0m \u001b[0m_MAXLINE\u001b[0m\u001b[1;33m:\u001b[0m\u001b[1;33m\u001b[0m\u001b[1;33m\u001b[0m\u001b[0m\n\u001b[0;32m    270\u001b[0m             \u001b[1;32mraise\u001b[0m \u001b[0mLineTooLong\u001b[0m\u001b[1;33m(\u001b[0m\u001b[1;34m\"status line\"\u001b[0m\u001b[1;33m)\u001b[0m\u001b[1;33m\u001b[0m\u001b[1;33m\u001b[0m\u001b[0m\n",
      "\u001b[1;32mC:\\ProgramData\\Anaconda3\\lib\\socket.py\u001b[0m in \u001b[0;36mreadinto\u001b[1;34m(self, b)\u001b[0m\n\u001b[0;32m    667\u001b[0m         \u001b[1;32mwhile\u001b[0m \u001b[1;32mTrue\u001b[0m\u001b[1;33m:\u001b[0m\u001b[1;33m\u001b[0m\u001b[1;33m\u001b[0m\u001b[0m\n\u001b[0;32m    668\u001b[0m             \u001b[1;32mtry\u001b[0m\u001b[1;33m:\u001b[0m\u001b[1;33m\u001b[0m\u001b[1;33m\u001b[0m\u001b[0m\n\u001b[1;32m--> 669\u001b[1;33m                 \u001b[1;32mreturn\u001b[0m \u001b[0mself\u001b[0m\u001b[1;33m.\u001b[0m\u001b[0m_sock\u001b[0m\u001b[1;33m.\u001b[0m\u001b[0mrecv_into\u001b[0m\u001b[1;33m(\u001b[0m\u001b[0mb\u001b[0m\u001b[1;33m)\u001b[0m\u001b[1;33m\u001b[0m\u001b[1;33m\u001b[0m\u001b[0m\n\u001b[0m\u001b[0;32m    670\u001b[0m             \u001b[1;32mexcept\u001b[0m \u001b[0mtimeout\u001b[0m\u001b[1;33m:\u001b[0m\u001b[1;33m\u001b[0m\u001b[1;33m\u001b[0m\u001b[0m\n\u001b[0;32m    671\u001b[0m                 \u001b[0mself\u001b[0m\u001b[1;33m.\u001b[0m\u001b[0m_timeout_occurred\u001b[0m \u001b[1;33m=\u001b[0m \u001b[1;32mTrue\u001b[0m\u001b[1;33m\u001b[0m\u001b[1;33m\u001b[0m\u001b[0m\n",
      "\u001b[1;32mC:\\ProgramData\\Anaconda3\\lib\\ssl.py\u001b[0m in \u001b[0;36mrecv_into\u001b[1;34m(self, buffer, nbytes, flags)\u001b[0m\n\u001b[0;32m   1239\u001b[0m                   \u001b[1;34m\"non-zero flags not allowed in calls to recv_into() on %s\"\u001b[0m \u001b[1;33m%\u001b[0m\u001b[1;33m\u001b[0m\u001b[1;33m\u001b[0m\u001b[0m\n\u001b[0;32m   1240\u001b[0m                   self.__class__)\n\u001b[1;32m-> 1241\u001b[1;33m             \u001b[1;32mreturn\u001b[0m \u001b[0mself\u001b[0m\u001b[1;33m.\u001b[0m\u001b[0mread\u001b[0m\u001b[1;33m(\u001b[0m\u001b[0mnbytes\u001b[0m\u001b[1;33m,\u001b[0m \u001b[0mbuffer\u001b[0m\u001b[1;33m)\u001b[0m\u001b[1;33m\u001b[0m\u001b[1;33m\u001b[0m\u001b[0m\n\u001b[0m\u001b[0;32m   1242\u001b[0m         \u001b[1;32melse\u001b[0m\u001b[1;33m:\u001b[0m\u001b[1;33m\u001b[0m\u001b[1;33m\u001b[0m\u001b[0m\n\u001b[0;32m   1243\u001b[0m             \u001b[1;32mreturn\u001b[0m \u001b[0msuper\u001b[0m\u001b[1;33m(\u001b[0m\u001b[1;33m)\u001b[0m\u001b[1;33m.\u001b[0m\u001b[0mrecv_into\u001b[0m\u001b[1;33m(\u001b[0m\u001b[0mbuffer\u001b[0m\u001b[1;33m,\u001b[0m \u001b[0mnbytes\u001b[0m\u001b[1;33m,\u001b[0m \u001b[0mflags\u001b[0m\u001b[1;33m)\u001b[0m\u001b[1;33m\u001b[0m\u001b[1;33m\u001b[0m\u001b[0m\n",
      "\u001b[1;32mC:\\ProgramData\\Anaconda3\\lib\\ssl.py\u001b[0m in \u001b[0;36mread\u001b[1;34m(self, len, buffer)\u001b[0m\n\u001b[0;32m   1097\u001b[0m         \u001b[1;32mtry\u001b[0m\u001b[1;33m:\u001b[0m\u001b[1;33m\u001b[0m\u001b[1;33m\u001b[0m\u001b[0m\n\u001b[0;32m   1098\u001b[0m             \u001b[1;32mif\u001b[0m \u001b[0mbuffer\u001b[0m \u001b[1;32mis\u001b[0m \u001b[1;32mnot\u001b[0m \u001b[1;32mNone\u001b[0m\u001b[1;33m:\u001b[0m\u001b[1;33m\u001b[0m\u001b[1;33m\u001b[0m\u001b[0m\n\u001b[1;32m-> 1099\u001b[1;33m                 \u001b[1;32mreturn\u001b[0m \u001b[0mself\u001b[0m\u001b[1;33m.\u001b[0m\u001b[0m_sslobj\u001b[0m\u001b[1;33m.\u001b[0m\u001b[0mread\u001b[0m\u001b[1;33m(\u001b[0m\u001b[0mlen\u001b[0m\u001b[1;33m,\u001b[0m \u001b[0mbuffer\u001b[0m\u001b[1;33m)\u001b[0m\u001b[1;33m\u001b[0m\u001b[1;33m\u001b[0m\u001b[0m\n\u001b[0m\u001b[0;32m   1100\u001b[0m             \u001b[1;32melse\u001b[0m\u001b[1;33m:\u001b[0m\u001b[1;33m\u001b[0m\u001b[1;33m\u001b[0m\u001b[0m\n\u001b[0;32m   1101\u001b[0m                 \u001b[1;32mreturn\u001b[0m \u001b[0mself\u001b[0m\u001b[1;33m.\u001b[0m\u001b[0m_sslobj\u001b[0m\u001b[1;33m.\u001b[0m\u001b[0mread\u001b[0m\u001b[1;33m(\u001b[0m\u001b[0mlen\u001b[0m\u001b[1;33m)\u001b[0m\u001b[1;33m\u001b[0m\u001b[1;33m\u001b[0m\u001b[0m\n",
      "\u001b[1;31mKeyboardInterrupt\u001b[0m: "
     ]
    }
   ],
   "metadata": {}
  }
 ],
 "metadata": {
  "kernelspec": {
   "display_name": "Python 3",
   "language": "python",
   "name": "python3"
  },
  "language_info": {
   "codemirror_mode": {
    "name": "ipython",
    "version": 3
   },
   "file_extension": ".py",
   "mimetype": "text/x-python",
   "name": "python",
   "nbconvert_exporter": "python",
   "pygments_lexer": "ipython3",
   "version": "3.8.5"
  },
  "toc": {
   "base_numbering": 1,
   "nav_menu": {},
   "number_sections": true,
   "sideBar": true,
   "skip_h1_title": false,
   "title_cell": "Table of Contents",
   "title_sidebar": "Contents",
   "toc_cell": false,
   "toc_position": {},
   "toc_section_display": true,
   "toc_window_display": false
  }
 },
 "nbformat": 4,
 "nbformat_minor": 4
}